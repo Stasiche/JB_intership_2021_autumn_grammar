{
 "cells": [
  {
   "cell_type": "code",
   "execution_count": 1,
   "id": "immediate-curve",
   "metadata": {},
   "outputs": [],
   "source": [
    "import pandas as pd\n",
    "import numpy as np\n",
    "import os\n",
    "from os.path import join\n",
    "\n",
    "from sklearn.model_selection import train_test_split\n",
    "\n",
    "from sklearn.feature_extraction.text import TfidfVectorizer\n",
    "\n",
    "from sklearn.naive_bayes import MultinomialNB\n",
    "from sklearn.ensemble import RandomForestClassifier\n",
    "from sklearn.svm import SVC\n",
    "\n",
    "from sklearn.metrics import plot_confusion_matrix\n",
    "from sklearn.metrics import classification_report\n",
    "from sklearn.metrics import matthews_corrcoef\n",
    "\n",
    "from tqdm.notebook import tqdm"
   ]
  },
  {
   "cell_type": "code",
   "execution_count": 2,
   "id": "basic-sound",
   "metadata": {},
   "outputs": [],
   "source": [
    "from sklearn.feature_extraction.text import CountVectorizer\n",
    "from sklearn.feature_extraction.text import TfidfTransformer\n",
    "from sklearn.linear_model import SGDClassifier\n",
    "from sklearn.model_selection import GridSearchCV\n",
    "from sklearn.pipeline import Pipeline\n",
    "\n",
    "from sklearn.model_selection import StratifiedKFold"
   ]
  },
  {
   "cell_type": "code",
   "execution_count": 3,
   "id": "military-address",
   "metadata": {},
   "outputs": [],
   "source": [
    "import nltk\n",
    "from nltk.stem.porter import PorterStemmer\n",
    "from nltk.stem import WordNetLemmatizer\n",
    "\n",
    "from nltk.corpus import stopwords"
   ]
  },
  {
   "cell_type": "code",
   "execution_count": 4,
   "id": "reduced-french",
   "metadata": {},
   "outputs": [],
   "source": [
    "import youtokentome as yttm"
   ]
  },
  {
   "cell_type": "code",
   "execution_count": 5,
   "id": "athletic-pound",
   "metadata": {},
   "outputs": [],
   "source": [
    "data_1 = pd.read_csv('data/SPAM text message 20170820 - Data.csv', index_col='Category').rename(columns={'Message':'text'},)\n",
    "data_2 = pd.read_csv('data/spam.csv', index_col='v1')[['v2']].rename(columns={'v2':'text'})\n",
    "data_3 = pd.read_csv('data/spam_ham_dataset.csv', index_col='label')[['text']]"
   ]
  },
  {
   "cell_type": "code",
   "execution_count": 20,
   "id": "alike-geography",
   "metadata": {},
   "outputs": [],
   "source": [
    "data_3.text = data_3.text.apply(lambda x: x.lower().replace('subject: ', '').replace('\\n', ' ').replace('\\r', ''))"
   ]
  },
  {
   "cell_type": "code",
   "execution_count": 21,
   "id": "vietnamese-chicago",
   "metadata": {},
   "outputs": [
    {
     "data": {
      "text/html": [
       "<div>\n",
       "<style scoped>\n",
       "    .dataframe tbody tr th:only-of-type {\n",
       "        vertical-align: middle;\n",
       "    }\n",
       "\n",
       "    .dataframe tbody tr th {\n",
       "        vertical-align: top;\n",
       "    }\n",
       "\n",
       "    .dataframe thead th {\n",
       "        text-align: right;\n",
       "    }\n",
       "</style>\n",
       "<table border=\"1\" class=\"dataframe\">\n",
       "  <thead>\n",
       "    <tr style=\"text-align: right;\">\n",
       "      <th></th>\n",
       "      <th>text</th>\n",
       "    </tr>\n",
       "  </thead>\n",
       "  <tbody>\n",
       "    <tr>\n",
       "      <th>0</th>\n",
       "      <td>Go until jurong point, crazy.. Available only ...</td>\n",
       "    </tr>\n",
       "    <tr>\n",
       "      <th>0</th>\n",
       "      <td>Ok lar... Joking wif u oni...</td>\n",
       "    </tr>\n",
       "    <tr>\n",
       "      <th>1</th>\n",
       "      <td>Free entry in 2 a wkly comp to win FA Cup fina...</td>\n",
       "    </tr>\n",
       "    <tr>\n",
       "      <th>0</th>\n",
       "      <td>U dun say so early hor... U c already then say...</td>\n",
       "    </tr>\n",
       "    <tr>\n",
       "      <th>0</th>\n",
       "      <td>Nah I don't think he goes to usf, he lives aro...</td>\n",
       "    </tr>\n",
       "    <tr>\n",
       "      <th>...</th>\n",
       "      <td>...</td>\n",
       "    </tr>\n",
       "    <tr>\n",
       "      <th>1</th>\n",
       "      <td>slutty milf wants to meet you take that ! ' il...</td>\n",
       "    </tr>\n",
       "    <tr>\n",
       "      <th>0</th>\n",
       "      <td>put the 10 on the ft the transport volumes dec...</td>\n",
       "    </tr>\n",
       "    <tr>\n",
       "      <th>0</th>\n",
       "      <td>3 / 4 / 2000 and following noms hpl can ' t ta...</td>\n",
       "    </tr>\n",
       "    <tr>\n",
       "      <th>0</th>\n",
       "      <td>industrial worksheets for august 2000 activity...</td>\n",
       "    </tr>\n",
       "    <tr>\n",
       "      <th>1</th>\n",
       "      <td>important online banking alert dear valued cit...</td>\n",
       "    </tr>\n",
       "  </tbody>\n",
       "</table>\n",
       "<p>10772 rows × 1 columns</p>\n",
       "</div>"
      ],
      "text/plain": [
       "                                                 text\n",
       "0   Go until jurong point, crazy.. Available only ...\n",
       "0                       Ok lar... Joking wif u oni...\n",
       "1   Free entry in 2 a wkly comp to win FA Cup fina...\n",
       "0   U dun say so early hor... U c already then say...\n",
       "0   Nah I don't think he goes to usf, he lives aro...\n",
       "..                                                ...\n",
       "1   slutty milf wants to meet you take that ! ' il...\n",
       "0   put the 10 on the ft the transport volumes dec...\n",
       "0   3 / 4 / 2000 and following noms hpl can ' t ta...\n",
       "0   industrial worksheets for august 2000 activity...\n",
       "1   important online banking alert dear valued cit...\n",
       "\n",
       "[10772 rows x 1 columns]"
      ]
     },
     "execution_count": 21,
     "metadata": {},
     "output_type": "execute_result"
    }
   ],
   "source": [
    "data = pd.concat([data_1, data_2, data_3]).drop_duplicates()\n",
    "data.index = pd.Index(map(lambda x: int(x == 'spam'), data.index))\n",
    "data"
   ]
  },
  {
   "cell_type": "code",
   "execution_count": 22,
   "id": "organic-inclusion",
   "metadata": {},
   "outputs": [],
   "source": [
    "def oversample(X, y):\n",
    "#     oversize = len(X[y==0])\n",
    "    oversize = len(X[y==1])\n",
    "    oversamples = np.random.choice(X[y==1], size=oversize)\n",
    "    return np.hstack([X, oversamples]), np.hstack([y, np.ones(oversize)]),"
   ]
  },
  {
   "cell_type": "code",
   "execution_count": 23,
   "id": "critical-producer",
   "metadata": {},
   "outputs": [],
   "source": [
    "def bpe_trasform(X_train, X_test):\n",
    "    with open('X_train', 'w') as f:\n",
    "        for el in X_train:\n",
    "            f.write(el+'\\n')  \n",
    "            \n",
    "    model_path='tmp'\n",
    "    yttm.BPE.train(data='X_train', vocab_size=5000, model=model_path)\n",
    "\n",
    "    bpe = yttm.BPE(model=model_path)\n",
    "    \n",
    "    X_train_enc = bpe.encode(X_train.tolist())\n",
    "    X_test_enc = bpe.encode(X_test.tolist())\n",
    "    \n",
    "    X_train_tokened = []\n",
    "    for text in X_train_enc:\n",
    "        X_train_tokened.append(' '.join(bpe.id_to_subword(el) for el in text))\n",
    "        \n",
    "    X_test_tokened = []\n",
    "    for text in X_test_enc:\n",
    "        X_test_tokened.append(' '.join(bpe.id_to_subword(el) for el in text))\n",
    "        \n",
    "    return np.array(X_train_tokened), np.array(X_test_tokened)"
   ]
  },
  {
   "cell_type": "code",
   "execution_count": 24,
   "id": "planned-ready",
   "metadata": {},
   "outputs": [],
   "source": [
    "def train_val(clf, X_train, X_test, y_train, y_test, vectorizer, full=False):\n",
    "\n",
    "    train_vec = vectorizer.fit_transform(X_train) \n",
    "    test_vec  = vectorizer.transform(X_test)\n",
    "    \n",
    "    clf.fit(train_vec, y_train)\n",
    "    pred = clf.predict(test_vec)\n",
    "\n",
    "    if full:\n",
    "        plot_confusion_matrix(clf, test_vec, y_test)\n",
    "\n",
    "        print(classification_report(y_test, pred))\n",
    "    \n",
    "    return matthews_corrcoef(y_test, pred)"
   ]
  },
  {
   "cell_type": "code",
   "execution_count": 25,
   "id": "proof-facial",
   "metadata": {},
   "outputs": [],
   "source": [
    "def process_split(texts, train_indxs, test_indxs, clf, vectorizer, full=False):\n",
    "        train_data, test_data = texts.iloc[train_indxs], texts.iloc[test_indxs]\n",
    "        \n",
    "        X_train, y_train = train_data.values, train_data.index\n",
    "        X_test, y_test = test_data.values, test_data.index\n",
    "        \n",
    "        X_train_tokened, X_test_tokened = bpe_trasform(X_train, X_test)\n",
    "        X_train_tokened, y_train = oversample(X_train_tokened, y_train)\n",
    "        \n",
    "        return train_val(clf, X_train_tokened, X_test_tokened, y_train, y_test, vectorizer, full)"
   ]
  },
  {
   "cell_type": "code",
   "execution_count": 26,
   "id": "trying-finding",
   "metadata": {},
   "outputs": [],
   "source": [
    "def cross_val(clf, data, vectorizer, full=False):\n",
    "    res = []\n",
    "    kf = StratifiedKFold(n_splits=5, shuffle=True)\n",
    "    for train_indxs, test_indxs in tqdm(kf.split(data.text, data.index), total=5):\n",
    "        res.append(process_split(data.text, train_indxs, test_indxs, clf, vectorizer, full))\n",
    "    return res"
   ]
  },
  {
   "cell_type": "code",
   "execution_count": 27,
   "id": "athletic-driver",
   "metadata": {},
   "outputs": [
    {
     "name": "stderr",
     "output_type": "stream",
     "text": [
      "[nltk_data] Downloading package wordnet to /home/stas/nltk_data...\n",
      "[nltk_data]   Package wordnet is already up-to-date!\n"
     ]
    }
   ],
   "source": [
    "nltk.download('wordnet')\n",
    "stop_words = stopwords.words(\"english\")"
   ]
  },
  {
   "cell_type": "code",
   "execution_count": 28,
   "id": "wound-directive",
   "metadata": {},
   "outputs": [],
   "source": [
    "texts = data.text.apply(lambda x:' '.join([word.lower() for word in x.split(' ') if word.lower not in stop_words]))\n"
   ]
  },
  {
   "cell_type": "code",
   "execution_count": 29,
   "id": "norman-talent",
   "metadata": {},
   "outputs": [],
   "source": [
    "test_num = len(texts)//5\n",
    "test_indxs = np.random.choice(len(texts), size=test_num, replace=False)\n",
    "test_indxs_set = set(test_indxs)\n",
    "train_indxs = [i for i in range(len(texts)) if i not in test_indxs_set]"
   ]
  },
  {
   "cell_type": "code",
   "execution_count": 30,
   "id": "breeding-semiconductor",
   "metadata": {},
   "outputs": [],
   "source": [
    "vectorizer = TfidfVectorizer(  \n",
    "    lowercase=True,      \n",
    "    stop_words='english' \n",
    ")"
   ]
  },
  {
   "cell_type": "code",
   "execution_count": 31,
   "id": "streaming-andrew",
   "metadata": {},
   "outputs": [
    {
     "name": "stdout",
     "output_type": "stream",
     "text": [
      "              precision    recall  f1-score   support\n",
      "\n",
      "           0       0.97      0.99      0.98      1687\n",
      "           1       0.96      0.90      0.93       467\n",
      "\n",
      "    accuracy                           0.97      2154\n",
      "   macro avg       0.97      0.94      0.95      2154\n",
      "weighted avg       0.97      0.97      0.97      2154\n",
      "\n"
     ]
    },
    {
     "data": {
      "text/plain": [
       "0.9083969101912985"
      ]
     },
     "execution_count": 31,
     "metadata": {},
     "output_type": "execute_result"
    },
    {
     "data": {
      "image/png": "[encoded data removed]",
      "text/plain": [
       "<Figure size 432x288 with 2 Axes>"
      ]
     },
     "metadata": {
      "needs_background": "light"
     },
     "output_type": "display_data"
    }
   ],
   "source": [
    "classifier = RandomForestClassifier()\n",
    "process_split(texts, train_indxs, test_indxs, classifier, vectorizer, True)"
   ]
  },
  {
   "cell_type": "code",
   "execution_count": 32,
   "id": "cheap-temperature",
   "metadata": {},
   "outputs": [],
   "source": [
    "indx_to_terms = {val: key for key, val in vectorizer.vocabulary_.items()}"
   ]
  },
  {
   "cell_type": "code",
   "execution_count": 33,
   "id": "incident-distinction",
   "metadata": {
    "scrolled": true
   },
   "outputs": [
    {
     "data": {
      "text/plain": [
       "['http',\n",
       " 'mobile',\n",
       " 'free',\n",
       " 'click',\n",
       " '0871',\n",
       " 'claim',\n",
       " 'prize',\n",
       " 'enron',\n",
       " 'stop',\n",
       " '2000',\n",
       " 'reply',\n",
       " 'offer',\n",
       " 'best',\n",
       " 'text',\n",
       " 'daren',\n",
       " 'online',\n",
       " 'removed',\n",
       " 'service',\n",
       " 'tone',\n",
       " 'urgent',\n",
       " 'cash',\n",
       " 'remove',\n",
       " 'order',\n",
       " 'info',\n",
       " 'forwarded',\n",
       " 'subject',\n",
       " 'prescription',\n",
       " 'software',\n",
       " '1000',\n",
       " 'attached',\n",
       " 'guaranteed',\n",
       " 'email',\n",
       " 'viagra',\n",
       " 'visit',\n",
       " '2004',\n",
       " 'thanks',\n",
       " 'cheap',\n",
       " 'prices',\n",
       " 'ment',\n",
       " '2001',\n",
       " 'meter',\n",
       " 'money',\n",
       " 'private',\n",
       " 'message',\n",
       " 'landline',\n",
       " 'deal',\n",
       " '0870',\n",
       " 'save',\n",
       " 'contact',\n",
       " 'awarded',\n",
       " 'selected',\n",
       " 'draw',\n",
       " 'dating',\n",
       " 'holiday',\n",
       " 'questions',\n",
       " 'know',\n",
       " 'receive',\n",
       " '2003',\n",
       " 'customer',\n",
       " 'pobox',\n",
       " 'quality',\n",
       " 'camera',\n",
       " 'latest',\n",
       " 'paliourg',\n",
       " 'women',\n",
       " 'meds',\n",
       " 'rolex',\n",
       " 'cost',\n",
       " 'code',\n",
       " 'real',\n",
       " 'video',\n",
       " 'special',\n",
       " 'land',\n",
       " 'pres',\n",
       " 'world',\n",
       " 'note',\n",
       " 'rate',\n",
       " '150p',\n",
       " 'regards',\n",
       " 'doctor',\n",
       " 'farmer',\n",
       " 'huge',\n",
       " 'agra',\n",
       " '150ppm',\n",
       " 'just',\n",
       " 'need',\n",
       " 'ation']"
      ]
     },
     "execution_count": 33,
     "metadata": {},
     "output_type": "execute_result"
    }
   ],
   "source": [
    "# посмотрим на наиболее важные для случайного леса признаки\n",
    "fi = classifier.feature_importances_\n",
    "\n",
    "# узнав индексы самых важных признаков можно восстановить, каким токенам они соостветуют.\n",
    "indx_sort = np.argsort(fi)[::-1]\n",
    "tmp = indx_sort[fi[indx_sort]>1e-3]\n",
    "\n",
    "# Дополнительно отфильтровав список от мусора, токены, важные для принятия решения о классификации спам/неспам.\n",
    "[indx_to_terms[indx] for indx in tmp if len(indx_to_terms[indx])>3]"
   ]
  },
  {
   "cell_type": "code",
   "execution_count": 59,
   "id": "uniform-organization",
   "metadata": {},
   "outputs": [
    {
     "name": "stdout",
     "output_type": "stream",
     "text": [
      "\"http\"\n",
      "   in ham appear in 1.6% of texts; \n",
      "   in spam appear in 21.23% of texts\n"
     ]
    }
   ],
   "source": [
    "word = 'http'\n",
    "s = data[data.index == 0].text\n",
    "ham_ratio = np.round(s.str.contains(word).sum()/len(s)*100, 2)\n",
    "\n",
    "s = data[data.index == 1].text\n",
    "spam_ratio = np.round(s.str.contains(word).sum()/len(s)*100, 2)\n",
    "\n",
    "print(f'\"{word}\"\\n \\\n",
    "  in ham appears in {ham_ratio}% of texts; \\n \\\n",
    "  in spam appears in {spam_ratio}% of texts')"
   ]
  },
  {
   "cell_type": "code",
   "execution_count": 60,
   "id": "broad-soldier",
   "metadata": {},
   "outputs": [
    {
     "name": "stdout",
     "output_type": "stream",
     "text": [
      "\"mobile\"\n",
      "   in ham appear in 0.33% of texts; \n",
      "   in spam appear in 8.63% of texts\n"
     ]
    }
   ],
   "source": [
    "word = 'mobile'\n",
    "s = data[data.index == 0].text\n",
    "ham_ratio = np.round(s.str.contains(word).sum()/len(s)*100, 2)\n",
    "\n",
    "s = data[data.index == 1].text\n",
    "spam_ratio = np.round(s.str.contains(word).sum()/len(s)*100, 2)\n",
    "\n",
    "print(f'\"{word}\"\\n \\\n",
    "  in ham appears in {ham_ratio}% of texts; \\n \\\n",
    "  in spam appears in {spam_ratio}% of texts')"
   ]
  },
  {
   "cell_type": "code",
   "execution_count": 61,
   "id": "absent-honor",
   "metadata": {},
   "outputs": [
    {
     "name": "stdout",
     "output_type": "stream",
     "text": [
      "\"free\"\n",
      "   in ham appear in 3.28% of texts; \n",
      "   in spam appear in 13.36% of texts\n"
     ]
    }
   ],
   "source": [
    "word = 'free'\n",
    "s = data[data.index == 0].text\n",
    "ham_ratio = np.round(s.str.contains(word).sum()/len(s)*100, 2)\n",
    "\n",
    "s = data[data.index == 1].text\n",
    "spam_ratio = np.round(s.str.contains(word).sum()/len(s)*100, 2)\n",
    "\n",
    "print(f'\"{word}\"\\n \\\n",
    "  in ham appears in {ham_ratio}% of texts; \\n \\\n",
    "  in spam appears in {spam_ratio}% of texts')"
   ]
  },
  {
   "cell_type": "code",
   "execution_count": 63,
   "id": "satellite-collectible",
   "metadata": {},
   "outputs": [
    {
     "name": "stdout",
     "output_type": "stream",
     "text": [
      "\"ation\"\n",
      "   in ham appear in 16.64% of texts; \n",
      "   in spam appear in 29.09% of texts\n"
     ]
    }
   ],
   "source": [
    "word = 'ation'\n",
    "s = data[data.index == 0].text\n",
    "ham_ratio = np.round(s.str.contains(word).sum()/len(s)*100, 2)\n",
    "\n",
    "s = data[data.index == 1].text\n",
    "spam_ratio = np.round(s.str.contains(word).sum()/len(s)*100, 2)\n",
    "\n",
    "print(f'\"{word}\"\\n \\\n",
    "  in ham appears in {ham_ratio}% of texts; \\n \\\n",
    "  in spam appears in {spam_ratio}% of texts')"
   ]
  },
  {
   "cell_type": "markdown",
   "id": "comprehensive-symposium",
   "metadata": {},
   "source": [
    "Как видно, полученные в целом соотвествуют нашему восприятию что содержиться в спаме -- сайты, слова, побуждающие к действию и прочее.\n",
    "\n",
    "Также видно, что лесу важна не столько значительность различия популярностей токена в каждом из классов, сколько уникальность токена в целом. "
   ]
  },
  {
   "cell_type": "code",
   "execution_count": null,
   "id": "going-fitness",
   "metadata": {},
   "outputs": [],
   "source": []
  }
 ],
 "metadata": {
  "kernelspec": {
   "display_name": "Python 3",
   "language": "python",
   "name": "python3"
  },
  "language_info": {
   "codemirror_mode": {
    "name": "ipython",
    "version": 3
   },
   "file_extension": ".py",
   "mimetype": "text/x-python",
   "name": "python",
   "nbconvert_exporter": "python",
   "pygments_lexer": "ipython3",
   "version": "3.7.9"
  }
 },
 "nbformat": 4,
 "nbformat_minor": 5
}
