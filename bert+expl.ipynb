{
 "cells": [
  {
   "cell_type": "code",
   "execution_count": 43,
   "id": "immediate-curve",
   "metadata": {},
   "outputs": [],
   "source": [
    "import pandas as pd\n",
    "import numpy as np\n",
    "import os\n",
    "from os.path import join\n",
    "import json\n",
    "\n",
    "from sklearn.model_selection import train_test_split\n",
    "\n",
    "from sklearn.feature_extraction.text import TfidfVectorizer\n",
    "\n",
    "from sklearn.naive_bayes import MultinomialNB\n",
    "from sklearn.ensemble import RandomForestClassifier\n",
    "from sklearn.svm import SVC\n",
    "\n",
    "from sklearn.metrics import plot_confusion_matrix\n",
    "from sklearn.metrics import classification_report\n",
    "from sklearn.metrics import matthews_corrcoef\n",
    "\n",
    "from tqdm.notebook import tqdm"
   ]
  },
  {
   "cell_type": "code",
   "execution_count": 3,
   "id": "basic-sound",
   "metadata": {},
   "outputs": [],
   "source": [
    "from sklearn.feature_extraction.text import CountVectorizer\n",
    "from sklearn.feature_extraction.text import TfidfTransformer\n",
    "from sklearn.linear_model import SGDClassifier\n",
    "from sklearn.model_selection import GridSearchCV\n",
    "from sklearn.pipeline import Pipeline\n",
    "\n",
    "from sklearn.model_selection import StratifiedKFold"
   ]
  },
  {
   "cell_type": "code",
   "execution_count": 4,
   "id": "military-address",
   "metadata": {},
   "outputs": [],
   "source": [
    "import nltk\n",
    "from nltk.stem.porter import PorterStemmer\n",
    "from nltk.stem import WordNetLemmatizer\n",
    "\n",
    "from nltk.corpus import stopwords"
   ]
  },
  {
   "cell_type": "code",
   "execution_count": 5,
   "id": "reduced-french",
   "metadata": {},
   "outputs": [],
   "source": [
    "import youtokentome as yttm"
   ]
  },
  {
   "cell_type": "code",
   "execution_count": 6,
   "id": "fancy-reduction",
   "metadata": {},
   "outputs": [],
   "source": [
    "from sklearn.metrics import confusion_matrix, ConfusionMatrixDisplay\n",
    "from transformers import BertTokenizer\n",
    "import torch"
   ]
  },
  {
   "cell_type": "code",
   "execution_count": 7,
   "id": "going-edinburgh",
   "metadata": {},
   "outputs": [],
   "source": [
    "from transformers_interpret import SequenceClassificationExplainer\n",
    "import random\n",
    "import numpy as np\n",
    "from transformers import get_linear_schedule_with_warmup\n",
    "from transformers import BertForSequenceClassification, AdamW, BertConfig\n",
    "from torch.utils.data import DataLoader, RandomSampler, SequentialSampler\n",
    "from torch.utils.data import TensorDataset, random_split"
   ]
  },
  {
   "cell_type": "code",
   "execution_count": 8,
   "id": "athletic-pound",
   "metadata": {},
   "outputs": [],
   "source": [
    "data_1 = pd.read_csv('data/SPAM text message 20170820 - Data.csv', index_col='Category').rename(columns={'Message':'text'},)\n",
    "data_2 = pd.read_csv('data/spam.csv', index_col='v1')[['v2']].rename(columns={'v2':'text'})\n",
    "data_3 = pd.read_csv('data/spam_ham_dataset.csv', index_col='label')[['text']]"
   ]
  },
  {
   "cell_type": "code",
   "execution_count": 12,
   "id": "resistant-preview",
   "metadata": {},
   "outputs": [],
   "source": [
    "data_3.text = data_3.text.apply(lambda x: x.replace('Subject: ', '').replace('\\n', ' ').replace('\\r', ''))"
   ]
  },
  {
   "cell_type": "code",
   "execution_count": 13,
   "id": "seventh-screw",
   "metadata": {},
   "outputs": [
    {
     "data": {
      "text/html": [
       "<div>\n",
       "<style scoped>\n",
       "    .dataframe tbody tr th:only-of-type {\n",
       "        vertical-align: middle;\n",
       "    }\n",
       "\n",
       "    .dataframe tbody tr th {\n",
       "        vertical-align: top;\n",
       "    }\n",
       "\n",
       "    .dataframe thead th {\n",
       "        text-align: right;\n",
       "    }\n",
       "</style>\n",
       "<table border=\"1\" class=\"dataframe\">\n",
       "  <thead>\n",
       "    <tr style=\"text-align: right;\">\n",
       "      <th></th>\n",
       "      <th>text</th>\n",
       "    </tr>\n",
       "  </thead>\n",
       "  <tbody>\n",
       "    <tr>\n",
       "      <th>0</th>\n",
       "      <td>Go until jurong point, crazy.. Available only ...</td>\n",
       "    </tr>\n",
       "    <tr>\n",
       "      <th>0</th>\n",
       "      <td>Ok lar... Joking wif u oni...</td>\n",
       "    </tr>\n",
       "    <tr>\n",
       "      <th>1</th>\n",
       "      <td>Free entry in 2 a wkly comp to win FA Cup fina...</td>\n",
       "    </tr>\n",
       "    <tr>\n",
       "      <th>0</th>\n",
       "      <td>U dun say so early hor... U c already then say...</td>\n",
       "    </tr>\n",
       "    <tr>\n",
       "      <th>0</th>\n",
       "      <td>Nah I don't think he goes to usf, he lives aro...</td>\n",
       "    </tr>\n",
       "    <tr>\n",
       "      <th>...</th>\n",
       "      <td>...</td>\n",
       "    </tr>\n",
       "    <tr>\n",
       "      <th>1</th>\n",
       "      <td>slutty milf wants to meet you take that ! ' il...</td>\n",
       "    </tr>\n",
       "    <tr>\n",
       "      <th>0</th>\n",
       "      <td>put the 10 on the ft the transport volumes dec...</td>\n",
       "    </tr>\n",
       "    <tr>\n",
       "      <th>0</th>\n",
       "      <td>3 / 4 / 2000 and following noms hpl can ' t ta...</td>\n",
       "    </tr>\n",
       "    <tr>\n",
       "      <th>0</th>\n",
       "      <td>industrial worksheets for august 2000 activity...</td>\n",
       "    </tr>\n",
       "    <tr>\n",
       "      <th>1</th>\n",
       "      <td>important online banking alert dear valued cit...</td>\n",
       "    </tr>\n",
       "  </tbody>\n",
       "</table>\n",
       "<p>10772 rows × 1 columns</p>\n",
       "</div>"
      ],
      "text/plain": [
       "                                                 text\n",
       "0   Go until jurong point, crazy.. Available only ...\n",
       "0                       Ok lar... Joking wif u oni...\n",
       "1   Free entry in 2 a wkly comp to win FA Cup fina...\n",
       "0   U dun say so early hor... U c already then say...\n",
       "0   Nah I don't think he goes to usf, he lives aro...\n",
       "..                                                ...\n",
       "1   slutty milf wants to meet you take that ! ' il...\n",
       "0   put the 10 on the ft the transport volumes dec...\n",
       "0   3 / 4 / 2000 and following noms hpl can ' t ta...\n",
       "0   industrial worksheets for august 2000 activity...\n",
       "1   important online banking alert dear valued cit...\n",
       "\n",
       "[10772 rows x 1 columns]"
      ]
     },
     "execution_count": 13,
     "metadata": {},
     "output_type": "execute_result"
    }
   ],
   "source": [
    "data = pd.concat([data_1, data_2, data_3]).drop_duplicates()\n",
    "data.index = pd.Index(map(lambda x: int(x == 'spam'), data.index))\n",
    "data"
   ]
  },
  {
   "cell_type": "code",
   "execution_count": 14,
   "id": "periodic-stamp",
   "metadata": {},
   "outputs": [],
   "source": [
    "tokenizer = BertTokenizer.from_pretrained('bert-base-uncased', do_lower_case=True)"
   ]
  },
  {
   "cell_type": "code",
   "execution_count": 15,
   "id": "funky-praise",
   "metadata": {},
   "outputs": [],
   "source": [
    "texts = data.text.values\n",
    "labels = data.index"
   ]
  },
  {
   "cell_type": "code",
   "execution_count": 23,
   "id": "destroyed-champagne",
   "metadata": {},
   "outputs": [
    {
     "data": {
      "application/vnd.jupyter.widget-view+json": {
       "model_id": "7931e52b55e3432a90901b72f3209586",
       "version_major": 2,
       "version_minor": 0
      },
      "text/plain": [
       "HBox(children=(FloatProgress(value=0.0, max=10772.0), HTML(value='')))"
      ]
     },
     "metadata": {},
     "output_type": "display_data"
    },
    {
     "name": "stdout",
     "output_type": "stream",
     "text": [
      "\n"
     ]
    },
    {
     "name": "stderr",
     "output_type": "stream",
     "text": [
      "/home/stas/venvs/main/lib/python3.7/site-packages/ipykernel_launcher.py:19: UserWarning: To copy construct from a tensor, it is recommended to use sourceTensor.clone().detach() or sourceTensor.clone().detach().requires_grad_(True), rather than torch.tensor(sourceTensor).\n"
     ]
    }
   ],
   "source": [
    "input_ids = []\n",
    "attention_masks = []\n",
    "\n",
    "for text in tqdm(texts):\n",
    "    encoded_dict = tokenizer.encode_plus(\n",
    "                        text,                      \n",
    "                        add_special_tokens = True, \n",
    "                        max_length = 64,           \n",
    "                        truncation=True,\n",
    "                        padding='max_length',\n",
    "                        return_attention_mask = True,   \n",
    "                        return_tensors = 'pt',    \n",
    "                   )  \n",
    "    input_ids.append(encoded_dict['input_ids'])\n",
    "    attention_masks.append(encoded_dict['attention_mask'])\n",
    "    \n",
    "input_ids = torch.cat(input_ids, dim=0)\n",
    "attention_masks = torch.cat(attention_masks, dim=0)\n",
    "labels = torch.tensor(labels)"
   ]
  },
  {
   "cell_type": "code",
   "execution_count": 24,
   "id": "compressed-check",
   "metadata": {},
   "outputs": [
    {
     "data": {
      "text/plain": [
       "(8617, 2155)"
      ]
     },
     "execution_count": 24,
     "metadata": {},
     "output_type": "execute_result"
    }
   ],
   "source": [
    "dataset = TensorDataset(input_ids, attention_masks, labels)\n",
    "\n",
    "train_size = int(0.8 * len(dataset))\n",
    "val_size = len(dataset) - train_size\n",
    "\n",
    "train_dataset, val_dataset = random_split(dataset, [train_size, val_size])\n",
    "\n",
    "len(train_dataset), len(val_dataset)"
   ]
  },
  {
   "cell_type": "code",
   "execution_count": 25,
   "id": "considerable-tokyo",
   "metadata": {},
   "outputs": [],
   "source": [
    "batch_size = 32\n",
    "\n",
    "train_dataloader = DataLoader(\n",
    "            train_dataset,  \n",
    "            sampler = RandomSampler(train_dataset), \n",
    "            batch_size = batch_size \n",
    "        )\n",
    "\n",
    "\n",
    "validation_dataloader = DataLoader(\n",
    "            val_dataset,\n",
    "            sampler = SequentialSampler(val_dataset), \n",
    "            batch_size = batch_size\n",
    "        )"
   ]
  },
  {
   "cell_type": "code",
   "execution_count": 26,
   "id": "animal-champagne",
   "metadata": {},
   "outputs": [
    {
     "name": "stderr",
     "output_type": "stream",
     "text": [
      "Some weights of the model checkpoint at bert-base-uncased were not used when initializing BertForSequenceClassification: ['cls.predictions.bias', 'cls.predictions.transform.dense.weight', 'cls.predictions.transform.dense.bias', 'cls.predictions.decoder.weight', 'cls.seq_relationship.weight', 'cls.seq_relationship.bias', 'cls.predictions.transform.LayerNorm.weight', 'cls.predictions.transform.LayerNorm.bias']\n",
      "- This IS expected if you are initializing BertForSequenceClassification from the checkpoint of a model trained on another task or with another architecture (e.g. initializing a BertForSequenceClassification model from a BertForPreTraining model).\n",
      "- This IS NOT expected if you are initializing BertForSequenceClassification from the checkpoint of a model that you expect to be exactly identical (initializing a BertForSequenceClassification model from a BertForSequenceClassification model).\n",
      "Some weights of BertForSequenceClassification were not initialized from the model checkpoint at bert-base-uncased and are newly initialized: ['classifier.weight', 'classifier.bias']\n",
      "You should probably TRAIN this model on a down-stream task to be able to use it for predictions and inference.\n"
     ]
    }
   ],
   "source": [
    "model = BertForSequenceClassification.from_pretrained(\n",
    "    \"bert-base-uncased\", \n",
    "    num_labels = 2, \n",
    "    output_attentions = False,\n",
    "    output_hidden_states = False, \n",
    ")\n",
    "\n",
    "model.cuda();"
   ]
  },
  {
   "cell_type": "code",
   "execution_count": 27,
   "id": "roman-heating",
   "metadata": {},
   "outputs": [],
   "source": [
    "optimizer = AdamW(model.parameters(),\n",
    "                  lr = 2e-5,\n",
    "                  eps = 1e-8 \n",
    "                )"
   ]
  },
  {
   "cell_type": "code",
   "execution_count": 28,
   "id": "scheduled-terry",
   "metadata": {},
   "outputs": [],
   "source": [
    "epochs = 4\n",
    "\n",
    "total_steps = len(train_dataloader) * epochs\n",
    "\n",
    "scheduler = get_linear_schedule_with_warmup(optimizer, \n",
    "                                            num_warmup_steps = 0, \n",
    "                                            num_training_steps = total_steps)"
   ]
  },
  {
   "cell_type": "code",
   "execution_count": 29,
   "id": "local-beast",
   "metadata": {},
   "outputs": [],
   "source": [
    "def calc_accuracy(preds, labels):\n",
    "    return np.sum(preds == labels) / len(labels)\n",
    "\n",
    "def calc_mcc(preds, labels):\n",
    "    return matthews_corrcoef(labels, preds)\n",
    "\n",
    "def print_classification_report(preds, labels):\n",
    "    print(classification_report(labels, preds))\n",
    "\n",
    "def plt_confusion_matrix(preds, labels):\n",
    "    with torch.no_grad():\n",
    "        gts = np.argmax(preds,axis=1)\n",
    "\n",
    "        cm = confusion_matrix(labels, gts)\n",
    "        disp = ConfusionMatrixDisplay(confusion_matrix=cm)\n",
    "        disp.plot() "
   ]
  },
  {
   "cell_type": "code",
   "execution_count": 30,
   "id": "consecutive-clothing",
   "metadata": {},
   "outputs": [],
   "source": [
    "device = torch.device('cuda:0')"
   ]
  },
  {
   "cell_type": "code",
   "execution_count": 31,
   "id": "devoted-question",
   "metadata": {},
   "outputs": [],
   "source": [
    "def train_batch(batch, model, optimizer, scheduler):\n",
    "    b_input_ids = batch[0].to(device)\n",
    "    b_input_mask = batch[1].to(device)\n",
    "    b_labels = batch[2].to(device)\n",
    "\n",
    "    model.zero_grad()        \n",
    "\n",
    "    output = model(b_input_ids, \n",
    "                   token_type_ids=None, \n",
    "                   attention_mask=b_input_mask, \n",
    "                   labels=b_labels)\n",
    "\n",
    "    loss = output.loss\n",
    "    loss.backward()\n",
    "    torch.nn.utils.clip_grad_norm_(model.parameters(), 1.0)\n",
    "    optimizer.step()\n",
    "    scheduler.step()    \n",
    "    \n",
    "    return loss.item()"
   ]
  },
  {
   "cell_type": "code",
   "execution_count": 32,
   "id": "focal-medicine",
   "metadata": {},
   "outputs": [],
   "source": [
    "def eval_model(model, validation_dataloader):\n",
    "    model.eval() \n",
    "    total_eval_loss = 0\n",
    "\n",
    "    all_labels, all_preds = [], []\n",
    "    for batch in validation_dataloader:\n",
    "        b_input_ids = batch[0].to(device)\n",
    "        b_input_mask = batch[1].to(device)\n",
    "        b_labels = batch[2].to(device)\n",
    "\n",
    "        with torch.no_grad():        \n",
    "            output = model(b_input_ids, \n",
    "                           token_type_ids=None, \n",
    "                           attention_mask=b_input_mask,\n",
    "                           labels=b_labels)\n",
    "\n",
    "            loss = output.loss\n",
    "            logits = output.logits\n",
    "\n",
    "            total_eval_loss += loss.item()\n",
    "\n",
    "            all_labels.append(b_labels.cpu().numpy())\n",
    "            all_preds.append(logits.detach().cpu().numpy())\n",
    "\n",
    "\n",
    "\n",
    "    avg_val_loss = total_eval_loss / len(validation_dataloader)\n",
    "\n",
    "    all_preds = np.vstack(all_preds)\n",
    "    all_labels = np.hstack(all_labels)\n",
    "    \n",
    "    pred_flat = np.argmax(all_preds, axis=1).flatten()\n",
    "    labels_flat = all_labels.flatten()\n",
    "    \n",
    "    print(np.array(all_preds).shape)\n",
    "    print(f\"  Accuracy: {np.round(calc_accuracy(pred_flat, labels_flat), 4)}\")\n",
    "    print(f\"  MCC: {np.round(calc_mcc(pred_flat, labels_flat), 4)}\")\n",
    "    print(\"  Validation Loss: {0:.2f}\".format(avg_val_loss))\n",
    "    print_classification_report(pred_flat, labels_flat)\n",
    "    plt_confusion_matrix(all_preds, all_labels)\n"
   ]
  },
  {
   "cell_type": "code",
   "execution_count": null,
   "id": "spanish-thomson",
   "metadata": {},
   "outputs": [],
   "source": []
  },
  {
   "cell_type": "code",
   "execution_count": 35,
   "id": "random-niagara",
   "metadata": {
    "scrolled": false
   },
   "outputs": [
    {
     "name": "stdout",
     "output_type": "stream",
     "text": [
      "\n",
      "======== Epoch 1 / 4 ========\n",
      "Training...\n"
     ]
    },
    {
     "data": {
      "application/vnd.jupyter.widget-view+json": {
       "model_id": "70d310dff9414a53ae87fa15d979ee1c",
       "version_major": 2,
       "version_minor": 0
      },
      "text/plain": [
       "HBox(children=(FloatProgress(value=0.0, max=270.0), HTML(value='')))"
      ]
     },
     "metadata": {},
     "output_type": "display_data"
    },
    {
     "name": "stdout",
     "output_type": "stream",
     "text": [
      "\n",
      "\n",
      "  Average training loss: 0.09\n",
      "Running Validation...\n",
      "(2155, 2)\n",
      "  Accuracy: 0.9805\n",
      "  MCC: 0.9407\n",
      "  Validation Loss: 0.06\n",
      "              precision    recall  f1-score   support\n",
      "\n",
      "           0       0.99      0.99      0.99      1706\n",
      "           1       0.96      0.95      0.95       449\n",
      "\n",
      "    accuracy                           0.98      2155\n",
      "   macro avg       0.97      0.97      0.97      2155\n",
      "weighted avg       0.98      0.98      0.98      2155\n",
      "\n",
      "\n",
      "======== Epoch 2 / 4 ========\n",
      "Training...\n"
     ]
    },
    {
     "data": {
      "application/vnd.jupyter.widget-view+json": {
       "model_id": "108f8dde91784ebc8a472cd366c5c182",
       "version_major": 2,
       "version_minor": 0
      },
      "text/plain": [
       "HBox(children=(FloatProgress(value=0.0, max=270.0), HTML(value='')))"
      ]
     },
     "metadata": {},
     "output_type": "display_data"
    },
    {
     "name": "stdout",
     "output_type": "stream",
     "text": [
      "\n",
      "\n",
      "  Average training loss: 0.03\n",
      "Running Validation...\n",
      "(2155, 2)\n",
      "  Accuracy: 0.981\n",
      "  MCC: 0.9427\n",
      "  Validation Loss: 0.08\n",
      "              precision    recall  f1-score   support\n",
      "\n",
      "           0       0.99      0.99      0.99      1706\n",
      "           1       0.95      0.96      0.95       449\n",
      "\n",
      "    accuracy                           0.98      2155\n",
      "   macro avg       0.97      0.97      0.97      2155\n",
      "weighted avg       0.98      0.98      0.98      2155\n",
      "\n",
      "\n",
      "======== Epoch 3 / 4 ========\n",
      "Training...\n"
     ]
    },
    {
     "data": {
      "application/vnd.jupyter.widget-view+json": {
       "model_id": "df7cdb075f44415aae290aa949c26454",
       "version_major": 2,
       "version_minor": 0
      },
      "text/plain": [
       "HBox(children=(FloatProgress(value=0.0, max=270.0), HTML(value='')))"
      ]
     },
     "metadata": {},
     "output_type": "display_data"
    },
    {
     "name": "stdout",
     "output_type": "stream",
     "text": [
      "\n",
      "\n",
      "  Average training loss: 0.01\n",
      "Running Validation...\n",
      "(2155, 2)\n",
      "  Accuracy: 0.9828\n",
      "  MCC: 0.948\n",
      "  Validation Loss: 0.08\n",
      "              precision    recall  f1-score   support\n",
      "\n",
      "           0       0.99      0.99      0.99      1706\n",
      "           1       0.96      0.96      0.96       449\n",
      "\n",
      "    accuracy                           0.98      2155\n",
      "   macro avg       0.97      0.97      0.97      2155\n",
      "weighted avg       0.98      0.98      0.98      2155\n",
      "\n",
      "\n",
      "======== Epoch 4 / 4 ========\n",
      "Training...\n"
     ]
    },
    {
     "data": {
      "application/vnd.jupyter.widget-view+json": {
       "model_id": "569445485b4b4884ba4e2be3ff63be23",
       "version_major": 2,
       "version_minor": 0
      },
      "text/plain": [
       "HBox(children=(FloatProgress(value=0.0, max=270.0), HTML(value='')))"
      ]
     },
     "metadata": {},
     "output_type": "display_data"
    },
    {
     "name": "stdout",
     "output_type": "stream",
     "text": [
      "\n",
      "\n",
      "  Average training loss: 0.00\n",
      "Running Validation...\n",
      "(2155, 2)\n",
      "  Accuracy: 0.9824\n",
      "  MCC: 0.9463\n",
      "  Validation Loss: 0.08\n",
      "              precision    recall  f1-score   support\n",
      "\n",
      "           0       0.99      0.99      0.99      1706\n",
      "           1       0.97      0.95      0.96       449\n",
      "\n",
      "    accuracy                           0.98      2155\n",
      "   macro avg       0.98      0.97      0.97      2155\n",
      "weighted avg       0.98      0.98      0.98      2155\n",
      "\n"
     ]
    },
    {
     "data": {
      "image/png": "[encoded data removed]",
      "text/plain": [
       "<Figure size 432x288 with 2 Axes>"
      ]
     },
     "metadata": {
      "needs_background": "light"
     },
     "output_type": "display_data"
    },
    {
     "data": {
      "image/png": "[encoded data removed]",
      "text/plain": [
       "<Figure size 432x288 with 2 Axes>"
      ]
     },
     "metadata": {
      "needs_background": "light"
     },
     "output_type": "display_data"
    },
    {
     "data": {
      "image/png": "[encoded data removed]",
      "text/plain": [
       "<Figure size 432x288 with 2 Axes>"
      ]
     },
     "metadata": {
      "needs_background": "light"
     },
     "output_type": "display_data"
    },
    {
     "data": {
      "image/png": "[encoded data removed]",
      "text/plain": [
       "<Figure size 432x288 with 2 Axes>"
      ]
     },
     "metadata": {
      "needs_background": "light"
     },
     "output_type": "display_data"
    }
   ],
   "source": [
    "seed_val = 42\n",
    "\n",
    "random.seed(seed_val)\n",
    "np.random.seed(seed_val)\n",
    "torch.manual_seed(seed_val)\n",
    "torch.cuda.manual_seed_all(seed_val)\n",
    "\n",
    "training_stats = []\n",
    "for epoch_i in range(epochs):\n",
    "    print(f'\\n======== Epoch {epoch_i + 1} / {epochs} ========\\nTraining...')\n",
    "    total_train_loss = 0\n",
    "    model.train()\n",
    "    for step, batch in enumerate(tqdm(train_dataloader), 1):\n",
    "        loss = train_batch(batch, model, optimizer, scheduler)\n",
    "        total_train_loss += loss\n",
    "    avg_train_loss = total_train_loss / len(train_dataloader)            \n",
    "\n",
    "    print(\"\\n  Average training loss: {0:.2f}\\nRunning Validation...\".format(avg_train_loss))\n",
    "    \n",
    "    eval_model(model, validation_dataloader)\n"
   ]
  },
  {
   "cell_type": "markdown",
   "id": "aerial-drink",
   "metadata": {},
   "source": [
    "Вау, трансформеры победили классический мл :)\n",
    "\n",
    "Однако, давайте попробуем поинтерпретировать причины принятия решения. Сначала кажется, что коль мы имеем дело с трансформерами, давайте посмотрим на attentionы. Однако я не понял, что селф атеншенах берта можно конкретно увидеть, что можно было бы проинтерпретировать как критерии принятия решения моделью (ну либо нужно производить довольно большое исследование как в https://www.topbots.com/bert-secrets/). Поэтому я решил обратить внимание на другую важную вещь в нейросетях -- градиенты. SequenceClassificationExplainer -- буквально инструмент для определения \"критериев, по которым модель определяет является ли сообщение спамом или нет\""
   ]
  },
  {
   "cell_type": "code",
   "execution_count": 36,
   "id": "global-constant",
   "metadata": {
    "scrolled": true
   },
   "outputs": [
    {
     "data": {
      "application/vnd.jupyter.widget-view+json": {
       "model_id": "4978559e8d4f46fcaecf8684502e334d",
       "version_major": 2,
       "version_minor": 0
      },
      "text/plain": [
       "HBox(children=(FloatProgress(value=0.0, max=10772.0), HTML(value='')))"
      ]
     },
     "metadata": {},
     "output_type": "display_data"
    },
    {
     "name": "stdout",
     "output_type": "stream",
     "text": [
      "\n"
     ]
    }
   ],
   "source": [
    "# смотрим на статистику влияния токенов словаря при обработке предложений разных классов\n",
    "cls_explainer = SequenceClassificationExplainer(\n",
    "    model,\n",
    "    tokenizer)\n",
    "vocab_stats = {0: {}, 1: {}}\n",
    "with torch.no_grad():\n",
    "    for label, tokens in tqdm(zip(labels, input_ids), total=len(data.text)):\n",
    "        lbl = label.item()\n",
    "        text = tokenizer.decode(tokens, skip_special_tokens=True)\n",
    "        word_attributions = cls_explainer(text)\n",
    "        for token, score in word_attributions:\n",
    "            vocab_stats[lbl].setdefault(token, [0,0])\n",
    "            vocab_stats[lbl][token][0] += score\n",
    "            vocab_stats[lbl][token][1] += 1"
   ]
  },
  {
   "cell_type": "code",
   "execution_count": 44,
   "id": "relative-humanitarian",
   "metadata": {},
   "outputs": [],
   "source": [
    "with open('vocab_stats.json', 'w') as fp:\n",
    "    json.dump(vocab_stats, fp)"
   ]
  },
  {
   "cell_type": "code",
   "execution_count": 45,
   "id": "speaking-updating",
   "metadata": {},
   "outputs": [],
   "source": [
    "res_0 = {'token':[], 'mean_attr': [], 'cnt': []}\n",
    "for token, (attr, cnt) in vocab_stats[0].items():\n",
    "    res_0['token'].append(token)\n",
    "    res_0['mean_attr'].append(attr/(cnt + 1e-8))\n",
    "    res_0['cnt'].append(cnt)\n",
    "res_0_df = pd.DataFrame(res_0).sort_values('mean_attr', ascending=False)"
   ]
  },
  {
   "cell_type": "code",
   "execution_count": 46,
   "id": "blessed-binary",
   "metadata": {},
   "outputs": [],
   "source": [
    "res_1 = {'token':[], 'mean_attr': [], 'cnt': []}\n",
    "for token, (attr, cnt) in vocab_stats[1].items():\n",
    "    res_1['token'].append(token)\n",
    "    res_1['mean_attr'].append(attr/(cnt + 1e-8))\n",
    "    res_1['cnt'].append(cnt)\n",
    "res_1_df = pd.DataFrame(res_1).sort_values('mean_attr', ascending=False)"
   ]
  },
  {
   "cell_type": "code",
   "execution_count": 47,
   "id": "active-chicago",
   "metadata": {},
   "outputs": [
    {
     "data": {
      "text/html": [
       "<div>\n",
       "<style scoped>\n",
       "    .dataframe tbody tr th:only-of-type {\n",
       "        vertical-align: middle;\n",
       "    }\n",
       "\n",
       "    .dataframe tbody tr th {\n",
       "        vertical-align: top;\n",
       "    }\n",
       "\n",
       "    .dataframe thead th {\n",
       "        text-align: right;\n",
       "    }\n",
       "</style>\n",
       "<table border=\"1\" class=\"dataframe\">\n",
       "  <thead>\n",
       "    <tr style=\"text-align: right;\">\n",
       "      <th></th>\n",
       "      <th>token</th>\n",
       "      <th>mean_attr</th>\n",
       "      <th>cnt</th>\n",
       "    </tr>\n",
       "  </thead>\n",
       "  <tbody>\n",
       "    <tr>\n",
       "      <th>3021</th>\n",
       "      <td>reaching</td>\n",
       "      <td>0.439146</td>\n",
       "      <td>11</td>\n",
       "    </tr>\n",
       "    <tr>\n",
       "      <th>1627</th>\n",
       "      <td>feeling</td>\n",
       "      <td>0.409462</td>\n",
       "      <td>25</td>\n",
       "    </tr>\n",
       "    <tr>\n",
       "      <th>815</th>\n",
       "      <td>leaving</td>\n",
       "      <td>0.380825</td>\n",
       "      <td>25</td>\n",
       "    </tr>\n",
       "    <tr>\n",
       "      <th>284</th>\n",
       "      <td>doing</td>\n",
       "      <td>0.377593</td>\n",
       "      <td>114</td>\n",
       "    </tr>\n",
       "    <tr>\n",
       "      <th>612</th>\n",
       "      <td>ave</td>\n",
       "      <td>0.373675</td>\n",
       "      <td>11</td>\n",
       "    </tr>\n",
       "    <tr>\n",
       "      <th>174</th>\n",
       "      <td>going</td>\n",
       "      <td>0.356759</td>\n",
       "      <td>252</td>\n",
       "    </tr>\n",
       "    <tr>\n",
       "      <th>1667</th>\n",
       "      <td>thinking</td>\n",
       "      <td>0.355892</td>\n",
       "      <td>25</td>\n",
       "    </tr>\n",
       "    <tr>\n",
       "      <th>351</th>\n",
       "      <td>seeing</td>\n",
       "      <td>0.340059</td>\n",
       "      <td>14</td>\n",
       "    </tr>\n",
       "    <tr>\n",
       "      <th>2530</th>\n",
       "      <td>loving</td>\n",
       "      <td>0.337437</td>\n",
       "      <td>17</td>\n",
       "    </tr>\n",
       "    <tr>\n",
       "      <th>777</th>\n",
       "      <td>taking</td>\n",
       "      <td>0.332133</td>\n",
       "      <td>42</td>\n",
       "    </tr>\n",
       "    <tr>\n",
       "      <th>167</th>\n",
       "      <td>way</td>\n",
       "      <td>0.327447</td>\n",
       "      <td>132</td>\n",
       "    </tr>\n",
       "    <tr>\n",
       "      <th>1551</th>\n",
       "      <td>mind</td>\n",
       "      <td>0.326457</td>\n",
       "      <td>51</td>\n",
       "    </tr>\n",
       "    <tr>\n",
       "      <th>857</th>\n",
       "      <td>coming</td>\n",
       "      <td>0.323297</td>\n",
       "      <td>93</td>\n",
       "    </tr>\n",
       "    <tr>\n",
       "      <th>693</th>\n",
       "      <td>felt</td>\n",
       "      <td>0.321186</td>\n",
       "      <td>12</td>\n",
       "    </tr>\n",
       "    <tr>\n",
       "      <th>1448</th>\n",
       "      <td>having</td>\n",
       "      <td>0.319362</td>\n",
       "      <td>69</td>\n",
       "    </tr>\n",
       "    <tr>\n",
       "      <th>434</th>\n",
       "      <td>later</td>\n",
       "      <td>0.316465</td>\n",
       "      <td>127</td>\n",
       "    </tr>\n",
       "    <tr>\n",
       "      <th>640</th>\n",
       "      <td>making</td>\n",
       "      <td>0.315447</td>\n",
       "      <td>36</td>\n",
       "    </tr>\n",
       "    <tr>\n",
       "      <th>870</th>\n",
       "      <td>staying</td>\n",
       "      <td>0.315158</td>\n",
       "      <td>11</td>\n",
       "    </tr>\n",
       "    <tr>\n",
       "      <th>124</th>\n",
       "      <td>right</td>\n",
       "      <td>0.312692</td>\n",
       "      <td>112</td>\n",
       "    </tr>\n",
       "    <tr>\n",
       "      <th>153</th>\n",
       "      <td>how</td>\n",
       "      <td>0.310847</td>\n",
       "      <td>403</td>\n",
       "    </tr>\n",
       "  </tbody>\n",
       "</table>\n",
       "</div>"
      ],
      "text/plain": [
       "         token  mean_attr  cnt\n",
       "3021  reaching   0.439146   11\n",
       "1627   feeling   0.409462   25\n",
       "815    leaving   0.380825   25\n",
       "284      doing   0.377593  114\n",
       "612        ave   0.373675   11\n",
       "174      going   0.356759  252\n",
       "1667  thinking   0.355892   25\n",
       "351     seeing   0.340059   14\n",
       "2530    loving   0.337437   17\n",
       "777     taking   0.332133   42\n",
       "167        way   0.327447  132\n",
       "1551      mind   0.326457   51\n",
       "857     coming   0.323297   93\n",
       "693       felt   0.321186   12\n",
       "1448    having   0.319362   69\n",
       "434      later   0.316465  127\n",
       "640     making   0.315447   36\n",
       "870    staying   0.315158   11\n",
       "124      right   0.312692  112\n",
       "153        how   0.310847  403"
      ]
     },
     "execution_count": 47,
     "metadata": {},
     "output_type": "execute_result"
    }
   ],
   "source": [
    "# какие токены встречались достаточно часто и имели наибольшее влияние в хаме\n",
    "res_0_df[res_0_df.cnt>10][:20]"
   ]
  },
  {
   "cell_type": "code",
   "execution_count": 48,
   "id": "professional-penguin",
   "metadata": {},
   "outputs": [
    {
     "data": {
      "text/html": [
       "<div>\n",
       "<style scoped>\n",
       "    .dataframe tbody tr th:only-of-type {\n",
       "        vertical-align: middle;\n",
       "    }\n",
       "\n",
       "    .dataframe tbody tr th {\n",
       "        vertical-align: top;\n",
       "    }\n",
       "\n",
       "    .dataframe thead th {\n",
       "        text-align: right;\n",
       "    }\n",
       "</style>\n",
       "<table border=\"1\" class=\"dataframe\">\n",
       "  <thead>\n",
       "    <tr style=\"text-align: right;\">\n",
       "      <th></th>\n",
       "      <th>token</th>\n",
       "      <th>mean_attr</th>\n",
       "      <th>cnt</th>\n",
       "    </tr>\n",
       "  </thead>\n",
       "  <tbody>\n",
       "    <tr>\n",
       "      <th>966</th>\n",
       "      <td>removed</td>\n",
       "      <td>0.580913</td>\n",
       "      <td>25</td>\n",
       "    </tr>\n",
       "    <tr>\n",
       "      <th>3892</th>\n",
       "      <td>drug</td>\n",
       "      <td>0.451347</td>\n",
       "      <td>27</td>\n",
       "    </tr>\n",
       "    <tr>\n",
       "      <th>2900</th>\n",
       "      <td>market</td>\n",
       "      <td>0.387638</td>\n",
       "      <td>32</td>\n",
       "    </tr>\n",
       "    <tr>\n",
       "      <th>4349</th>\n",
       "      <td>million</td>\n",
       "      <td>0.381769</td>\n",
       "      <td>18</td>\n",
       "    </tr>\n",
       "    <tr>\n",
       "      <th>2637</th>\n",
       "      <td>popular</td>\n",
       "      <td>0.379222</td>\n",
       "      <td>25</td>\n",
       "    </tr>\n",
       "    <tr>\n",
       "      <th>1203</th>\n",
       "      <td>cheap</td>\n",
       "      <td>0.373137</td>\n",
       "      <td>80</td>\n",
       "    </tr>\n",
       "    <tr>\n",
       "      <th>142</th>\n",
       "      <td>000</td>\n",
       "      <td>0.353097</td>\n",
       "      <td>90</td>\n",
       "    </tr>\n",
       "    <tr>\n",
       "      <th>2471</th>\n",
       "      <td>site</td>\n",
       "      <td>0.349938</td>\n",
       "      <td>61</td>\n",
       "    </tr>\n",
       "    <tr>\n",
       "      <th>132</th>\n",
       "      <td>##00</td>\n",
       "      <td>0.343172</td>\n",
       "      <td>192</td>\n",
       "    </tr>\n",
       "    <tr>\n",
       "      <th>3489</th>\n",
       "      <td>anti</td>\n",
       "      <td>0.328502</td>\n",
       "      <td>17</td>\n",
       "    </tr>\n",
       "    <tr>\n",
       "      <th>1869</th>\n",
       "      <td>porn</td>\n",
       "      <td>0.319168</td>\n",
       "      <td>21</td>\n",
       "    </tr>\n",
       "    <tr>\n",
       "      <th>96</th>\n",
       "      <td>##0</td>\n",
       "      <td>0.317101</td>\n",
       "      <td>715</td>\n",
       "    </tr>\n",
       "    <tr>\n",
       "      <th>1457</th>\n",
       "      <td>brand</td>\n",
       "      <td>0.315791</td>\n",
       "      <td>27</td>\n",
       "    </tr>\n",
       "    <tr>\n",
       "      <th>1493</th>\n",
       "      <td>companies</td>\n",
       "      <td>0.314412</td>\n",
       "      <td>15</td>\n",
       "    </tr>\n",
       "    <tr>\n",
       "      <th>765</th>\n",
       "      <td>1000</td>\n",
       "      <td>0.313067</td>\n",
       "      <td>48</td>\n",
       "    </tr>\n",
       "    <tr>\n",
       "      <th>3078</th>\n",
       "      <td>expensive</td>\n",
       "      <td>0.301747</td>\n",
       "      <td>12</td>\n",
       "    </tr>\n",
       "    <tr>\n",
       "      <th>94</th>\n",
       "      <td>£</td>\n",
       "      <td>0.292666</td>\n",
       "      <td>28</td>\n",
       "    </tr>\n",
       "    <tr>\n",
       "      <th>2899</th>\n",
       "      <td>drugs</td>\n",
       "      <td>0.292456</td>\n",
       "      <td>66</td>\n",
       "    </tr>\n",
       "    <tr>\n",
       "      <th>2475</th>\n",
       "      <td>stock</td>\n",
       "      <td>0.291304</td>\n",
       "      <td>77</td>\n",
       "    </tr>\n",
       "    <tr>\n",
       "      <th>140</th>\n",
       "      <td>100</td>\n",
       "      <td>0.290585</td>\n",
       "      <td>84</td>\n",
       "    </tr>\n",
       "  </tbody>\n",
       "</table>\n",
       "</div>"
      ],
      "text/plain": [
       "          token  mean_attr  cnt\n",
       "966     removed   0.580913   25\n",
       "3892       drug   0.451347   27\n",
       "2900     market   0.387638   32\n",
       "4349    million   0.381769   18\n",
       "2637    popular   0.379222   25\n",
       "1203      cheap   0.373137   80\n",
       "142         000   0.353097   90\n",
       "2471       site   0.349938   61\n",
       "132        ##00   0.343172  192\n",
       "3489       anti   0.328502   17\n",
       "1869       porn   0.319168   21\n",
       "96          ##0   0.317101  715\n",
       "1457      brand   0.315791   27\n",
       "1493  companies   0.314412   15\n",
       "765        1000   0.313067   48\n",
       "3078  expensive   0.301747   12\n",
       "94            £   0.292666   28\n",
       "2899      drugs   0.292456   66\n",
       "2475      stock   0.291304   77\n",
       "140         100   0.290585   84"
      ]
     },
     "execution_count": 48,
     "metadata": {},
     "output_type": "execute_result"
    }
   ],
   "source": [
    "# какие токены встречались достаточно часто и имели наибольшее влияние в спаме\n",
    "res_1_df[res_1_df.cnt>10][:20]"
   ]
  },
  {
   "cell_type": "markdown",
   "id": "promising-utilization",
   "metadata": {},
   "source": [
    "Результаты по содержанию отличаются от классических методов (хотя пока я изучал работу, некоторые одинаковые токены появлялись), однако здесь также прослеживается соотвествие интуитивным представлениям о спаме -- в спамовых сообщениях явно говорится о деньгах, наркотиках, порно и тд. В неспаме видим что представлены слова без какой-то яркой окраски (и заметно кстати, что глаголы более популярны)"
   ]
  },
  {
   "cell_type": "code",
   "execution_count": null,
   "id": "piano-snowboard",
   "metadata": {},
   "outputs": [],
   "source": []
  }
 ],
 "metadata": {
  "kernelspec": {
   "display_name": "Python 3",
   "language": "python",
   "name": "python3"
  },
  "language_info": {
   "codemirror_mode": {
    "name": "ipython",
    "version": 3
   },
   "file_extension": ".py",
   "mimetype": "text/x-python",
   "name": "python",
   "nbconvert_exporter": "python",
   "pygments_lexer": "ipython3",
   "version": "3.7.9"
  }
 },
 "nbformat": 4,
 "nbformat_minor": 5
}
