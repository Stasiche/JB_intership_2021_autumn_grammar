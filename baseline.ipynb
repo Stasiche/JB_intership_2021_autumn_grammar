{
 "cells": [
  {
   "cell_type": "code",
   "execution_count": 1,
   "id": "immediate-curve",
   "metadata": {},
   "outputs": [],
   "source": [
    "import pandas as pd\n",
    "import numpy as np\n",
    "\n",
    "from sklearn.model_selection import train_test_split\n",
    "\n",
    "from sklearn.feature_extraction.text import TfidfVectorizer\n",
    "\n",
    "from sklearn.naive_bayes import MultinomialNB\n",
    "from sklearn.ensemble import RandomForestClassifier\n",
    "from sklearn.svm import SVC\n",
    "\n",
    "from sklearn.metrics import plot_confusion_matrix\n",
    "from sklearn.metrics import classification_report\n",
    "from sklearn.metrics import matthews_corrcoef\n",
    "\n",
    "from tqdm.notebook import tqdm"
   ]
  },
  {
   "cell_type": "code",
   "execution_count": 2,
   "id": "basic-sound",
   "metadata": {},
   "outputs": [],
   "source": [
    "from sklearn.model_selection import StratifiedKFold"
   ]
  },
  {
   "cell_type": "code",
   "execution_count": 4,
   "id": "athletic-pound",
   "metadata": {},
   "outputs": [],
   "source": [
    "# загрузим датасеты, больше даннных -- не меньше данных\n",
    "data_1 = pd.read_csv('data/SPAM text message 20170820 - Data.csv', index_col='Category').rename(columns={'Message':'text'},)\n",
    "data_2 = pd.read_csv('data/spam.csv', index_col='v1')[['v2']].rename(columns={'v2':'text'})\n",
    "data_3 = pd.read_csv('data/spam_ham_dataset.csv', index_col='label')[['text']]"
   ]
  },
  {
   "cell_type": "code",
   "execution_count": 5,
   "id": "straight-wales",
   "metadata": {},
   "outputs": [],
   "source": [
    "# посмотрим на соотношение классов"
   ]
  },
  {
   "cell_type": "code",
   "execution_count": 6,
   "id": "funny-laser",
   "metadata": {},
   "outputs": [
    {
     "data": {
      "text/html": [
       "<div>\n",
       "<style scoped>\n",
       "    .dataframe tbody tr th:only-of-type {\n",
       "        vertical-align: middle;\n",
       "    }\n",
       "\n",
       "    .dataframe tbody tr th {\n",
       "        vertical-align: top;\n",
       "    }\n",
       "\n",
       "    .dataframe thead th {\n",
       "        text-align: right;\n",
       "    }\n",
       "</style>\n",
       "<table border=\"1\" class=\"dataframe\">\n",
       "  <thead>\n",
       "    <tr style=\"text-align: right;\">\n",
       "      <th></th>\n",
       "      <th>text</th>\n",
       "    </tr>\n",
       "    <tr>\n",
       "      <th>Category</th>\n",
       "      <th></th>\n",
       "    </tr>\n",
       "  </thead>\n",
       "  <tbody>\n",
       "    <tr>\n",
       "      <th>ham</th>\n",
       "      <td>4825</td>\n",
       "    </tr>\n",
       "    <tr>\n",
       "      <th>spam</th>\n",
       "      <td>747</td>\n",
       "    </tr>\n",
       "  </tbody>\n",
       "</table>\n",
       "</div>"
      ],
      "text/plain": [
       "          text\n",
       "Category      \n",
       "ham       4825\n",
       "spam       747"
      ]
     },
     "execution_count": 6,
     "metadata": {},
     "output_type": "execute_result"
    }
   ],
   "source": [
    "data_1.groupby('Category').count()"
   ]
  },
  {
   "cell_type": "code",
   "execution_count": 7,
   "id": "acquired-motorcycle",
   "metadata": {},
   "outputs": [
    {
     "data": {
      "text/html": [
       "<div>\n",
       "<style scoped>\n",
       "    .dataframe tbody tr th:only-of-type {\n",
       "        vertical-align: middle;\n",
       "    }\n",
       "\n",
       "    .dataframe tbody tr th {\n",
       "        vertical-align: top;\n",
       "    }\n",
       "\n",
       "    .dataframe thead th {\n",
       "        text-align: right;\n",
       "    }\n",
       "</style>\n",
       "<table border=\"1\" class=\"dataframe\">\n",
       "  <thead>\n",
       "    <tr style=\"text-align: right;\">\n",
       "      <th></th>\n",
       "      <th>text</th>\n",
       "    </tr>\n",
       "    <tr>\n",
       "      <th>v1</th>\n",
       "      <th></th>\n",
       "    </tr>\n",
       "  </thead>\n",
       "  <tbody>\n",
       "    <tr>\n",
       "      <th>ham</th>\n",
       "      <td>4825</td>\n",
       "    </tr>\n",
       "    <tr>\n",
       "      <th>spam</th>\n",
       "      <td>747</td>\n",
       "    </tr>\n",
       "  </tbody>\n",
       "</table>\n",
       "</div>"
      ],
      "text/plain": [
       "      text\n",
       "v1        \n",
       "ham   4825\n",
       "spam   747"
      ]
     },
     "execution_count": 7,
     "metadata": {},
     "output_type": "execute_result"
    }
   ],
   "source": [
    "data_2.groupby('v1').count()"
   ]
  },
  {
   "cell_type": "code",
   "execution_count": 8,
   "id": "champion-coast",
   "metadata": {},
   "outputs": [
    {
     "data": {
      "text/html": [
       "<div>\n",
       "<style scoped>\n",
       "    .dataframe tbody tr th:only-of-type {\n",
       "        vertical-align: middle;\n",
       "    }\n",
       "\n",
       "    .dataframe tbody tr th {\n",
       "        vertical-align: top;\n",
       "    }\n",
       "\n",
       "    .dataframe thead th {\n",
       "        text-align: right;\n",
       "    }\n",
       "</style>\n",
       "<table border=\"1\" class=\"dataframe\">\n",
       "  <thead>\n",
       "    <tr style=\"text-align: right;\">\n",
       "      <th></th>\n",
       "      <th>text</th>\n",
       "    </tr>\n",
       "    <tr>\n",
       "      <th>label</th>\n",
       "      <th></th>\n",
       "    </tr>\n",
       "  </thead>\n",
       "  <tbody>\n",
       "    <tr>\n",
       "      <th>ham</th>\n",
       "      <td>3672</td>\n",
       "    </tr>\n",
       "    <tr>\n",
       "      <th>spam</th>\n",
       "      <td>1499</td>\n",
       "    </tr>\n",
       "  </tbody>\n",
       "</table>\n",
       "</div>"
      ],
      "text/plain": [
       "       text\n",
       "label      \n",
       "ham    3672\n",
       "spam   1499"
      ]
     },
     "execution_count": 8,
     "metadata": {},
     "output_type": "execute_result"
    }
   ],
   "source": [
    "data_3.groupby('label').count()"
   ]
  },
  {
   "cell_type": "code",
   "execution_count": 9,
   "id": "wooden-reputation",
   "metadata": {},
   "outputs": [
    {
     "name": "stdout",
     "output_type": "stream",
     "text": [
      "I'm gonna be home soon and i don't want to talk about this stuff anymore tonight, k? I've cried enough today.\n",
      "_________\n",
      "Subject: ehronline web address change\r\n",
      "this message is intended for ehronline users only .\r\n",
      "due to a recent change to ehronline , the url ( aka \" web address \" ) for accessing ehronline needs to be changed on your computer . the change involves adding the letter \" s \" to the \" http \" reference in the url . the url for accessing ehronline should be : https : / / ehronline . enron . com .\r\n",
      "this change should be made by those who have added the url as a favorite on the browser .\n"
     ]
    }
   ],
   "source": [
    "# первые два датасета __очень__ сильно пересекаются. Будем считать что это один и тот же датасет.\n",
    "# Все три датасета можно объединить только если они стилистически похожи. посмотрим\n",
    "print(data_1.text.iloc[10])\n",
    "print('_________')\n",
    "print(data_3.text.iloc[5])"
   ]
  },
  {
   "cell_type": "markdown",
   "id": "superb-contrast",
   "metadata": {},
   "source": [
    "Первое что бросается в глаза -- в последнем датасете более длинные сообщения и везде присуствует заголовок. Обе этих проблемы можно обыграть по-разному, но главное убрать слово subject. Иначе модель может подумать, что это хороший признак для спама (2/3 всего спама будет начинаться с него, против менее чем половины хама)."
   ]
  },
  {
   "cell_type": "code",
   "execution_count": 10,
   "id": "vulnerable-angola",
   "metadata": {},
   "outputs": [],
   "source": [
    "data_3.text = data_3.text.apply(lambda x: x.replace('Subject: ', '').replace('\\n', ' ').replace('\\r', ''))"
   ]
  },
  {
   "cell_type": "code",
   "execution_count": 11,
   "id": "vietnamese-chicago",
   "metadata": {},
   "outputs": [
    {
     "data": {
      "text/html": [
       "<div>\n",
       "<style scoped>\n",
       "    .dataframe tbody tr th:only-of-type {\n",
       "        vertical-align: middle;\n",
       "    }\n",
       "\n",
       "    .dataframe tbody tr th {\n",
       "        vertical-align: top;\n",
       "    }\n",
       "\n",
       "    .dataframe thead th {\n",
       "        text-align: right;\n",
       "    }\n",
       "</style>\n",
       "<table border=\"1\" class=\"dataframe\">\n",
       "  <thead>\n",
       "    <tr style=\"text-align: right;\">\n",
       "      <th></th>\n",
       "      <th>text</th>\n",
       "    </tr>\n",
       "  </thead>\n",
       "  <tbody>\n",
       "    <tr>\n",
       "      <th>0</th>\n",
       "      <td>Go until jurong point, crazy.. Available only ...</td>\n",
       "    </tr>\n",
       "    <tr>\n",
       "      <th>0</th>\n",
       "      <td>Ok lar... Joking wif u oni...</td>\n",
       "    </tr>\n",
       "    <tr>\n",
       "      <th>1</th>\n",
       "      <td>Free entry in 2 a wkly comp to win FA Cup fina...</td>\n",
       "    </tr>\n",
       "    <tr>\n",
       "      <th>0</th>\n",
       "      <td>U dun say so early hor... U c already then say...</td>\n",
       "    </tr>\n",
       "    <tr>\n",
       "      <th>0</th>\n",
       "      <td>Nah I don't think he goes to usf, he lives aro...</td>\n",
       "    </tr>\n",
       "    <tr>\n",
       "      <th>...</th>\n",
       "      <td>...</td>\n",
       "    </tr>\n",
       "    <tr>\n",
       "      <th>1</th>\n",
       "      <td>slutty milf wants to meet you take that ! ' il...</td>\n",
       "    </tr>\n",
       "    <tr>\n",
       "      <th>0</th>\n",
       "      <td>put the 10 on the ft the transport volumes dec...</td>\n",
       "    </tr>\n",
       "    <tr>\n",
       "      <th>0</th>\n",
       "      <td>3 / 4 / 2000 and following noms hpl can ' t ta...</td>\n",
       "    </tr>\n",
       "    <tr>\n",
       "      <th>0</th>\n",
       "      <td>industrial worksheets for august 2000 activity...</td>\n",
       "    </tr>\n",
       "    <tr>\n",
       "      <th>1</th>\n",
       "      <td>important online banking alert dear valued cit...</td>\n",
       "    </tr>\n",
       "  </tbody>\n",
       "</table>\n",
       "<p>10772 rows × 1 columns</p>\n",
       "</div>"
      ],
      "text/plain": [
       "                                                 text\n",
       "0   Go until jurong point, crazy.. Available only ...\n",
       "0                       Ok lar... Joking wif u oni...\n",
       "1   Free entry in 2 a wkly comp to win FA Cup fina...\n",
       "0   U dun say so early hor... U c already then say...\n",
       "0   Nah I don't think he goes to usf, he lives aro...\n",
       "..                                                ...\n",
       "1   slutty milf wants to meet you take that ! ' il...\n",
       "0   put the 10 on the ft the transport volumes dec...\n",
       "0   3 / 4 / 2000 and following noms hpl can ' t ta...\n",
       "0   industrial worksheets for august 2000 activity...\n",
       "1   important online banking alert dear valued cit...\n",
       "\n",
       "[10772 rows x 1 columns]"
      ]
     },
     "execution_count": 11,
     "metadata": {},
     "output_type": "execute_result"
    }
   ],
   "source": [
    "data = pd.concat([data_1, data_2, data_3]).drop_duplicates()\n",
    "data.index = pd.Index(map(lambda x: int(x == 'spam'), data.index))\n",
    "data"
   ]
  },
  {
   "cell_type": "code",
   "execution_count": 12,
   "id": "planned-ready",
   "metadata": {},
   "outputs": [],
   "source": [
    "def train_val(clf, X_train, X_test, y_train, y_test, vectorizer, full=False):\n",
    "    # векторизуем каждое предложение, обучаясь только на тренировочной подвыборке\n",
    "    train_vec = vectorizer.fit_transform(X_train) \n",
    "    test_vec  = vectorizer.transform(X_test)\n",
    "    \n",
    "    # обучаем классификатор\n",
    "    clf.fit(train_vec, y_train)\n",
    "    \n",
    "    # вычисляем предсказания классификкатора на тестовой подвыборке\n",
    "    pred = clf.predict(test_vec)\n",
    "\n",
    "    # при необходиомости выводим матрицу ошибок и расширенный отчет по метрикам\n",
    "    if full:\n",
    "        plot_confusion_matrix(clf, test_vec, y_test)\n",
    "\n",
    "        print(classification_report(y_test, pred))\n",
    "    \n",
    "    # вычисляем фи-коэффициент как основную метрику (читайте ниже почему она)\n",
    "    return matthews_corrcoef(y_test, pred)"
   ]
  },
  {
   "cell_type": "code",
   "execution_count": 13,
   "id": "trying-finding",
   "metadata": {},
   "outputs": [],
   "source": [
    "def cross_val(clf, data, vectorizer, full=False):\n",
    "    # напишем свою кросс-валидацию, потому что это быстрее, \n",
    "    # чем вспоминать как без даталиков использовать скалерн-пайплайн\n",
    "    res = []\n",
    "    kf = StratifiedKFold(n_splits=5, shuffle=True)\n",
    "    X, y = data, data.index\n",
    "    # для каждого разбиения\n",
    "    for train_indxs, test_indxs in tqdm(kf.split(X, y), total=5):\n",
    "        # отделяем трейн от теста\n",
    "        train_data, test_data = data.iloc[train_indxs], data.iloc[test_indxs]\n",
    "        \n",
    "        X_train, y_train = train_data.text.values, train_data.index\n",
    "        X_test, y_test = test_data.text.values, test_data.index\n",
    "        \n",
    "        # обучаемся и валидируемся\n",
    "        res.append(train_val(clf, X_train, X_test, y_train, y_test, vectorizer))\n",
    "    return res"
   ]
  },
  {
   "cell_type": "code",
   "execution_count": 14,
   "id": "defensive-zimbabwe",
   "metadata": {},
   "outputs": [],
   "source": [
    "# делим на обучающую и тестовые подвыборки для получения более подробных метрик\n",
    "X_train, X_test, y_train, y_test = train_test_split(\n",
    "    data.text.values, data.index, test_size = 0.2,stratify=data.index)"
   ]
  },
  {
   "cell_type": "code",
   "execution_count": 15,
   "id": "breeding-semiconductor",
   "metadata": {},
   "outputs": [],
   "source": [
    "# векторизуем обычным tfidf с выкидыванием популярных слов и переводом текста в нижний регистр\n",
    "vectorizer = TfidfVectorizer(  \n",
    "    lowercase=True,      \n",
    "    stop_words='english' \n",
    ")"
   ]
  },
  {
   "cell_type": "code",
   "execution_count": 16,
   "id": "impaired-voluntary",
   "metadata": {},
   "outputs": [
    {
     "data": {
      "application/vnd.jupyter.widget-view+json": {
       "model_id": "dc9a53cd93934c4f842b8555d988f344",
       "version_major": 2,
       "version_minor": 0
      },
      "text/plain": [
       "HBox(children=(FloatProgress(value=0.0, max=5.0), HTML(value='')))"
      ]
     },
     "metadata": {},
     "output_type": "display_data"
    },
    {
     "name": "stdout",
     "output_type": "stream",
     "text": [
      "\n",
      "[0.7105 0.7274 0.7355 0.728  0.7298] 0.7263\n",
      "              precision    recall  f1-score   support\n",
      "\n",
      "           0       0.89      1.00      0.94      1685\n",
      "           1       1.00      0.57      0.73       470\n",
      "\n",
      "    accuracy                           0.91      2155\n",
      "   macro avg       0.95      0.79      0.84      2155\n",
      "weighted avg       0.92      0.91      0.90      2155\n",
      "\n"
     ]
    },
    {
     "data": {
      "text/plain": [
       "0.7150827792929976"
      ]
     },
     "execution_count": 16,
     "metadata": {},
     "output_type": "execute_result"
    },
    {
     "data": {
      "image/png": "[encoded data removed]",
      "text/plain": [
       "<Figure size 432x288 with 2 Axes>"
      ]
     },
     "metadata": {
      "needs_background": "light"
     },
     "output_type": "display_data"
    }
   ],
   "source": [
    "# выбираем классификатор\n",
    "classifier = MultinomialNB()\n",
    "\n",
    "# проводим кроссвалидацию \n",
    "res = cross_val(classifier, data, vectorizer)\n",
    "\n",
    "# смотрим на результаты кроссвалидации и подробные результаты точечной проверки\n",
    "print(np.round(res,4), np.round(sum(res)/len(res), 4))\n",
    "train_val(classifier, X_train, X_test, y_train, y_test, vectorizer, full=True)"
   ]
  },
  {
   "cell_type": "code",
   "execution_count": 17,
   "id": "signal-transformation",
   "metadata": {},
   "outputs": [
    {
     "data": {
      "application/vnd.jupyter.widget-view+json": {
       "model_id": "c546eacd9c6b46e6be8b74db7dbe536b",
       "version_major": 2,
       "version_minor": 0
      },
      "text/plain": [
       "HBox(children=(FloatProgress(value=0.0, max=5.0), HTML(value='')))"
      ]
     },
     "metadata": {},
     "output_type": "display_data"
    },
    {
     "name": "stdout",
     "output_type": "stream",
     "text": [
      "\n",
      "[0.864  0.8697 0.8596 0.8638 0.8611] 0.8636\n",
      "              precision    recall  f1-score   support\n",
      "\n",
      "           0       0.96      1.00      0.98      1685\n",
      "           1       0.99      0.83      0.91       470\n",
      "\n",
      "    accuracy                           0.96      2155\n",
      "   macro avg       0.97      0.92      0.94      2155\n",
      "weighted avg       0.96      0.96      0.96      2155\n",
      "\n"
     ]
    },
    {
     "data": {
      "text/plain": [
       "0.8867857549768832"
      ]
     },
     "execution_count": 17,
     "metadata": {},
     "output_type": "execute_result"
    },
    {
     "data": {
      "image/png": "[encoded data removed]",
      "text/plain": [
       "<Figure size 432x288 with 2 Axes>"
      ]
     },
     "metadata": {
      "needs_background": "light"
     },
     "output_type": "display_data"
    }
   ],
   "source": [
    "classifier = RandomForestClassifier()\n",
    "res = cross_val(classifier, data, vectorizer)\n",
    "print(np.round(res,4), np.round(sum(res)/len(res), 4))\n",
    "train_val(classifier, X_train, X_test, y_train, y_test, vectorizer, full=True)"
   ]
  },
  {
   "cell_type": "code",
   "execution_count": 18,
   "id": "likely-sugar",
   "metadata": {},
   "outputs": [
    {
     "data": {
      "application/vnd.jupyter.widget-view+json": {
       "model_id": "4a0499296aa34ed7bef96097cb7d5ad2",
       "version_major": 2,
       "version_minor": 0
      },
      "text/plain": [
       "HBox(children=(FloatProgress(value=0.0, max=5.0), HTML(value='')))"
      ]
     },
     "metadata": {},
     "output_type": "display_data"
    },
    {
     "name": "stdout",
     "output_type": "stream",
     "text": [
      "\n",
      "[0.8686 0.8726 0.8612 0.8555 0.8654] 0.8647\n",
      "              precision    recall  f1-score   support\n",
      "\n",
      "           0       0.96      1.00      0.98      1685\n",
      "           1       0.98      0.84      0.90       470\n",
      "\n",
      "    accuracy                           0.96      2155\n",
      "   macro avg       0.97      0.92      0.94      2155\n",
      "weighted avg       0.96      0.96      0.96      2155\n",
      "\n"
     ]
    },
    {
     "data": {
      "text/plain": [
       "0.8836425165187017"
      ]
     },
     "execution_count": 18,
     "metadata": {},
     "output_type": "execute_result"
    },
    {
     "data": {
      "image/png": "[encoded data removed]",
      "text/plain": [
       "<Figure size 432x288 with 2 Axes>"
      ]
     },
     "metadata": {
      "needs_background": "light"
     },
     "output_type": "display_data"
    }
   ],
   "source": [
    "classifier = SVC()\n",
    "res = cross_val(classifier, data, vectorizer)\n",
    "print(np.round(res,4), np.round(sum(res)/len(res), 4))\n",
    "train_val(classifier, X_train, X_test, y_train, y_test, vectorizer, full=True)"
   ]
  },
  {
   "cell_type": "markdown",
   "id": "moderate-health",
   "metadata": {},
   "source": [
    "Бейзлайн показывает, что полнота (она же чувствительность в рамках нашей бинарной классификации) определения спама значительно проседает и это в целом основная проблема. То есть надо сосредоточиться на этой проблеме. \n",
    "\n",
    "Также в столь несбалансированной выборке смотреть только на f1-score не кажется хорошей практикой, более релевантной показала себя MCC, которая учитывает все значения в таблице ошибок."
   ]
  },
  {
   "cell_type": "code",
   "execution_count": null,
   "id": "experienced-restaurant",
   "metadata": {},
   "outputs": [],
   "source": []
  },
  {
   "cell_type": "code",
   "execution_count": null,
   "id": "completed-butterfly",
   "metadata": {},
   "outputs": [],
   "source": []
  }
 ],
 "metadata": {
  "kernelspec": {
   "display_name": "Python 3",
   "language": "python",
   "name": "python3"
  },
  "language_info": {
   "codemirror_mode": {
    "name": "ipython",
    "version": 3
   },
   "file_extension": ".py",
   "mimetype": "text/x-python",
   "name": "python",
   "nbconvert_exporter": "python",
   "pygments_lexer": "ipython3",
   "version": "3.7.9"
  }
 },
 "nbformat": 4,
 "nbformat_minor": 5
}