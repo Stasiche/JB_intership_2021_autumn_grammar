{
 "cells": [
  {
   "cell_type": "code",
   "execution_count": 1,
   "id": "immediate-curve",
   "metadata": {},
   "outputs": [],
   "source": [
    "import pandas as pd\n",
    "import numpy as np\n",
    "import os\n",
    "from os.path import join\n",
    "\n",
    "from sklearn.model_selection import train_test_split\n",
    "\n",
    "from sklearn.feature_extraction.text import TfidfVectorizer\n",
    "\n",
    "from sklearn.naive_bayes import MultinomialNB\n",
    "from sklearn.ensemble import RandomForestClassifier\n",
    "from sklearn.svm import SVC\n",
    "\n",
    "from sklearn.metrics import plot_confusion_matrix\n",
    "from sklearn.metrics import classification_report\n",
    "from sklearn.metrics import matthews_corrcoef\n",
    "\n",
    "from tqdm.notebook import tqdm"
   ]
  },
  {
   "cell_type": "code",
   "execution_count": 2,
   "id": "basic-sound",
   "metadata": {},
   "outputs": [],
   "source": [
    "from sklearn.feature_extraction.text import CountVectorizer\n",
    "from sklearn.feature_extraction.text import TfidfTransformer\n",
    "from sklearn.linear_model import SGDClassifier\n",
    "from sklearn.model_selection import GridSearchCV\n",
    "from sklearn.pipeline import Pipeline\n",
    "\n",
    "from sklearn.model_selection import StratifiedKFold"
   ]
  },
  {
   "cell_type": "code",
   "execution_count": 3,
   "id": "military-address",
   "metadata": {},
   "outputs": [],
   "source": [
    "import nltk\n",
    "from nltk.stem.porter import PorterStemmer\n",
    "from nltk.stem import WordNetLemmatizer\n",
    "\n",
    "from nltk.corpus import stopwords"
   ]
  },
  {
   "cell_type": "code",
   "execution_count": 4,
   "id": "reduced-french",
   "metadata": {},
   "outputs": [],
   "source": [
    "import youtokentome as yttm"
   ]
  },
  {
   "cell_type": "code",
   "execution_count": 5,
   "id": "athletic-pound",
   "metadata": {},
   "outputs": [],
   "source": [
    "data_1 = pd.read_csv('data/SPAM text message 20170820 - Data.csv', index_col='Category').rename(columns={'Message':'text'},)\n",
    "data_2 = pd.read_csv('data/spam.csv', index_col='v1')[['v2']].rename(columns={'v2':'text'})\n",
    "data_3 = pd.read_csv('data/spam_ham_dataset.csv', index_col='label')[['text']]"
   ]
  },
  {
   "cell_type": "markdown",
   "id": "polar-reflection",
   "metadata": {},
   "source": [
    "посмоторим на соотношение классов данных"
   ]
  },
  {
   "cell_type": "code",
   "execution_count": 28,
   "id": "second-number",
   "metadata": {},
   "outputs": [
    {
     "data": {
      "text/html": [
       "<div>\n",
       "<style scoped>\n",
       "    .dataframe tbody tr th:only-of-type {\n",
       "        vertical-align: middle;\n",
       "    }\n",
       "\n",
       "    .dataframe tbody tr th {\n",
       "        vertical-align: top;\n",
       "    }\n",
       "\n",
       "    .dataframe thead th {\n",
       "        text-align: right;\n",
       "    }\n",
       "</style>\n",
       "<table border=\"1\" class=\"dataframe\">\n",
       "  <thead>\n",
       "    <tr style=\"text-align: right;\">\n",
       "      <th></th>\n",
       "      <th>text</th>\n",
       "    </tr>\n",
       "    <tr>\n",
       "      <th>Category</th>\n",
       "      <th></th>\n",
       "    </tr>\n",
       "  </thead>\n",
       "  <tbody>\n",
       "    <tr>\n",
       "      <th>ham</th>\n",
       "      <td>4825</td>\n",
       "    </tr>\n",
       "    <tr>\n",
       "      <th>spam</th>\n",
       "      <td>747</td>\n",
       "    </tr>\n",
       "  </tbody>\n",
       "</table>\n",
       "</div>"
      ],
      "text/plain": [
       "          text\n",
       "Category      \n",
       "ham       4825\n",
       "spam       747"
      ]
     },
     "execution_count": 28,
     "metadata": {},
     "output_type": "execute_result"
    }
   ],
   "source": [
    "data_1.groupby('Category').count()"
   ]
  },
  {
   "cell_type": "code",
   "execution_count": 29,
   "id": "public-discrimination",
   "metadata": {},
   "outputs": [
    {
     "data": {
      "text/html": [
       "<div>\n",
       "<style scoped>\n",
       "    .dataframe tbody tr th:only-of-type {\n",
       "        vertical-align: middle;\n",
       "    }\n",
       "\n",
       "    .dataframe tbody tr th {\n",
       "        vertical-align: top;\n",
       "    }\n",
       "\n",
       "    .dataframe thead th {\n",
       "        text-align: right;\n",
       "    }\n",
       "</style>\n",
       "<table border=\"1\" class=\"dataframe\">\n",
       "  <thead>\n",
       "    <tr style=\"text-align: right;\">\n",
       "      <th></th>\n",
       "      <th>text</th>\n",
       "    </tr>\n",
       "    <tr>\n",
       "      <th>v1</th>\n",
       "      <th></th>\n",
       "    </tr>\n",
       "  </thead>\n",
       "  <tbody>\n",
       "    <tr>\n",
       "      <th>ham</th>\n",
       "      <td>4825</td>\n",
       "    </tr>\n",
       "    <tr>\n",
       "      <th>spam</th>\n",
       "      <td>747</td>\n",
       "    </tr>\n",
       "  </tbody>\n",
       "</table>\n",
       "</div>"
      ],
      "text/plain": [
       "      text\n",
       "v1        \n",
       "ham   4825\n",
       "spam   747"
      ]
     },
     "execution_count": 29,
     "metadata": {},
     "output_type": "execute_result"
    }
   ],
   "source": [
    "data_2.groupby('v1').count()"
   ]
  },
  {
   "cell_type": "code",
   "execution_count": 30,
   "id": "existing-marine",
   "metadata": {},
   "outputs": [
    {
     "data": {
      "text/html": [
       "<div>\n",
       "<style scoped>\n",
       "    .dataframe tbody tr th:only-of-type {\n",
       "        vertical-align: middle;\n",
       "    }\n",
       "\n",
       "    .dataframe tbody tr th {\n",
       "        vertical-align: top;\n",
       "    }\n",
       "\n",
       "    .dataframe thead th {\n",
       "        text-align: right;\n",
       "    }\n",
       "</style>\n",
       "<table border=\"1\" class=\"dataframe\">\n",
       "  <thead>\n",
       "    <tr style=\"text-align: right;\">\n",
       "      <th></th>\n",
       "      <th>text</th>\n",
       "    </tr>\n",
       "    <tr>\n",
       "      <th>label</th>\n",
       "      <th></th>\n",
       "    </tr>\n",
       "  </thead>\n",
       "  <tbody>\n",
       "    <tr>\n",
       "      <th>ham</th>\n",
       "      <td>3672</td>\n",
       "    </tr>\n",
       "    <tr>\n",
       "      <th>spam</th>\n",
       "      <td>1499</td>\n",
       "    </tr>\n",
       "  </tbody>\n",
       "</table>\n",
       "</div>"
      ],
      "text/plain": [
       "       text\n",
       "label      \n",
       "ham    3672\n",
       "spam   1499"
      ]
     },
     "execution_count": 30,
     "metadata": {},
     "output_type": "execute_result"
    }
   ],
   "source": [
    "data_3.groupby('label').count()"
   ]
  },
  {
   "cell_type": "code",
   "execution_count": 31,
   "id": "stone-conjunction",
   "metadata": {},
   "outputs": [
    {
     "name": "stdout",
     "output_type": "stream",
     "text": [
      "I'm gonna be home soon and i don't want to talk about this stuff anymore tonight, k? I've cried enough today.\n",
      "_________\n",
      "ehronline web address change this message is intended for ehronline users only . due to a recent change to ehronline , the url ( aka \" web address \" ) for accessing ehronline needs to be changed on your computer . the change involves adding the letter \" s \" to the \" http \" reference in the url . the url for accessing ehronline should be : https : / / ehronline . enron . com . this change should be made by those who have added the url as a favorite on the browser .\n"
     ]
    }
   ],
   "source": [
    "# первые два датасета __очень__ сильно пересекаются. Будем считать что это один и тот же датасет.\n",
    "# Все три датасета можно объединить только если они стилистически похожи. посмотрим\n",
    "print(data_1.text.iloc[10])\n",
    "print('_________')\n",
    "print(data_3.text.iloc[5])"
   ]
  },
  {
   "cell_type": "markdown",
   "id": "adopted-condition",
   "metadata": {},
   "source": [
    "Первое что бросается в глаза -- в последнем датасете более длинные сообщения и везде присуствует заголовок. Обе этих проблемы можно обыграть по-разному, но главное убрать слово subject. Иначе модель может подумать, что это хороший признак для спама (2/3 всего спама будет начинаться с него, против менее чем половины хама)."
   ]
  },
  {
   "cell_type": "code",
   "execution_count": 6,
   "id": "aware-intranet",
   "metadata": {},
   "outputs": [],
   "source": [
    "data_3.text = data_3.text.apply(lambda x: x.replace('Subject: ', '').replace('\\n', ' ').replace('\\r', ''))"
   ]
  },
  {
   "cell_type": "code",
   "execution_count": 7,
   "id": "vietnamese-chicago",
   "metadata": {},
   "outputs": [
    {
     "data": {
      "text/html": [
       "<div>\n",
       "<style scoped>\n",
       "    .dataframe tbody tr th:only-of-type {\n",
       "        vertical-align: middle;\n",
       "    }\n",
       "\n",
       "    .dataframe tbody tr th {\n",
       "        vertical-align: top;\n",
       "    }\n",
       "\n",
       "    .dataframe thead th {\n",
       "        text-align: right;\n",
       "    }\n",
       "</style>\n",
       "<table border=\"1\" class=\"dataframe\">\n",
       "  <thead>\n",
       "    <tr style=\"text-align: right;\">\n",
       "      <th></th>\n",
       "      <th>text</th>\n",
       "    </tr>\n",
       "  </thead>\n",
       "  <tbody>\n",
       "    <tr>\n",
       "      <th>0</th>\n",
       "      <td>Go until jurong point, crazy.. Available only ...</td>\n",
       "    </tr>\n",
       "    <tr>\n",
       "      <th>0</th>\n",
       "      <td>Ok lar... Joking wif u oni...</td>\n",
       "    </tr>\n",
       "    <tr>\n",
       "      <th>1</th>\n",
       "      <td>Free entry in 2 a wkly comp to win FA Cup fina...</td>\n",
       "    </tr>\n",
       "    <tr>\n",
       "      <th>0</th>\n",
       "      <td>U dun say so early hor... U c already then say...</td>\n",
       "    </tr>\n",
       "    <tr>\n",
       "      <th>0</th>\n",
       "      <td>Nah I don't think he goes to usf, he lives aro...</td>\n",
       "    </tr>\n",
       "    <tr>\n",
       "      <th>...</th>\n",
       "      <td>...</td>\n",
       "    </tr>\n",
       "    <tr>\n",
       "      <th>1</th>\n",
       "      <td>slutty milf wants to meet you take that ! ' il...</td>\n",
       "    </tr>\n",
       "    <tr>\n",
       "      <th>0</th>\n",
       "      <td>put the 10 on the ft the transport volumes dec...</td>\n",
       "    </tr>\n",
       "    <tr>\n",
       "      <th>0</th>\n",
       "      <td>3 / 4 / 2000 and following noms hpl can ' t ta...</td>\n",
       "    </tr>\n",
       "    <tr>\n",
       "      <th>0</th>\n",
       "      <td>industrial worksheets for august 2000 activity...</td>\n",
       "    </tr>\n",
       "    <tr>\n",
       "      <th>1</th>\n",
       "      <td>important online banking alert dear valued cit...</td>\n",
       "    </tr>\n",
       "  </tbody>\n",
       "</table>\n",
       "<p>10772 rows × 1 columns</p>\n",
       "</div>"
      ],
      "text/plain": [
       "                                                 text\n",
       "0   Go until jurong point, crazy.. Available only ...\n",
       "0                       Ok lar... Joking wif u oni...\n",
       "1   Free entry in 2 a wkly comp to win FA Cup fina...\n",
       "0   U dun say so early hor... U c already then say...\n",
       "0   Nah I don't think he goes to usf, he lives aro...\n",
       "..                                                ...\n",
       "1   slutty milf wants to meet you take that ! ' il...\n",
       "0   put the 10 on the ft the transport volumes dec...\n",
       "0   3 / 4 / 2000 and following noms hpl can ' t ta...\n",
       "0   industrial worksheets for august 2000 activity...\n",
       "1   important online banking alert dear valued cit...\n",
       "\n",
       "[10772 rows x 1 columns]"
      ]
     },
     "execution_count": 7,
     "metadata": {},
     "output_type": "execute_result"
    }
   ],
   "source": [
    "data = pd.concat([data_1, data_2, data_3]).drop_duplicates()\n",
    "data.index = pd.Index(map(lambda x: int(x == 'spam'), data.index))\n",
    "data"
   ]
  },
  {
   "cell_type": "code",
   "execution_count": 19,
   "id": "planned-ready",
   "metadata": {},
   "outputs": [],
   "source": [
    "def train_val(clf, X_train, X_test, y_train, y_test, vectorizer, full=False):\n",
    "\n",
    "    train_vec = vectorizer.fit_transform(X_train) \n",
    "    test_vec  = vectorizer.transform(X_test)\n",
    "    \n",
    "    clf.fit(train_vec, y_train)\n",
    "    pred = clf.predict(test_vec)\n",
    "\n",
    "    if full:\n",
    "        plot_confusion_matrix(clf, test_vec, y_test)\n",
    "\n",
    "        print(classification_report(y_test, pred))\n",
    "    \n",
    "    return matthews_corrcoef(y_test, pred)"
   ]
  },
  {
   "cell_type": "code",
   "execution_count": 20,
   "id": "critical-producer",
   "metadata": {},
   "outputs": [],
   "source": [
    "def bpe_trasform(X_train, X_test):\n",
    "    # в реализации bpe от youtokentome вот такой странный интерфейс\n",
    "    # сохраняем данные на диск\n",
    "    with open('X_train', 'w') as f:\n",
    "        for el in X_train:\n",
    "            f.write(el+'\\n')  \n",
    "    \n",
    "    # обучаем токенизатор\n",
    "    yttm.BPE.train(data='X_train', vocab_size=5000, model='tmp')\n",
    "    \n",
    "    # загружаем обученную модель\n",
    "    bpe = yttm.BPE(model='tmp')\n",
    "    \n",
    "    # получаем представления предложений\n",
    "    X_train_enc = bpe.encode(X_train.tolist())\n",
    "    X_tes_enc = bpe.encode(X_test.tolist())\n",
    "    \n",
    "    # превращаем представления обратно в \"читаемый\" вид \n",
    "    #(в кавычках, потому что теперь вместо привычных слов наборы токенов)\n",
    "    X_train_tokened = []\n",
    "    for text in X_train_enc:\n",
    "        X_train_tokened.append(' '.join(bpe.id_to_subword(el) for el in text))\n",
    "        \n",
    "    X_test_tokened = []\n",
    "    for text in X_tes_enc:\n",
    "        X_test_tokened.append(' '.join(bpe.id_to_subword(el) for el in text))\n",
    "        \n",
    "    return X_train_tokened, X_test_tokened"
   ]
  },
  {
   "cell_type": "code",
   "execution_count": 21,
   "id": "trying-finding",
   "metadata": {},
   "outputs": [],
   "source": [
    "def cross_val(clf, data, vectorizer, full=False):\n",
    "    res = []\n",
    "    kf = StratifiedKFold(n_splits=5, shuffle=True)\n",
    "    y = data.index\n",
    "    for train_indxs, test_indxs in tqdm(kf.split(data, y), total=5):\n",
    "        train_data, test_data = data.text.iloc[train_indxs],  data.text.iloc[test_indxs]\n",
    "        \n",
    "        X_train, y_train = train_data.values, train_data.index\n",
    "        X_test, y_test = test_data.values, test_data.index\n",
    "        \n",
    "        # добавилась эта строка. \n",
    "        # Превратим предложения из набора слов в набор токенов -- tfidf заиграет более интересными красками\n",
    "        X_train_tokened, X_test_tokened = bpe_trasform(X_train, X_test)\n",
    "    \n",
    "        res.append(train_val(clf, X_train_tokened, X_test_tokened, y_train, y_test, vectorizer))\n",
    "    return res"
   ]
  },
  {
   "cell_type": "code",
   "execution_count": 22,
   "id": "athletic-driver",
   "metadata": {},
   "outputs": [
    {
     "name": "stderr",
     "output_type": "stream",
     "text": [
      "[nltk_data] Downloading package wordnet to /home/stas/nltk_data...\n",
      "[nltk_data]   Package wordnet is already up-to-date!\n"
     ]
    }
   ],
   "source": [
    "nltk.download('wordnet')\n",
    "stop_words = stopwords.words(\"english\")"
   ]
  },
  {
   "cell_type": "code",
   "execution_count": 23,
   "id": "wound-directive",
   "metadata": {},
   "outputs": [],
   "source": [
    "data.text = data.text.apply(lambda x:' '.join([word.lower() for word in x.split(' ') if word.lower not in stop_words]))\n"
   ]
  },
  {
   "cell_type": "code",
   "execution_count": 24,
   "id": "frank-starter",
   "metadata": {},
   "outputs": [],
   "source": [
    "X_train, X_test, y_train, y_test = train_test_split(\n",
    "    data.text, data.index, test_size = 0.2,stratify=data.index)"
   ]
  },
  {
   "cell_type": "code",
   "execution_count": 25,
   "id": "express-butter",
   "metadata": {},
   "outputs": [],
   "source": [
    "X_train_tokened, X_test_tokened = bpe_trasform(X_train, X_test)"
   ]
  },
  {
   "cell_type": "code",
   "execution_count": 26,
   "id": "breeding-semiconductor",
   "metadata": {},
   "outputs": [],
   "source": [
    "vectorizer = TfidfVectorizer(  \n",
    "    lowercase=True,      \n",
    "    stop_words='english' \n",
    ")"
   ]
  },
  {
   "cell_type": "code",
   "execution_count": 27,
   "id": "impaired-voluntary",
   "metadata": {},
   "outputs": [
    {
     "data": {
      "application/vnd.jupyter.widget-view+json": {
       "model_id": "658aaafd580f40e88067f3b378487c05",
       "version_major": 2,
       "version_minor": 0
      },
      "text/plain": [
       "HBox(children=(FloatProgress(value=0.0, max=5.0), HTML(value='')))"
      ]
     },
     "metadata": {},
     "output_type": "display_data"
    },
    {
     "name": "stdout",
     "output_type": "stream",
     "text": [
      "[0 1 0 ... 0 0 0]\n",
      "[0 1 1 ... 1 0 1]\n",
      "\n"
     ]
    },
    {
     "ename": "KeyboardInterrupt",
     "evalue": "",
     "output_type": "error",
     "traceback": [
      "\u001b[0;31m---------------------------------------------------------------------------\u001b[0m",
      "\u001b[0;31mKeyboardInterrupt\u001b[0m                         Traceback (most recent call last)",
      "\u001b[0;32m<ipython-input-27-afc7cd67f97d>\u001b[0m in \u001b[0;36m<module>\u001b[0;34m\u001b[0m\n\u001b[1;32m      1\u001b[0m \u001b[0mclassifier\u001b[0m \u001b[0;34m=\u001b[0m \u001b[0mMultinomialNB\u001b[0m\u001b[0;34m(\u001b[0m\u001b[0;34m)\u001b[0m\u001b[0;34m\u001b[0m\u001b[0;34m\u001b[0m\u001b[0m\n\u001b[0;32m----> 2\u001b[0;31m \u001b[0mres\u001b[0m \u001b[0;34m=\u001b[0m \u001b[0mcross_val\u001b[0m\u001b[0;34m(\u001b[0m\u001b[0mclassifier\u001b[0m\u001b[0;34m,\u001b[0m \u001b[0mdata\u001b[0m\u001b[0;34m,\u001b[0m \u001b[0mvectorizer\u001b[0m\u001b[0;34m)\u001b[0m\u001b[0;34m\u001b[0m\u001b[0;34m\u001b[0m\u001b[0m\n\u001b[0m\u001b[1;32m      3\u001b[0m \u001b[0mprint\u001b[0m\u001b[0;34m(\u001b[0m\u001b[0mnp\u001b[0m\u001b[0;34m.\u001b[0m\u001b[0mround\u001b[0m\u001b[0;34m(\u001b[0m\u001b[0mres\u001b[0m\u001b[0;34m,\u001b[0m\u001b[0;36m4\u001b[0m\u001b[0;34m)\u001b[0m\u001b[0;34m,\u001b[0m \u001b[0mnp\u001b[0m\u001b[0;34m.\u001b[0m\u001b[0mround\u001b[0m\u001b[0;34m(\u001b[0m\u001b[0msum\u001b[0m\u001b[0;34m(\u001b[0m\u001b[0mres\u001b[0m\u001b[0;34m)\u001b[0m\u001b[0;34m/\u001b[0m\u001b[0mlen\u001b[0m\u001b[0;34m(\u001b[0m\u001b[0mres\u001b[0m\u001b[0;34m)\u001b[0m\u001b[0;34m,\u001b[0m \u001b[0;36m4\u001b[0m\u001b[0;34m)\u001b[0m\u001b[0;34m)\u001b[0m\u001b[0;34m\u001b[0m\u001b[0;34m\u001b[0m\u001b[0m\n\u001b[1;32m      4\u001b[0m \u001b[0mtrain_val\u001b[0m\u001b[0;34m(\u001b[0m\u001b[0mclassifier\u001b[0m\u001b[0;34m,\u001b[0m \u001b[0mX_train_tokened\u001b[0m\u001b[0;34m,\u001b[0m \u001b[0mX_test_tokened\u001b[0m\u001b[0;34m,\u001b[0m \u001b[0my_train\u001b[0m\u001b[0;34m,\u001b[0m \u001b[0my_test\u001b[0m\u001b[0;34m,\u001b[0m \u001b[0mvectorizer\u001b[0m\u001b[0;34m,\u001b[0m \u001b[0mfull\u001b[0m\u001b[0;34m=\u001b[0m\u001b[0;32mTrue\u001b[0m\u001b[0;34m)\u001b[0m\u001b[0;34m\u001b[0m\u001b[0;34m\u001b[0m\u001b[0m\n",
      "\u001b[0;32m<ipython-input-21-ca453fd8a5a7>\u001b[0m in \u001b[0;36mcross_val\u001b[0;34m(clf, data, vectorizer, full)\u001b[0m\n\u001b[1;32m     11\u001b[0m         \u001b[0;31m# добавилась эта строка.\u001b[0m\u001b[0;34m\u001b[0m\u001b[0;34m\u001b[0m\u001b[0;34m\u001b[0m\u001b[0m\n\u001b[1;32m     12\u001b[0m         \u001b[0;31m# Превратим предложения из набора слов в набор токенов -- tfidf заиграет более интересными красками\u001b[0m\u001b[0;34m\u001b[0m\u001b[0;34m\u001b[0m\u001b[0;34m\u001b[0m\u001b[0m\n\u001b[0;32m---> 13\u001b[0;31m         \u001b[0mX_train_tokened\u001b[0m\u001b[0;34m,\u001b[0m \u001b[0mX_test_tokened\u001b[0m \u001b[0;34m=\u001b[0m \u001b[0mbpe_trasform\u001b[0m\u001b[0;34m(\u001b[0m\u001b[0mX_train\u001b[0m\u001b[0;34m,\u001b[0m \u001b[0mX_test\u001b[0m\u001b[0;34m)\u001b[0m\u001b[0;34m\u001b[0m\u001b[0;34m\u001b[0m\u001b[0m\n\u001b[0m\u001b[1;32m     14\u001b[0m \u001b[0;34m\u001b[0m\u001b[0m\n\u001b[1;32m     15\u001b[0m         \u001b[0mres\u001b[0m\u001b[0;34m.\u001b[0m\u001b[0mappend\u001b[0m\u001b[0;34m(\u001b[0m\u001b[0mtrain_val\u001b[0m\u001b[0;34m(\u001b[0m\u001b[0mclf\u001b[0m\u001b[0;34m,\u001b[0m \u001b[0mX_train_tokened\u001b[0m\u001b[0;34m,\u001b[0m \u001b[0mX_test_tokened\u001b[0m\u001b[0;34m,\u001b[0m \u001b[0my_train\u001b[0m\u001b[0;34m,\u001b[0m \u001b[0my_test\u001b[0m\u001b[0;34m,\u001b[0m \u001b[0mvectorizer\u001b[0m\u001b[0;34m)\u001b[0m\u001b[0;34m)\u001b[0m\u001b[0;34m\u001b[0m\u001b[0;34m\u001b[0m\u001b[0m\n",
      "\u001b[0;32m<ipython-input-20-5f10dbb2743e>\u001b[0m in \u001b[0;36mbpe_trasform\u001b[0;34m(X_train, X_test)\u001b[0m\n\u001b[1;32m     20\u001b[0m     \u001b[0mX_train_tokened\u001b[0m \u001b[0;34m=\u001b[0m \u001b[0;34m[\u001b[0m\u001b[0;34m]\u001b[0m\u001b[0;34m\u001b[0m\u001b[0;34m\u001b[0m\u001b[0m\n\u001b[1;32m     21\u001b[0m     \u001b[0;32mfor\u001b[0m \u001b[0mtext\u001b[0m \u001b[0;32min\u001b[0m \u001b[0mX_train_enc\u001b[0m\u001b[0;34m:\u001b[0m\u001b[0;34m\u001b[0m\u001b[0;34m\u001b[0m\u001b[0m\n\u001b[0;32m---> 22\u001b[0;31m         \u001b[0mX_train_tokened\u001b[0m\u001b[0;34m.\u001b[0m\u001b[0mappend\u001b[0m\u001b[0;34m(\u001b[0m\u001b[0;34m' '\u001b[0m\u001b[0;34m.\u001b[0m\u001b[0mjoin\u001b[0m\u001b[0;34m(\u001b[0m\u001b[0mbpe\u001b[0m\u001b[0;34m.\u001b[0m\u001b[0mid_to_subword\u001b[0m\u001b[0;34m(\u001b[0m\u001b[0mel\u001b[0m\u001b[0;34m)\u001b[0m \u001b[0;32mfor\u001b[0m \u001b[0mel\u001b[0m \u001b[0;32min\u001b[0m \u001b[0mtext\u001b[0m\u001b[0;34m)\u001b[0m\u001b[0;34m)\u001b[0m\u001b[0;34m\u001b[0m\u001b[0;34m\u001b[0m\u001b[0m\n\u001b[0m\u001b[1;32m     23\u001b[0m \u001b[0;34m\u001b[0m\u001b[0m\n\u001b[1;32m     24\u001b[0m     \u001b[0mX_test_tokened\u001b[0m \u001b[0;34m=\u001b[0m \u001b[0;34m[\u001b[0m\u001b[0;34m]\u001b[0m\u001b[0;34m\u001b[0m\u001b[0;34m\u001b[0m\u001b[0m\n",
      "\u001b[0;32m<ipython-input-20-5f10dbb2743e>\u001b[0m in \u001b[0;36m<genexpr>\u001b[0;34m(.0)\u001b[0m\n\u001b[1;32m     20\u001b[0m     \u001b[0mX_train_tokened\u001b[0m \u001b[0;34m=\u001b[0m \u001b[0;34m[\u001b[0m\u001b[0;34m]\u001b[0m\u001b[0;34m\u001b[0m\u001b[0;34m\u001b[0m\u001b[0m\n\u001b[1;32m     21\u001b[0m     \u001b[0;32mfor\u001b[0m \u001b[0mtext\u001b[0m \u001b[0;32min\u001b[0m \u001b[0mX_train_enc\u001b[0m\u001b[0;34m:\u001b[0m\u001b[0;34m\u001b[0m\u001b[0;34m\u001b[0m\u001b[0m\n\u001b[0;32m---> 22\u001b[0;31m         \u001b[0mX_train_tokened\u001b[0m\u001b[0;34m.\u001b[0m\u001b[0mappend\u001b[0m\u001b[0;34m(\u001b[0m\u001b[0;34m' '\u001b[0m\u001b[0;34m.\u001b[0m\u001b[0mjoin\u001b[0m\u001b[0;34m(\u001b[0m\u001b[0mbpe\u001b[0m\u001b[0;34m.\u001b[0m\u001b[0mid_to_subword\u001b[0m\u001b[0;34m(\u001b[0m\u001b[0mel\u001b[0m\u001b[0;34m)\u001b[0m \u001b[0;32mfor\u001b[0m \u001b[0mel\u001b[0m \u001b[0;32min\u001b[0m \u001b[0mtext\u001b[0m\u001b[0;34m)\u001b[0m\u001b[0;34m)\u001b[0m\u001b[0;34m\u001b[0m\u001b[0;34m\u001b[0m\u001b[0m\n\u001b[0m\u001b[1;32m     23\u001b[0m \u001b[0;34m\u001b[0m\u001b[0m\n\u001b[1;32m     24\u001b[0m     \u001b[0mX_test_tokened\u001b[0m \u001b[0;34m=\u001b[0m \u001b[0;34m[\u001b[0m\u001b[0;34m]\u001b[0m\u001b[0;34m\u001b[0m\u001b[0;34m\u001b[0m\u001b[0m\n",
      "\u001b[0;31mKeyboardInterrupt\u001b[0m: "
     ]
    }
   ],
   "source": [
    "classifier = MultinomialNB()\n",
    "res = cross_val(classifier, data, vectorizer)\n",
    "print(np.round(res,4), np.round(sum(res)/len(res), 4))\n",
    "train_val(classifier, X_train_tokened, X_test_tokened, y_train, y_test, vectorizer, full=True)"
   ]
  },
  {
   "cell_type": "code",
   "execution_count": 17,
   "id": "signal-transformation",
   "metadata": {},
   "outputs": [
    {
     "data": {
      "application/vnd.jupyter.widget-view+json": {
       "model_id": "a56b3d4d6ec8464eaf58aeba11db5e8b",
       "version_major": 2,
       "version_minor": 0
      },
      "text/plain": [
       "HBox(children=(FloatProgress(value=0.0, max=5.0), HTML(value='')))"
      ]
     },
     "metadata": {},
     "output_type": "display_data"
    },
    {
     "name": "stdout",
     "output_type": "stream",
     "text": [
      "\n",
      "[0.8706 0.8906 0.9032 0.9046 0.892 ] 0.8922\n",
      "              precision    recall  f1-score   support\n",
      "\n",
      "           0       0.97      0.99      0.98      1685\n",
      "           1       0.98      0.88      0.92       470\n",
      "\n",
      "    accuracy                           0.97      2155\n",
      "   macro avg       0.97      0.94      0.95      2155\n",
      "weighted avg       0.97      0.97      0.97      2155\n",
      "\n"
     ]
    },
    {
     "data": {
      "text/plain": [
       "0.9060297939731272"
      ]
     },
     "execution_count": 17,
     "metadata": {},
     "output_type": "execute_result"
    },
    {
     "data": {
      "image/png": "[encoded data removed]",
      "text/plain": [
       "<Figure size 432x288 with 2 Axes>"
      ]
     },
     "metadata": {
      "needs_background": "light"
     },
     "output_type": "display_data"
    }
   ],
   "source": [
    "classifier = RandomForestClassifier()\n",
    "res = cross_val(classifier, data, vectorizer)\n",
    "print(np.round(res,4), np.round(sum(res)/len(res), 4))\n",
    "train_val(classifier, X_train_tokened, X_test_tokened, y_train, y_test, vectorizer, full=True)"
   ]
  },
  {
   "cell_type": "code",
   "execution_count": 18,
   "id": "likely-sugar",
   "metadata": {},
   "outputs": [
    {
     "data": {
      "application/vnd.jupyter.widget-view+json": {
       "model_id": "44db30b10eb04307aa85659292d9b8c3",
       "version_major": 2,
       "version_minor": 0
      },
      "text/plain": [
       "HBox(children=(FloatProgress(value=0.0, max=5.0), HTML(value='')))"
      ]
     },
     "metadata": {},
     "output_type": "display_data"
    },
    {
     "name": "stdout",
     "output_type": "stream",
     "text": [
      "\n",
      "[0.9131 0.9103 0.9146 0.9228 0.9074] 0.9136\n",
      "              precision    recall  f1-score   support\n",
      "\n",
      "           0       0.97      1.00      0.98      1685\n",
      "           1       0.98      0.90      0.94       470\n",
      "\n",
      "    accuracy                           0.98      2155\n",
      "   macro avg       0.98      0.95      0.96      2155\n",
      "weighted avg       0.98      0.98      0.98      2155\n",
      "\n"
     ]
    },
    {
     "data": {
      "text/plain": [
       "0.9270540744193574"
      ]
     },
     "execution_count": 18,
     "metadata": {},
     "output_type": "execute_result"
    },
    {
     "data": {
      "image/png": "[encoded data removed]",
      "text/plain": [
       "<Figure size 432x288 with 2 Axes>"
      ]
     },
     "metadata": {
      "needs_background": "light"
     },
     "output_type": "display_data"
    }
   ],
   "source": [
    "classifier = SVC()\n",
    "res = cross_val(classifier, data, vectorizer)\n",
    "print(np.round(res,4), np.round(sum(res)/len(res), 4))\n",
    "train_val(classifier, X_train_tokened, X_test_tokened, y_train, y_test, vectorizer, full=True)"
   ]
  },
  {
   "cell_type": "markdown",
   "id": "italic-lingerie",
   "metadata": {},
   "source": [
    "Преобразование исходный предложений (набор слов) в набор токенов дал прирост по метрикам, однако у моделей все еще наблюдаются проблемы с выучиванием редкого класса спама."
   ]
  },
  {
   "cell_type": "code",
   "execution_count": null,
   "id": "coupled-element",
   "metadata": {},
   "outputs": [],
   "source": []
  }
 ],
 "metadata": {
  "kernelspec": {
   "display_name": "Python 3",
   "language": "python",
   "name": "python3"
  },
  "language_info": {
   "codemirror_mode": {
    "name": "ipython",
    "version": 3
   },
   "file_extension": ".py",
   "mimetype": "text/x-python",
   "name": "python",
   "nbconvert_exporter": "python",
   "pygments_lexer": "ipython3",
   "version": "3.7.9"
  }
 },
 "nbformat": 4,
 "nbformat_minor": 5
}
