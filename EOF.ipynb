{
 "cells": [
  {
   "cell_type": "code",
   "execution_count": 73,
   "id": "immediate-curve",
   "metadata": {},
   "outputs": [],
   "source": [
    "import pandas as pd\n",
    "import numpy as np"
   ]
  },
  {
   "cell_type": "code",
   "execution_count": 74,
   "id": "basic-sound",
   "metadata": {},
   "outputs": [],
   "source": [
    "import youtokentome as yttm"
   ]
  },
  {
   "cell_type": "code",
   "execution_count": 77,
   "id": "athletic-pound",
   "metadata": {},
   "outputs": [],
   "source": [
    "data_1 = pd.read_csv('data/SPAM text message 20170820 - Data.csv', index_col='Category').rename(columns={'Message':'text'},)\n",
    "data_2 = pd.read_csv('data/spam.csv', index_col='v1')[['v2']].rename(columns={'v2':'text'})\n",
    "data_3 = pd.read_csv('data/spam_ham_dataset.csv', index_col='label')[['text']]"
   ]
  },
  {
   "cell_type": "markdown",
   "id": "classified-kidney",
   "metadata": {},
   "source": [
    "посмоторим на соотношение классов данных"
   ]
  },
  {
   "cell_type": "code",
   "execution_count": 78,
   "id": "honey-allocation",
   "metadata": {},
   "outputs": [
    {
     "data": {
      "text/html": [
       "<div>\n",
       "<style scoped>\n",
       "    .dataframe tbody tr th:only-of-type {\n",
       "        vertical-align: middle;\n",
       "    }\n",
       "\n",
       "    .dataframe tbody tr th {\n",
       "        vertical-align: top;\n",
       "    }\n",
       "\n",
       "    .dataframe thead th {\n",
       "        text-align: right;\n",
       "    }\n",
       "</style>\n",
       "<table border=\"1\" class=\"dataframe\">\n",
       "  <thead>\n",
       "    <tr style=\"text-align: right;\">\n",
       "      <th></th>\n",
       "      <th>text</th>\n",
       "    </tr>\n",
       "    <tr>\n",
       "      <th>Category</th>\n",
       "      <th></th>\n",
       "    </tr>\n",
       "  </thead>\n",
       "  <tbody>\n",
       "    <tr>\n",
       "      <th>ham</th>\n",
       "      <td>4825</td>\n",
       "    </tr>\n",
       "    <tr>\n",
       "      <th>spam</th>\n",
       "      <td>747</td>\n",
       "    </tr>\n",
       "  </tbody>\n",
       "</table>\n",
       "</div>"
      ],
      "text/plain": [
       "          text\n",
       "Category      \n",
       "ham       4825\n",
       "spam       747"
      ]
     },
     "execution_count": 78,
     "metadata": {},
     "output_type": "execute_result"
    }
   ],
   "source": [
    "data_1.groupby('Category').count()"
   ]
  },
  {
   "cell_type": "code",
   "execution_count": 79,
   "id": "invisible-grounds",
   "metadata": {},
   "outputs": [
    {
     "data": {
      "text/html": [
       "<div>\n",
       "<style scoped>\n",
       "    .dataframe tbody tr th:only-of-type {\n",
       "        vertical-align: middle;\n",
       "    }\n",
       "\n",
       "    .dataframe tbody tr th {\n",
       "        vertical-align: top;\n",
       "    }\n",
       "\n",
       "    .dataframe thead th {\n",
       "        text-align: right;\n",
       "    }\n",
       "</style>\n",
       "<table border=\"1\" class=\"dataframe\">\n",
       "  <thead>\n",
       "    <tr style=\"text-align: right;\">\n",
       "      <th></th>\n",
       "      <th>text</th>\n",
       "    </tr>\n",
       "    <tr>\n",
       "      <th>v1</th>\n",
       "      <th></th>\n",
       "    </tr>\n",
       "  </thead>\n",
       "  <tbody>\n",
       "    <tr>\n",
       "      <th>ham</th>\n",
       "      <td>4825</td>\n",
       "    </tr>\n",
       "    <tr>\n",
       "      <th>spam</th>\n",
       "      <td>747</td>\n",
       "    </tr>\n",
       "  </tbody>\n",
       "</table>\n",
       "</div>"
      ],
      "text/plain": [
       "      text\n",
       "v1        \n",
       "ham   4825\n",
       "spam   747"
      ]
     },
     "execution_count": 79,
     "metadata": {},
     "output_type": "execute_result"
    }
   ],
   "source": [
    "data_2.groupby('v1').count()"
   ]
  },
  {
   "cell_type": "code",
   "execution_count": 80,
   "id": "proved-adult",
   "metadata": {},
   "outputs": [
    {
     "data": {
      "text/html": [
       "<div>\n",
       "<style scoped>\n",
       "    .dataframe tbody tr th:only-of-type {\n",
       "        vertical-align: middle;\n",
       "    }\n",
       "\n",
       "    .dataframe tbody tr th {\n",
       "        vertical-align: top;\n",
       "    }\n",
       "\n",
       "    .dataframe thead th {\n",
       "        text-align: right;\n",
       "    }\n",
       "</style>\n",
       "<table border=\"1\" class=\"dataframe\">\n",
       "  <thead>\n",
       "    <tr style=\"text-align: right;\">\n",
       "      <th></th>\n",
       "      <th>text</th>\n",
       "    </tr>\n",
       "    <tr>\n",
       "      <th>label</th>\n",
       "      <th></th>\n",
       "    </tr>\n",
       "  </thead>\n",
       "  <tbody>\n",
       "    <tr>\n",
       "      <th>ham</th>\n",
       "      <td>3672</td>\n",
       "    </tr>\n",
       "    <tr>\n",
       "      <th>spam</th>\n",
       "      <td>1499</td>\n",
       "    </tr>\n",
       "  </tbody>\n",
       "</table>\n",
       "</div>"
      ],
      "text/plain": [
       "       text\n",
       "label      \n",
       "ham    3672\n",
       "spam   1499"
      ]
     },
     "execution_count": 80,
     "metadata": {},
     "output_type": "execute_result"
    }
   ],
   "source": [
    "data_3.groupby('label').count()"
   ]
  },
  {
   "cell_type": "code",
   "execution_count": 81,
   "id": "lyric-country",
   "metadata": {},
   "outputs": [
    {
     "name": "stdout",
     "output_type": "stream",
     "text": [
      "I'm gonna be home soon and i don't want to talk about this stuff anymore tonight, k? I've cried enough today.\n",
      "_________\n",
      "Subject: ehronline web address change\r\n",
      "this message is intended for ehronline users only .\r\n",
      "due to a recent change to ehronline , the url ( aka \" web address \" ) for accessing ehronline needs to be changed on your computer . the change involves adding the letter \" s \" to the \" http \" reference in the url . the url for accessing ehronline should be : https : / / ehronline . enron . com .\r\n",
      "this change should be made by those who have added the url as a favorite on the browser .\n"
     ]
    }
   ],
   "source": [
    "# первые два датасета __очень__ сильно пересекаются. Будем считать что это один и тот же датасет.\n",
    "# Все три датасета можно объединить только если они стилистически похожи. посмотрим\n",
    "print(data_1.text.iloc[10])\n",
    "print('_________')\n",
    "print(data_3.text.iloc[5])"
   ]
  },
  {
   "cell_type": "code",
   "execution_count": 82,
   "id": "executive-spokesman",
   "metadata": {},
   "outputs": [
    {
     "data": {
      "text/plain": [
       "(61.0, 540.0)"
      ]
     },
     "execution_count": 82,
     "metadata": {},
     "output_type": "execute_result"
    }
   ],
   "source": [
    "np.median(data_1.text.apply(len)), np.median(data_3.text.apply(len))"
   ]
  },
  {
   "cell_type": "markdown",
   "id": "christian-mouse",
   "metadata": {},
   "source": [
    "Первое что бросается в глаза -- в последнем датасете более длинные сообщения и везде присуствует заголовок. Обе этих проблемы можно обыграть по-разному, но главное убрать слово subject. Иначе модель может подумать, что это хороший признак для спама (2/3 всего спама будет начинаться с него, против менее чем половины хама)."
   ]
  },
  {
   "cell_type": "code",
   "execution_count": 83,
   "id": "fresh-subject",
   "metadata": {},
   "outputs": [],
   "source": [
    "data_3.text = data_3.text.apply(lambda x: x.replace('Subject: ', '').replace('\\n', ' ').replace('\\r', ''))"
   ]
  },
  {
   "cell_type": "code",
   "execution_count": 84,
   "id": "vietnamese-chicago",
   "metadata": {},
   "outputs": [
    {
     "data": {
      "text/html": [
       "<div>\n",
       "<style scoped>\n",
       "    .dataframe tbody tr th:only-of-type {\n",
       "        vertical-align: middle;\n",
       "    }\n",
       "\n",
       "    .dataframe tbody tr th {\n",
       "        vertical-align: top;\n",
       "    }\n",
       "\n",
       "    .dataframe thead th {\n",
       "        text-align: right;\n",
       "    }\n",
       "</style>\n",
       "<table border=\"1\" class=\"dataframe\">\n",
       "  <thead>\n",
       "    <tr style=\"text-align: right;\">\n",
       "      <th></th>\n",
       "      <th>text</th>\n",
       "    </tr>\n",
       "  </thead>\n",
       "  <tbody>\n",
       "    <tr>\n",
       "      <th>0</th>\n",
       "      <td>Go until jurong point, crazy.. Available only ...</td>\n",
       "    </tr>\n",
       "    <tr>\n",
       "      <th>0</th>\n",
       "      <td>Ok lar... Joking wif u oni...</td>\n",
       "    </tr>\n",
       "    <tr>\n",
       "      <th>1</th>\n",
       "      <td>Free entry in 2 a wkly comp to win FA Cup fina...</td>\n",
       "    </tr>\n",
       "    <tr>\n",
       "      <th>0</th>\n",
       "      <td>U dun say so early hor... U c already then say...</td>\n",
       "    </tr>\n",
       "    <tr>\n",
       "      <th>0</th>\n",
       "      <td>Nah I don't think he goes to usf, he lives aro...</td>\n",
       "    </tr>\n",
       "    <tr>\n",
       "      <th>...</th>\n",
       "      <td>...</td>\n",
       "    </tr>\n",
       "    <tr>\n",
       "      <th>1</th>\n",
       "      <td>slutty milf wants to meet you take that ! ' il...</td>\n",
       "    </tr>\n",
       "    <tr>\n",
       "      <th>0</th>\n",
       "      <td>put the 10 on the ft the transport volumes dec...</td>\n",
       "    </tr>\n",
       "    <tr>\n",
       "      <th>0</th>\n",
       "      <td>3 / 4 / 2000 and following noms hpl can ' t ta...</td>\n",
       "    </tr>\n",
       "    <tr>\n",
       "      <th>0</th>\n",
       "      <td>industrial worksheets for august 2000 activity...</td>\n",
       "    </tr>\n",
       "    <tr>\n",
       "      <th>1</th>\n",
       "      <td>important online banking alert dear valued cit...</td>\n",
       "    </tr>\n",
       "  </tbody>\n",
       "</table>\n",
       "<p>10772 rows × 1 columns</p>\n",
       "</div>"
      ],
      "text/plain": [
       "                                                 text\n",
       "0   Go until jurong point, crazy.. Available only ...\n",
       "0                       Ok lar... Joking wif u oni...\n",
       "1   Free entry in 2 a wkly comp to win FA Cup fina...\n",
       "0   U dun say so early hor... U c already then say...\n",
       "0   Nah I don't think he goes to usf, he lives aro...\n",
       "..                                                ...\n",
       "1   slutty milf wants to meet you take that ! ' il...\n",
       "0   put the 10 on the ft the transport volumes dec...\n",
       "0   3 / 4 / 2000 and following noms hpl can ' t ta...\n",
       "0   industrial worksheets for august 2000 activity...\n",
       "1   important online banking alert dear valued cit...\n",
       "\n",
       "[10772 rows x 1 columns]"
      ]
     },
     "execution_count": 84,
     "metadata": {},
     "output_type": "execute_result"
    }
   ],
   "source": [
    "data = pd.concat([data_1, data_2, data_3]).drop_duplicates()\n",
    "data.index = pd.Index(map(lambda x: int(x == 'spam'), data.index))\n",
    "data"
   ]
  },
  {
   "cell_type": "markdown",
   "id": "governing-universal",
   "metadata": {},
   "source": [
    "Теперь насчет длины. Возьмем токенизатор и посмотрим на длину последовательностей токенов"
   ]
  },
  {
   "cell_type": "code",
   "execution_count": 85,
   "id": "finished-festival",
   "metadata": {},
   "outputs": [],
   "source": [
    "from transformers import BertTokenizer\n",
    "\n",
    "import matplotlib.pyplot as plt"
   ]
  },
  {
   "cell_type": "code",
   "execution_count": 86,
   "id": "sweet-excitement",
   "metadata": {},
   "outputs": [],
   "source": [
    "from collections import deque"
   ]
  },
  {
   "cell_type": "code",
   "execution_count": 87,
   "id": "surprised-broad",
   "metadata": {},
   "outputs": [],
   "source": [
    "tokenizer = BertTokenizer.from_pretrained('bert-base-uncased', do_lower_case=True)"
   ]
  },
  {
   "cell_type": "code",
   "execution_count": 88,
   "id": "numerical-allergy",
   "metadata": {},
   "outputs": [],
   "source": [
    "texts = data.text.values"
   ]
  },
  {
   "cell_type": "code",
   "execution_count": 89,
   "id": "opponent-blood",
   "metadata": {},
   "outputs": [
    {
     "name": "stderr",
     "output_type": "stream",
     "text": [
      "Token indices sequence length is longer than the specified maximum sequence length for this model (563 > 512). Running this sequence through the model will result in indexing errors\n"
     ]
    }
   ],
   "source": [
    "# найдем топ-10 длинных (в числе токенов) предложений\n",
    "maxlen = 10\n",
    "max_tokens = deque(maxlen=maxlen)\n",
    "max_tokens.append((-1,''))\n",
    "for text in texts:\n",
    "    tokens = tokenizer.encode(text, add_special_tokens=True)\n",
    "    if len(max_tokens[0]) < len(tokens):\n",
    "        max_tokens.append((len(tokens), text))\n",
    "        max_tokens = deque(sorted(max_tokens, key=lambda x: x[0]), maxlen)"
   ]
  },
  {
   "cell_type": "code",
   "execution_count": 90,
   "id": "painful-boating",
   "metadata": {
    "scrolled": true
   },
   "outputs": [
    {
     "name": "stdout",
     "output_type": "stream",
     "text": [
      "fw : \" red , white and blue out \" - - - - - original message - - - - - from : carter , rhonda [ mailto : rcarter @ cooperinst . org ] sent : friday , september 14 , 2001 12 : 33 pm to : ' al _ abbott @ compuserve . com ' ; ' mabner @ sprintmail . com ' ; ' aggiebob @ hotmail . com ' ; ' adamsck @ flash . net ' ; ' gadams @ promus . com ' ; ' pjadell @ yahoo . com ' ; ' bob @ cybersitebuilders . com ' ; ' worml 998 @ hotmail . com ' ; ' janie . beth @ prodigy . net ' ; ' gakin @ mccarthy . com ' ; ' vja @ flash . net ' ; ' locke . alder @ gte . net ' ; ' calexaol @ 7 - 11 . com ' ; ' erika @ publish . no . irs . gov ' ; ' ali @ buz . net ' ; ' brada @ ticnet . com ' ; ' svallen @ aol . com ' ; ' jand 30 @ aol . com ' ; ' allan @ stratsolgroup . com ' ; ' chuck _ anderson @ oxy . com ' ; ' mdqsga 96 @ aol . com ' ; ' brian _ anhalt @ bigfoot . com ' ; ' aranda @ nbstx . com ' ; ' aggiemom @ archer . cx ' ; ' jard @ nortelnetworks . com ' ; ' abarch @ airmail . net ' ; ' narguello @ yahoo . com ' ; ' jarmstrong @ tqtx . com ' ; ' mikie @ aggie . zzn . com ' ; ' ag 85 @ home . com ' ; ' kmarnold @ home . com ' ; ' hollya @ cyber - designs . com ' ; ' hughashburn @ netscape . net ' ; ' bob @ cybersitebuilders . com ' ; ' olinatkinson @ dellnet . com ' ; ' papaayres @ aol . com ' ; ' abackof 68 @ aol . com ' ; ' badgett @ ti . com ' ; ' kbailie @ nortel . com ' ; ' wjbaird @ mapsco . com ' ; ' jbaker @ ecomtrading . com ' ; ' tim . banigan @ nortelnetworks . com ' ; ' atbarlow @ mail . smu . edu ' ; ' arnonvic @ aol . com ' ; ' john _ laurabarr @ email . msn . com ' ; ' jillmbarrow @ hotmail . com ' ; ' b - barton @ ti . com ' ; ' tbates @ why . net ' ; ' normabautista @ worldnet . att . net ' ; ' baweja @ aol . com ' ; ' gbaxley @ nt . com ' ; ' dabayers @ juno . com ' ; ' jbeard @ halff . com ' ; ' bearden . e @ grainger . com ' ; ' tbeaslel @ tuelectric . com ' ; ' kayebeatty @ aol . com ' ; ' triciabeaudreau @ hotmail . com ' ; ' abeckley @ executrain - dal . com ' ; ' scott . r . bellamy @ marshmc . com ' ; ' chiaggie @ aol . com ' ; ' dbenefield @ merit . com ' ; ' bryan @ dalmac . com ' ; ' bennie @ flash . net ' ; ' bergerd @ earthlink . net ' ; ' ted . e . bernard @ ac . com ' ; ' sberry @ nortel . com ' ; ' jody . bingham @ ps . net ' ; ' bobird @ att . com ' ; ' keithbird @ yahoo . com ' ; ' mbish @ nortel . com ' ; ' dawn . bitar @ ps . net ' ; ' bittners @ swbell . net ' ; ' akbjerke @ postoffice . swbell . net ' ; ' michael . blahitka @ intervoice - brite . com ' ; ' blairsl @ juno . com ' ; ' bnlblake @ flash . net ' ; ' gbock 2 @ excite . com ' ; ' bobb 761 @ worldnet . att . net ' ; ' jbond @ genuity . com ' ; ' bonsai 2 @ flash . net ' ; ' bonerhk @ earthlink . net ' ; ' warrenlb @ aol . com ' ; ' dbb @ sa - inc . com ' ; ' lynnbottlinger @ hotmail . com ' ; ' dkboughton @ home . com ' ; ' mbouma @ pgbpike . com ' ; ' bowden _ rap @ msn . com ' ; ' jfbowen @ swbell . net ' ; ' cbowersl @ airmail . net ' ; ' scott . bowers @ eds . com ' ; ' mbag 92 @ aol . com ' ; ' lorna @ . com ' ; ' sheryl . bradley @ eds . com ' ; ' andybradshaw @ home . com ' ; ' bramlett @ home . com ' ; ' mwbranch @ aol . com ' ; ' tbrandish @ bigfoot . com ' ; ' kbrannon @ flash . net ' ; ' bebe - tx @ mindspring . com ' ; ' devere @ flash . net ' ; ' lgbrennan @ earthlink . net ' ; ' nicole @ dalmac . com ' ; ' tmbreeze @ gte . net ' ; ' gwb 2 @ flash . net ' ; ' john @ smithsummers . com ' ; ' bmbrinkl @ aol . com ' ; ' nateb 7899 @ aol . com ' ; ' melissabrooks @ mindspring . com ' ; ' rhbrooks @ vartec . net ' ; ' bbrooks @ sbair . com ' ; ' dbrosey @ airmail . net ' ; ' bbrown @ micron . com ' ; ' klbo 2 @ cs . com ' ; ' erich . browne @ central . sun . com ' ; ' deniseb @ ticnet . com ' ; ' jbrozovi @ usa . alcatel . com ' ; ' bruckm @ airmail . net ' ; ' bbruton @ scan - direct . com ' ; ' david . a . bryant @ bigfoot . com ' ; ' ccb @ nortelnetworks . com ' ; ' jnkbull @ netzero . com ' ; ' burchta 330 @ aol . com ' ; ' drburdenjr @ aol . com ' ; ' jburnett @ foxsports . net ' ; ' haleburr @ aol . com ' ; ' burrow @ nortel . ca ' ; ' rbl 419 @ aol . com ' ; ' mikebusch @ mail . com ' ; ' cbyrum @ goodmanfamily . com ' ; ' calkfamf @ home . com ' ; ' kcameron @ yahoo - inc . com ' ; ' jsmiley @ pisd . edu ' ; ' jajasoup @ aol . com ' ; ' laurie . canning @ ericsson . com ' ; ' jjcantwell @ worldnet . att . net ' ; ' djcarr @ texas . net ' ; ' richardjcarroll @ yahoo . com ' ; ' drviv @ yahoo . com ' ; ' rob @ startech . org ' ; ' tcarson 98 @ yahoo . com ' ; ' brandacarter @ microlabs . com ' ; ' lee _ carter @ seha . com ' ; ' dcarter 768 @ aol . com ' ; carter , rhonda ; ' todd . carter @ fnc . fujitsu . com ' ; ' cwc 68 @ swbell . net ' ; ' jcash @ firstam . com ' ; ' tcastellanos @ usa . net ' ; ' wcaudi @ concentric . net ' ; ' cavanaug @ gustafson . com ' ; ' cschamberlin @ mindspring . com ' ; ' ebeth @ airmail . net ' ; ' cookie _ chambers @ pagenet . com ' ; ' jchamp 5626 @ aol . com ' ; ' sherriel @ flash . net ' ; ' smchamp @ dhc . net ' ; ' svchandl @ garlandisd . net ' ; ' fectac @ aol . com ' ; ' chris . chastain @ ey . com ' ; ' ccchatham @ aol . com ' ; ' kevin . chilcoat @ fritolay . com ' ; ' mattc @ dallas . net ' ; ' jchoc @ msn . com ' ; ' shannon @ thechristianfamily . com ' ; ' christian @ medicine . tamu . edu ' ; ' jcipolla @ hotmail . com ' ; ' dclark @ dhc . net ' ; ' sclark @ dhc . net ' ; ' mclary @ elux . com ' ; ' brad @ bigl 2 sports . com ' ; ' clemmons @ home . com ' ; ' beth 2047 @ aol . com ' ; ' acoble @ cisco . com ' ; ' jjcoburn @ aol . com ' ; ' dbclaw @ hotmail . com ' ; ' matt _ cole @ yahoo . com ' ; ' cac 75442 @ aol . com ' ; ' jcoll 75442 @ aol . com ' ; ' jorubycol @ aol . com ' ; ' collins 587 @ hotmail . com ' ; ' condoaggie @ aol . com ' ; ' swcbox @ aol . com ' ; ' crcandmac @ aol . com ' ; ' crcook @ gte . net ' ; ' martha _ cook @ publicis - usa . com ' ; ' mustrdsd @ flash . net ' ; ' acooper 401 @ aol . com ' ; ' jcooper 95 @ yahoo . com ' ; ' karen . m . cope @ dal . frb . org ' ; ' kellyandamy @ sprintmail . com ' ; ' vc 4445 @ earthlink . com ' ; ' brendyc @ aol . com ' ; ' kdcornell @ compuserve . com ' ; ' sc 93 @ hotmail . com ' ; ' bcorrell @ aol . com ' ; ' mcortino @ swbell . net ' ; ' cowan 95 @ aol . com ' ; ' coxl 997 @ yahoo . com ' ; ' monarch @ usa . net ' ; ' jason _ cox @ hotmail . com ' ; ' lacoyne @ flashcom . net ' ; ' garycl 2345 @ aol . com ' ; ' julesag 95 @ flash . net ' ; ' crawfordsl @ cdm . com ' ; ' phantom 495 @ aol . com ' ; ' ccriswel @ pisd . edu ' ; ' sec @ inetinc . com ' ; ' holly . a . cromack @ ac . com ' ; ' kcudlipp @ arimail . net ' ; ' mrculp @ home . com ' ; ' cathy . cupps @ eds . com ' ; ' curranc @ diamtech . com ' ; ' andyc @ gwmail . plano . gov ' ; ' lindsay _ daigle @ yahoo . com ' ; ' ag 93 whoop @ hotmail . com ' ; ' dtddtd 444 @ aol . com ' ; ' edaniel @ flash . net ' ; ' tamidarby @ home . com ' ; ' cagladan @ usa . net ' ; ' smitadas @ ix . netcom . com ' ; ' cgwd 94 @ aol . com ' ; ' kay . daugherty 3 @ gte . net ' ; ' bob _ daughrity @ cabp . com ' ; ' aggiel 984 @ juno . com ' ; ' jdd . rad @ gte . net ' ; ' riverl @ flash . net ' ; ' rogercdavis @ home . com ' ; ' stefaniedavis @ yahoo . com ' ; ' bamadavis @ aol . com ' ; ' dawsonsix @ aol . com ' ; ' heather @ icsi . net ' ; ' stephanie _ s _ day @ compusa . com ' ; ' cdelarios @ home . com ' ; ' cdeangulo @ msn . com ' ; ' ldeardurff @ mckinneyisd . net ' ; ' mdeardurff 62 @ msn . com ' ; ' victor . de . hoyos @ fritolay . com ' ; ' mrichmnd @ ix . netcom . com ' ; ' kelly 95 ag @ aol . com ' ; ' ivan 53 @ aol . com ' ; ' bdempsey @ dnaent . com ' ; ' macdeth @ swbell . net ' ; ' allandl @ airmail . net ' ; ' deweesw @ ttc . com ' ; ' tgd @ ffhm . com ' ; ' to _ ronda @ airmail . net ' ; ' jmditrapani @ nextlink . com ' ; ' ledlugos @ aol . com ' ; ' dlugosch @ home . com ' ; ' melvausa @ netscape . net ' ; ' aol 93775 @ dlemail . itg . ti . com ' ; ' chas 41 @ airmail . net ' ; ' mdorsett @ uni - bell . org ' ; ' m - mdouglas @ worldnet . att . net ' ; ' dovers @ sprintmail . com ' ; ' lorip @ rsn . hp . com ' ; ' michelle . drawert @ gte . net ' ; ' tisdalel @ flash . net ' ; ' sdrotma @ pisd . edu ' ; ' ndsouza @ unt . edu ' ; ' gary . dubois @ pizzahut . com ' ; ' madudko @ aol . com ' ; ' fduewall @ wmcobb . com ' ; ' jduffy @ cisco . com ' ; ' dduffy @ mis - world . com ' ; ' blakey @ flash . net ' ; ' greg _ dupree @ bigfoot . com ' ; ' michael . duran @ ps . net ' ; ' g - durham @ ti . coin ' ; ' crma @ flash . net ' ; ' travisdye @ home . com ' ; ' earnshaw @ flash . net ' ; ' mechols @ fastlane . net ' ; ' jason . eggl @ indsys . ge . com ' ; ' reicher @ tell . net ' ; ' eiland @ ti . com ' ; ' tome @ gwmail . plano . gov ' ; ' s _ elliott @ hotmail . com ' ; ' lellis @ ch 2 m . com ' ; ' tedcarles @ earthlink . net ' ; ' stephen . elmendorf @ teradyne . com ' ; ' bembrey @ ccgmail . com ' ; ' rempey @ waymark . net ' ; ' mengels @ airmail . net ' ; ' mentrop @ yahoo . com ' ; ' jepps @ intecom . com ' ; ' donerb @ home . com ' ; ' lucy _ vsi @ ix . netcom . com ' ; ' mike @ estesfinancial . com ' ; ' setch @ onebox . com ' ; ' kathyeudy @ yahoo . com ' ; ' pevers @ home . com ' ; ' kewing @ airmail . net ' ; ' deon . b . fair @ ac . com ' ; ' lisalynn 98 @ hotmail . com ' ; ' drjuiceplus @ home . com ' ; ' sfaseler @ lg . com ' ; ' rfeldman @ ascend . com ' ; ' j . felkner @ worldnet . att . net ' ; ' jferguso @ mony . com ' ; ' roger . ferguson @ fluor . com ' ; ' jtferrarol @ home . com ' ; ' tfiedler @ flash . net ' ; ' ififfick @ hharchitects . com ' ; ' davidfinley 82 @ yahoo . com ' ; ' duke . fisher @ wcom . com ' ; ' j _ fishero @ yahoo . com ' ; ' dfitzgerald @ mesquiteisd . org ' ; ' lpfitz @ wt . net ' ; ' 102372 . 2423 @ compuserve . com ' ; ' fleck @ concentric . net ' ; ' jannet @ dallas . net ' ; ' fleitman @ msn . com ' ; ' samf @ dallas . net ' ; ' rjflorio @ worldnet . att . net ' ; ' gulfview @ gateway . net ' ; ' d - forbes @ rtis . ray . com ' ; ' bgfort @ earthlink . net ' ; ' clfoster @ airmail . net ' ; ' r . foster @ prelude . com ' ; ' gfoyt @ hdrinc . com ' ; ' sfrancis @ everdream . com ' ; ' halgodal @ flash . net ' ; ' hedgehogracing @ msn . com ' ; ' steve . french @ aggies . org ' ; ' jfreytag @ airmail . net ' ; ' blakef @ msn . com ' ; ' michael . froman @ octel . com ' ; ' afruhling @ metasolv . com ' ; ' fuentes @ noval . net ' ; ' hiroko @ rsn . hp . com ' ; ' fulkfamily @ home . com ' ; ' ron . fuqua @ usa . alcatel . com ' ; ' debra . galarde @ eds . com ' ; ' txhoss @ ix . netcom . com ' ; ' jared . galloway @ fnc . fujitsu . com ' ; ' aubree . garrett @ fnc . fujitsu . com ' ; ' toniandmikeg @ home . com ' ; ' cwgary @ ont . com ' ; ' 2 ags @ flash . net ' ; ' sgaster @ kpmg . com ' ; ' zgoner @ airmail . net ' ; ' dgedeon @ vectrix . com ' ; ' tara . gedeon @ brannforbes . com ' ; ' jcjones @ rsn . hp . com ' ; ' tageo @ mindspring . com ' ; ' tgeorge @ flash . net ' ; ' teresagill @ email . com ' ; ' rglover @ halff . com ' ; ' dfglynnl @ msn . com ' ; ' mgolaboff @ eqrworld . com ' ; ' judie _ good @ yahoo . com ' ; ' gorski @ aggies . com ' ; ' algough @ yahoo . com ' ; ' neilgould @ usa . net ' ; ' sallsgraham @ hotmail . com ' ; ' pgranier @ portal . com ' ; ' begrant @ flash . net ' ; ' rgrantham @ worldnet . att . net ' ; ' tgravett @ wans . net ' ; ' chris _ greer @ hp . com ' ; ' hgreer @ alldata . net ' ; ' chrisg @ micrografx . com ' ; ' donindfw @ ix . netcom . com ' ; ' dan @ productcentre . com ' ; ' jgroce @ lasercomm - inc . com ' ; ' juggernaut @ connect . net ' ; ' katie _ gruebel @ hotmail . com ' ; ' amynurse @ hotmail . com ' ; ' bag 2 @ airmail . net ' ; ' kenneth _ guest @ hp . com ' ; ' jgump @ mail . arco . com ' ; ' wylie . gunter @ eds . com ' ; ' tim . gutschlag @ fnc . fujitsu . com ' ; ' guzmans @ home . com ' ; ' cherihaby @ home . com ' ; ' julie _ halloran @ yahoo . com ' ; ' chaltom @ conedrive . textron . com ' ; ' hamelb 21 @ ont . com ' ; ' talana 99 @ hotmail . com ' ; ' greg . hanks @ hanksbrokerage . com ' ; ' rharbin @ aris . com ' ; ' carrie . l . hardy @ fritolay . com ' ; ' scott _ harkins @ msn . com ' ; ' jharper @ flash . net ' ; ' jharrington @ sagetelecom . net ' ; ' roynteri @ mail . com ' ; ' steveharrod @ msn . com ' ; ' hartfield @ ti . com ' ; ' terry . k . hartzog @ us . arthurandersen . com ' ; ' kharvey @ pcrrent . com ' ; ' marji . j . harvey @ mail . sprint . com ' ; ' b - haskettl @ ti . com ' ; ' kelly _ hayes @ harwoodmarketing . com ' ; ' mhaye @ amkor . com ' ; ' alanh @ alliancearch . com ' ; ' mheath @ nextlink . com ' ; ' mheffner @ home . com ' ; ' jets @ ti . com ' ; ' glenn @ hc - cpa . com ' ; ' toddmel @ texoma . net ' ; ' kimberly . henderson @ ey . com ' ; ' dah 85 @ mindspring . com ' ; ' shenley @ flash . net ' ; ' rahennessy @ earthlink . com ' ; ' jherblin @ onramp . net ' ; ' carynlynn @ msn . com ' ; ' nascar @ mikeh . net ' ; ' travis @ herringangus . com ' ; ' anandted @ msn . com ' ; ' dherron @ pisd . edu ' ; ' mitchherzog @ yahoo . com ' ; ' sc _ hester @ hotmail . com ' ; ' jheye @ psp . com ' ; ' mhickox @ fiskrob . com ' ; ' lori @ efficient . com ' ; ' phinojos @ micro . honeywell . com ' ; ' d . hirt @ dialogic . com ' ; ' danetami @ airmail . net ' ; ' randyhobert @ msn . com ' ; ' blakekimhodge @ yahoo . com ' ; ' will @ . com ' ; ' choldrid @ airmail . net ' ; ' jnh @ ti . com ' ; ' tholman @ gte . net ' ; ' sholmeso 0 @ msn . com ' ; ' jholstea @ jpi . com ' ; ' sholton @ ticnet . com ' ; ' holyoak @ flash . net ' ; ' phorton @ usa . alcatel . com ' ; ' scott @ horton . net ' ; ' thowes @ mail . arco . com ' ; ' chad @ tice . com ' ; ' hugghins @ gte . net ' ; ' jhummel @ memc . com ' ; ' markhunt @ bigfoot . com ' ; ' thehurd @ hex . net ' ; ' b - hutcheson @ ti . com ' ; ' j . r . iacoponelli @ mciworld . com ' ; ' billirish @ hotmail . com ' ; ' czjkjj @ msn . com ' ; ' pat . jackson @ fnc . fujitsu . com ' ; ' sjackson @ opsos . net ' ; ' ararat @ flash . net ' ; ' stevejames @ home . com ' ; ' chellejanow @ hotmail . com ' ; ' asmith _ scuba @ yahoo . com ' ; ' bjehu @ yahoo . com ' ; ' ashlea _ jenkins @ hotmail . com ' ; ' cjenson @ flash . net ' ; ' mljideas @ home . com ' ; ' slj @ waymark . net ' ; ' rjolly _ 1 @ yahoo . com ' ; ' bsjones 50 @ hotmail . com ' ; ' craig - charlottejones @ worldnet . att . net ' ; ' danny @ lanyx . com ' ; ' mattjones @ ccgmail . com ' ; ' wjones @ clearsail . net ' ; ' sjordan 3 @ compuserve . com ' ; ' ryanjust @ hotmail . com ' ; ' chip @ cscfinancial . com ' ; ' lkcbsl @ home . com ' ; ' makall 5 @ flash . net ' ; ' twk @ msg . ti . com ' ; ' mkaplan @ augustmail . com ' ; ' ckarlik @ swbell . net ' ; ' shafia 30 @ hotmail . com ' ; ' mlkawas @ hotmail . com ' ; ' chipk @ nortel . com ' ; ' markkelley _ wurzburg @ yahoo . com ' ; ' mkelly 2575 @ juno . com ' ; ' danken 8765 @ home . com ' ; ' wolfcamp @ hotmail . com ' ; ' mjkereluk @ msn . com ' ; ' ckerley @ apclink . com ' ; ' lkerr @ evl . net ' ; ' r . kessel @ ssss . com ' ; ' dkessler @ waymark . net ' ; ' mkessner @ hotmail . com ' ; ' troykey @ peoplepc . com ' ; ' akilpatrick @ kurion . com ' ; ' kings 2 @ flash . net ' ; ' kingsr @ home . com ' ; ' jkingston @ ti . com ' ; ' skirchner @ worldnet . att . net ' ; ' chuck @ digitalpilot . com ' ; ' michael . kleppe @ ericsson . com ' ; ' jklouda @ flash . net ' ; ' dennis _ kniery @ hp . com ' ; ' sschulz @ mail . smu . edu ' ; ' lakohler @ raytheon . com ' ; ' james . kornegay @ eds . com ' ; ' knrkrause @ aol . com ' ; ' kckuddes @ altavista . com ' ; ' sakula @ flash . net ' ; ' skutchin @ leaelliott . com ' ; ' bladdusaw @ ti . com ' ; ' 103745 . 342 @ compuserve . com ' ; ' mellake @ yahoo . com ' ; ' paul . lake @ ps . net ' ; ' slakie @ texas . net ' ; ' jplane @ gte . net ' ; ' mlangloys @ aol . com ' ; ' rlanicek @ home . com ' ; ' barrett . lankford @ painewebber . com ' ; ' mlara @ pisd . edu ' ; ' gsl @ msn . com ' ; ' mikepl @ bnr . ca ' ; ' klavergne @ earthling . net ' ; ' winner @ sportsstandings . com ' ; ' mlecrone @ aol . com ' ; ' banglee @ ti . com ' ; ' coyote 97 @ swbell . net ' ; ' robertlee @ poboxes . com ' ; ' j . lemmons @ worldnet . att . net ' ; ' lesliel @ airmail . net ' ; ' lerich @ flash . net ' ; ' rlessmann @ home . com ' ; ' elethe @ gte . net ' ; ' mikelew @ nortelnetworks . com ' ; ' lewisr 691 @ home . com ' ; ' laliefer @ aol . com ' ; ' hkl 5320 @ dcccd . edu ' ; ' gmlz @ msg . ti . com ' ; ' blightsey @ systemdesk . com ' ; ' 74464 . 2612 @ compuserve . com ' ; ' jlind 2402 @ aol . com ' ; ' dlindstrom @ icidallas . com ' ; ' glinebaugh @ prodigy . net ' ; ' eflinhoff @ aol . com ' ; ' the . lisewskys @ prodigy . net ' ; ' mlish @ kennedywilson . com ' ; ' heidident @ aol . com ' ; ' katie 96 ag @ yahoo . com ' ; ' john _ london @ acs - inc . com ' ; ' ro 219 @ aol . com ' ; ' balott @ aol . com ' ; ' wadel @ swbell . net ' ; ' tglovell @ onramp . net ' ; ' tlovell @ ticnet . com ' ; ' rmlowry 4 @ yahoo . com ' ; ' mploya @ ti . com ' ; ' aggie 97 @ hotmail . com ' ; ' jlugo @ rhaaia . com ' ; ' klukshin @ kpmg . com ' ; ' dluna @ raltron . com ' ; ' ped @ nortel . ca ' ; ' clyons @ metasolv . com ' ; ' paulandkarin @ msn . com ' ; ' rlyttons @ aol . com ' ; ' emaas 94 @ yahoo . com ' ; ' spam . bait @ worldnet . att . net ' ; ' neardal @ airmail . net ' ; ' mmachesney @ aol . com ' ; ' netaces @ airmail . net ' ; ' richard . maddox @ mci . com ' ; ' betty . magee @ homesbybetty . com ' ; ' jmagrude @ jpi . com ' ; ' pxm @ msg . ti . com ' ; ' tracemajor @ hotmail . com ' ; ' mmalakoff @ aol . com ' ; ' judy . j . manning @ fritolay . com ' ; ' norris @ mantooth . com ' ; ' marchand _ darryl @ msn . com ' ; ' nrm 2000 @ hotmail . com ' ; ' mike . marino @ usoncology . com ' ; ' branonmarsh @ hotmail . com ' ; ' rmartin @ coserv . net ' ; ' dmason @ highpointtravel . com ' ; ' seanab @ gte . net ' ; ' debm 394 @ aol . com ' ; ' mathews - amy @ yahoo . com ' ; ' ags 84 @ aol . com ' ; ' equestlnm @ excite . com ' ; ' mjmattson @ home . com ' ; ' bmatulal @ airmail . net ' ; ' ilvjesus @ flash . net ' ; ' kmay 4001 @ aol . com ' ; ' cmayber @ pisd . edu ' ; ' jasonmayes @ earthlink . net ' ; ' jimbobq 88 @ aol . com ' ; ' mccaff @ anet - dfw . com ' ; ' bmccainl 62 @ aol . com ' ; ' almac @ wans . net ' ; ' mike . mcdonald @ ey . com ' ; ' dhm @ mcdowelllabel . com ' ; ' tmcevoy @ wordware . com ' ; ' trisheeey @ hotmail . com ' ; ' bmcgrego @ metrogroup . com ' ; ' rmckee @ ti . com ' ; ' jim _ mcmahan @ ctxmort . com ' ; ' bmcmillan @ motion - dynamics . com ' ; ' pmeggs @ aol . com ' ; ' mendezn @ nortelnetworks . com ' ; ' jenabug @ flash . net ' ; ' m _ mentzer @ hotmail . com ' ; ' sandymergen @ hotmail . com ' ; ' smerrill @ flash . net ' ; ' tiffany _ merrill @ yahoo . com ' ; ' jmersiovsky @ metasolv . com ' ; ' emetting @ hntb . com ' ; ' sue _ middleton @ juno . com ' ; ' jbm 326 @ aol . com ' ; ' barbmiller @ qualtx . com ' ; ' michael _ c . _ miller @ ac . com ' ; ' miller @ dallas . net ' ; ' hdjemills @ earthlink . net ' ; ' jmills @ dallas . net ' ; ' dminaldi @ contactdallas . com ' ; ' rminney @ entercon . com ' ; ' mlm @ ti . com ' ; ' jenmizar @ yahoo . com ' ; ' moonaggie @ cs . com ' ; ' jason @ aggies . org ' ; ' pipkins @ gateway . net ' ; ' danny . morris @ mciworld . com ' ; ' jcipolla @ hotmail . com ' ; ' cmorse @ waymark . net ' ; ' aggietx @ swbell . net ' ; ' m _ muecke @ hotmail . com ' ; ' jeff . mundt @ wcom . com ' ; ' amurphy 96 @ hotmail . com ' ; ' jmurphy 4 @ hotmail . com ' ; ' dannym @ churchrealty . com ' ; ' cmyers @ mycon . com ' ; ' greg @ lsil . com ' ; ' jnlzaza @ earthlink . net ' ; ' erinsneedham @ hotmail . com ' ; ' tpneeley @ worldnet . att . net ' ; ' jnelson @ source . com ' ; ' jnerwich @ mindspring . com ' ; ' goonet @ hotmail . com ' ; ' rpnew @ aol . com ' ; ' jeff . newton @ fritolay . com ' ; ' chrisgnichols @ yahoo . com ' ; ' r . niedenfuehr @ worldnet . att . net ' ; ' nielsonc @ sprynet . com ' ; ' rniesen @ ti . com ' ; ' jnobll @ jcpenney . com ' ; ' timcathy @ flash . net ' ; ' merkicpa @ gte . net ' ; ' rnorris @ joefunkconstr . com ' ; ' aggiel @ airmail . net ' ; ' cnorton @ brierley . com ' ; ' janicen @ architeriors . com ' ; ' nnowik @ mhagroup . com ' ; ' toconnor @ varo . com ' ; ' melody . oliver @ eds . com ' ; ' s - oliverl @ ti . com ' ; ' adrienneolsen @ hotmail . com ' ; ' roneal @ ins - inc . com ' ; ' tfonofrio @ aol . com ' ; ' b - orem @ rtis . ray . com ' ; ' jetpilot @ sprintmail . com ' ; ' orr @ caprock . net ' ; ' kwunsch @ ci . garland . tx . us ' ; ' jott @ rsn . hp . com ' ; ' tamc 66 @ aol . com ' ; ' atm 97 @ aol . com ' ; ' powen 94 @ yahoo . com ' ; ' yohanp @ netscape . net ' ; ' palitza @ att . net ' ; ' dpalmer @ pisd . edu ' ; ' cparker @ garlandpower - light . org ' ; ' wanda . parker @ wjpenterprises . com ' ; ' tamu 97 @ airmail . net ' ; ' jpatoskie @ home . com ' ; ' judy . peacock @ worldnet . att . net ' ; ' david . a . pearl @ travelers . com ' ; ' katie @ lifelinehomehealth . com ' ; ' ppedison @ aol . com ' ; ' lpeichel @ nortelnetworks . com ' ; ' mpell @ uswebcks . com ' ; ' dannyp 83 @ gte . net ' ; ' david _ perry @ 3 com . com ' ; ' picardl 999 @ hotmail . com ' ; ' friscoattorney @ aol . com ' ; ' dphillips @ pfsoutsourcing . com ' ; ' cpierce @ lee - eng . com ' ; ' kurtpifer @ hotmail . com ' ; ' stephen _ pilcher @ yahoo . com ' ; ' wpindar 3 @ email . msn . com ' ; ' pingenot @ gte . net ' ; ' pinzon @ nortel . com ' ; ' mwpiper @ onramp . net ' ; ' dpitts @ acm . org ' ; ' ppjp @ airmail . net ' ; ' mplumer @ synhrgy . com ' ; ' randy @ pogueinc . com ' ; ' jerrypoin @ home . com ' ; ' tony . pollacia @ fritolay . com ' ; ' tammypon @ hmhs . com ' ; ' kent @ webdelight . net ' ; ' cporter @ nortelnetworks . com ' ; ' sporter @ texas . net ' ; ' porterfields @ prodigy . net ' ; ' texas _ anm @ yahoo . com ' ; ' poteet @ dmans . com ' ; ' billpowello 4 @ home . com ' ; ' ammy 5 @ aol . com ' ; ' joshp @ thisco . com ' ; ' marykpowl @ syscodallas . com ' ; ' prater 2 @ earthlink . net ' ; ' dprattl @ home . com ' ; ' d - presley @ tamu . edu ' ; ' musicgrl 68 @ aol . com ' ; ' pauld @ homemail . com ' ; ' kpruitt @ gasequipment . com ' ; ' pprzada @ aol . com ' ; ' beckyp @ bmisystems . com ' ; ' impurdy @ 5 pillars . com ' ; ' mrpyatt @ airmail . net ' ; ' jlqjr @ gte . net ' ; ' scradford @ aol . com ' ; ' melissa _ ragan @ richards . com ' ; ' eric . ragle @ cisco - eagle . com ' ; ' maheswaran _ rajasekharan @ i 2 . com ' ; ' kikiaggie @ webcombo . net ' ; ' mramsey @ unitedad . com ' ; ' michael . rasmussen @ ps . net ' ; ' j - read @ tamu . edu ' ; ' jlreadpa @ aol . com ' ; ' reasor @ rsn . hp . com ' ; ' reck @ gateway . net ' ; ' cindy . redman @ eds . com ' ; ' dreed @ is . arco . com ' ; ' reedl 00 @ msn . com ' ; ' tdreed @ airmail . net ' ; ' solutionhr @ aol . com ' ; ' jreeves @ agave . com ' ; ' cremmele @ aol . com ' ; ' rrestivo @ eversoft . com ' ; ' erice 8 @ aol . com ' ; ' sanrice @ aol . com ' ; ' ct _ richard @ hotmail . com ' ; ' mrichard @ arcmail . com ' ; ' krichards @ acsdallas . com ' ; ' paula . g . richmond @ fritolay . com ' ; ' jrickman @ hppclaw . com ' ; ' tlrigby @ home . com ' ; ' kcriggs @ yahoo . com ' ; ' mrightm @ mail . arco . com ' ; ' jriha @ businessobjects . com ' ; ' rrinker @ wtd . net ' ; ' rippees @ swbell . net ' ; ' rippel @ utdallas . edu ' ; ' writchie @ ci . irving . tx . us ' ; ' bradyroberts @ hotmail . com ' ; ' laserbaker @ worldnet . att . net ' ; ' frobert @ aol . com ' ; ' krisaggi @ aol . com ' ; ' ker @ ti . com ' ; ' roco @ nortel . com ' ; ' kjroeker @ airmail . net ' ; ' jimroseo 3 @ home . com ' ; ' suzanne _ ross @ campbellsoup . com ' ; ' jim _ rountree @ logiclsales . com ' ; ' eddie . rueffer @ mci . com ' ; ' srupprecht @ chubb . com ' ; ' jennyr @ wtd . net ' ; ' kimed @ hotmail . com ' ; ' jryan @ uswebcks . com ' ; ' emsalazar 25 @ hotmail . com ' ; ' k - salazarl @ ti . com ' ; ' jlsales @ waymark . net ' ; ' msanchez @ mckinneytexas . org ' ; ' steven . sarkissian @ painwebber . com ' ; ' danna @ nortelnetworks . com ' ; ' tsawyers @ aol . com ' ; ' scheumack @ juno . com ' ; ' dschmidt @ camozzi - usa . com ' ; ' pschmidt @ connect . net ' ; ' tammyms @ yahoo . com ' ; ' nathan . schockmel @ usa . alcatel . com ' ; ' kschoenhals @ metasolv . com ' ; ' schuelerjs @ aol . com ' ; ' diana _ p _ seal @ email . mobil . com ' ; ' pkemper @ 3 dfx . com ' ; ' sherri . seeger @ wylieisd . net ' ; ' maseeley @ avaya . com ' ; ' tseely @ attglobal . net ' ; ' rshackelford @ home . com ' ; ' shannons @ websurfer . net ' ; ' jtshannon @ ticnet . com ' ; ' loren . sharkey @ brinker . com ' ; ' rehan @ computer . org ' ; ' gryffynn @ aol . com ' ; ' xosloren @ ti . com ' ; ' roger . shellenberger @ exscol . exch . eds . com ' ; ' kshelton @ amfm . com ' ; ' samleannshields @ aol . com ' ; ' sbshin @ evl . net ' ; ' alsikes @ pbsj . com ' ; ' glenn _ silva @ gmaccm . com ' ; ' frank . silva @ industrialrisk . com ' ; ' simmonds @ marykay . com ' ; ' atmrick @ aol . com ' ; ' isivin @ aol . com ' ; ' rskaggs @ hksinc . com ' ; ' bskalberg @ aol . com ' ; ' todd @ nkn . net ' ; ' dsmart @ dttus . com ' ; ' amy . l . smith @ eds . com ' ; ' egsmith @ home . com ' ; ' john _ charles _ smith @ compuserve . com ' ; ' john - h - smith @ raytheon . com ' ; ' ksmith @ kma - rjfs . com ' ; ' shanda @ wans . net ' ; ' michael . smith @ usa . alcatel . com ' ; ' rjsmith @ minutemaid . com ' ; ' rsmith @ metasolv . com ' ; ' dick _ smith @ pagenet . com ' ; ' agent _ maroon @ hotmail . com ' ; ' enviropure @ home . com ' ; ' unclewil @ home . com ' ; ' jsmitherman @ cinemark . com ' ; ' jim _ snow @ millipore . com ' ; ' gpsparks @ hotmail . com ' ; ' tspo 92891 @ aol . com ' ; ' dspencer @ dbssystems . com ' ; ' lspielel @ txu . com ' ; ' txagl 987 @ aol . com ' ; ' g - stanford @ raytheon . com ' ; ' petgeoguru @ hotmail . com ' ; ' jstara @ arcmail . com ' ; ' kgstavin @ garlandisd . net ' ; ' tbstebbins @ aol . com ' ; ' jsteck @ ti . com ' ; ' steffler @ mindspring . com ' ; ' gsteglich @ home . com ' ; ' shane @ computer . org ' ; ' sastephen @ home . com ' ; ' dereks @ us . ibm . com ' ; ' tsteudtner @ aol . com ' ; ' jill . stevens @ risd . org ' ; ' jnelwyn @ aol . com ' ; ' dons @ gwmail . plano . gov ' ; ' mstewart 70 @ aol . com ' ; ' pstewart 86 @ hotmail . com ' ; ' rastewartl 2 @ hotmail . com ' ; ' msticken @ airmail . net ' ; ' cstockmoe @ yahoo . com ' ; ' k - stokes @ tamu . edu ' ; ' michael _ stone @ nt . com ' ; ' mcstrietzel @ home . com ' ; ' staceys @ omassociates . com ' ; ' sstroth @ glitsch . com ' ; ' h - r . strozewski @ worldnet . att . net ' ; ' astryker @ swbell . net ' ; ' macecs @ hotmail . com ' ; ' smsturgeon @ kpmg . com ' ; ' sullivan 22 @ home . com ' ; ' normas @ airmail . net ' ; ' wswanson @ cyberramp . net ' ; ' rtank 20 @ aol . com ' ; ' matt _ tanner @ txu . com ' ; ' ftargac @ hotmail . com ' ; ' taylorgr @ nortel . com ' ; ' taylorl @ airmail . net ' ; ' aggierob @ hotmail . com ' ; ' teresa . taylor @ st . com ' ; ' ticaw @ hotmail . com ' ; ' wst @ flash . net ' ; ' caceett @ hotmail . com ' ; ' punt 3442 @ aol . com ' ; ' chris . t @ prodigy . net ' ; ' denise . thatcher @ eds . com ' ; ' mjthed @ earthlink . net ' ; ' brandon . theis @ eds . com ' ; ' steve _ thelen @ cushwake . com ' ; ' arthur . thomas @ ace - ina . com ' ; ' tthomas @ cooperinst . org ' ; ' dthomps 2 @ pisd . edu ' ; ' nthompson @ swst . com ' ; ' psthompson @ mindspring . com ' ; ' rthompso @ kofax . com ' ; ' tierney _ thompson @ winston - school . org ' ; ' b - tinker @ ti . com ' ; ' tipp @ airmail . net ' ; ' atokarz @ usa . alcatel . com ' ; ' bevtoney @ aol . com ' ; ' kstowery @ mindspring . com ' ; ' patrick . traubert @ tripointglobal . com ' ; ' heidigigem 96 @ yahoo . com ' ; ' tiffanytrox @ yahoo . com ' ; ' dddtruitt @ juno . com ' ; ' tschetter @ worldnet . att . net ' ; ' 9 mtucker @ home . com ' ; ' oxymomloree @ aol . com ' ; ' cturner @ entest . net ' ; ' aisdal @ aol . com ' ; ' rachturney @ yahoo . com ' ; ' gulteig @ starrunner . net ' ; ' gutay @ airmail . net ' ; ' hutay @ yahoo . com ' ; ' valls @ earthlink . net ' ; ' hvanpelt @ msn . net ' ; ' dwv @ vanderburg . org ' ; ' timv @ cheerful . com ' ; ' r - cvaughn @ juno . com ' ; ' annette . vela @ homecomings . com ' ; ' jvetkoetter @ pipeline . com ' ; ' diane _ vetter @ hotmail . com ' ; ' vicem @ hdvest . com ' ; ' jennifer @ vilches . org ' ; ' pvilches @ home . com ' ; ' spvill @ flash . net ' ; ' ssv @ attglobal . net ' ; ' kristi . l . vitek @ fritolay . com ' ; ' voltin @ airmail . net ' ; ' wagso 0 @ yahoo . com ' ; ' walessc @ nortelnetworks . com ' ; ' bwalker @ fmtinv . com ' ; ' brian . walker @ exchange - point . com ' ; ' deanwalker @ computer . org ' ; ' ken . walker @ mscsoftware . com ' ; ' shannon . wallace @ usa . net ' ; ' b _ wallace @ prodigy . net ' ; ' wwallenl @ airmail . net ' ; ' mkwalle @ yahoo . com ' ; ' twaller @ excite . com ' ; ' drwaller @ hotmail . com ' ; ' maxwalters @ worldnet . att . net ' ; ' kwalzel @ cisco . com ' ; ' julie . warden @ mhmr . state . tx . us ' ; ' warner @ ont . com ' ; ' watersco @ flash . net ' ; ' julie . watkins @ eds . com ' ; ' apwo 397 @ juno . com ' ; ' patricia . watsono 2 @ ey . com ' ; ' jwebb @ dalsemi . com ' ; ' jkwebb 41 @ gateway . net ' ; ' debbiew @ mciworld . com ' ; ' robin - w @ juno . com ' ; ' sally _ welch @ excite . com ' ; ' twelch @ nortelnetworks . com ' ; ' awaller @ csc . com ' ; ' gregwemhoener @ home . com ' ; ' susanwempe @ hotmail . com ' ; ' jwest 78 @ aol . com ' ; ' mike . west @ usa . alcatel . com ' ; ' joannwest @ earthlink . net ' ; ' mweynand @ flash . net ' ; ' weynandken @ johndeere . com ' ; ' mweynand @ flash . net ' ; ' mmw @ airmail . net ' ; ' ewheal @ jcpenney . com ' ; ' swhite @ tx . pathnet . net ' ; ' txag 93 sw @ flash . net ' ; ' chris @ iex . com ' ; ' wiegard @ nortel . com ' ; ' cindyw @ pobox . com ' ; ' jbouldin @ teleteam . com ' ; ' mike @ paragon - tx . com ' ; ' rtwilkinsn @ aol . com ' ; ' jerriw @ arn . net ' ; ' joeaggie 93 @ msn . com ' ; ' kristilw @ swbell . net ' ; ' a 50 @ flash . net ' ; ' rkwbdw 580 @ cs . com ' ; ' kswccw @ swbell . net ' ; ' designpath @ sprynet . com ' ; ' drw 58 ag @ aol . com ' ; ' wilsonaggies @ home . com ' ; ' normabautista @ worldnet . att . net ' ; ' skisheri @ aol . com ' ; ' emajo . wilson @ gte . net ' ; ' jenkonquin @ aol . com ' ; ' wvicw @ aol . com ' ; ' teresa . wood @ st . com ' ; ' lwood 963 @ flash . net ' ; ' tcwoolley @ writeme . com ' ; ' sworsham @ supermovers . com ' ; ' brad _ worth @ csicontrols . com ' ; ' wrightson . family @ gte . net ' ; ' dwu @ tqtx . com ' ; ' dlwylie @ swbell . net ' ; ' christa . yakel @ sap - ag . de ' ; ' yarbrough _ james @ hotmail . com ' ; ' suzan @ guyyork . com ' ; ' karen _ znoj @ merck . com ' subject : \" red , white and blue out \" subject : the osu game and aggie spirit this just in ags ! if you are going to the osu game on sept 22 , a red , white & blue out is being planned , just like the maroon out games for the osu game . ags , what better statement can we aggies make , than to celebrate the love and support for our country ' s freedom , and our patriotic nature , than this way : imagine . . . the fightin ' texas aggie band playing \" the star spangled banner , \" playing military drills as they walk around the stadium , and we celebrate our love for our country , and our support for all the heroes , alive and deceased . color assignments are as follows : 3 rd deck : red 2 nd deck : white lst deck : blue pass the word on . . . . we have 1 1 / 2 weeks ! ! the spirit of america , and the aggie spirit is still alive . god bless america , the free nation . pass it on .\n"
     ]
    }
   ],
   "source": [
    "# посмоторим на самый длинный текст, кажется что имеет смысл как-то выкидывать почты\n",
    "print(max_tokens[-1][1])"
   ]
  },
  {
   "cell_type": "code",
   "execution_count": 91,
   "id": "extended-switzerland",
   "metadata": {},
   "outputs": [
    {
     "name": "stdout",
     "output_type": "stream",
     "text": [
      "online pharxmacy 80 % off all meds disscount phafrmacy onlsine ! ( grasnd opegning , 80 % off all meds , orfder today at your doorstep tomorrow ! ) weisght lorss meridia mesns heablth viagra visagra st suzper visagra ( ciaslis ) pazin relsief ulztram valisum xadnax prolzac musscle relawxers soma stsop smtoking zyban asnti depreeessant prozac xansax varlium pasxil bypsass all the long lines , place your ordder discgreetly now cldick hesre eagle relaxation leaden madras meson mitosis quadrant congratulatory salaam transferred flatulent statesmen credential biota horoscope banister tampon edit superb biochemic legacy polemic cavern , euridyce yea broomcorn kinesic acquisitive invidious bridegroom stipulate earthquake twit brendan edmund togs heretofore pop abhorred - emotional debacle mesmeric amorous swamp quirt confront huntley cochrane calculable godparent embargoes thelma thought . dent massey buzzing burdock case degradation explore startle humble lieutenant fletcher durrell beman fund novelty crania pluperfect prick furnace , alone ambulate hayward redhead stumpage instant steppe gecko triple washbowl tonk canopy cyclist batchelder irremovable calgary clobber yokel female degeneracy cradle bramble poem theta benefit continuo mig . integrate debug cockcrow azimuthal profound crib silver congratulate extravaganza loudspeaker pilewort , vera committeemen shove zeroes hendricks persistent dashboard catherine emma apace sacrifice conciliatory . sri osborn dang denture confrere crankcase polymerase sprang chandelier procedure darpa charybdis controller gatekeep nave roster , dosage afloat conversion dosage respecter compendia myrrh stock bleed happenstance influential kenton boatload defensive cottonwood quasar canaan appall proletariat metabole saloonkeep nitrate demagnify gallantry onlook wink dovekie platelet without choral chummy thruway wilson vt anger scrap baseboard buoy unchristian bender perforate bronco chalcocite dupe dreyfuss prosaic vandenberg cloudburst needham cognitive rascal curricular bamako cryptogram enfant . eagle relaxation leaden madras meson mitosis quadrant congratulatory salaam transferred flatulent statesmen credential biota horoscope banister tampon edit superb biochemic legacy polemic cavern , euridyce yea broomcorn kinesic acquisitive invidious bridegroom stipulate earthquake twit brendan edmund togs heretofore pop abhorred - emotional debacle mesmeric amorous swamp quirt confront huntley cochrane calculable godparent embargoes thelma thought . dent massey buzzing burdock case degradation explore startle humble lieutenant fletcher durrell beman fund novelty crania pluperfect prick furnace , alone ambulate hayward redhead stumpage instant steppe gecko triple washbowl tonk canopy cyclist batchelder irremovable calgary clobber yokel female degeneracy cradle bramble poem theta benefit continuo mig . integrate debug cockcrow azimuthal profound crib silver congratulate extravaganza loudspeaker pilewort , vera committeemen shove zeroes hendricks persistent dashboard catherine emma apace sacrifice conciliatory . sri osborn dang denture confrere crankcase polymerase sprang chandelier procedure darpa charybdis controller gatekeep nave roster , dosage afloat conversion dosage respecter compendia myrrh stock bleed happenstance influential kenton boatload defensive cottonwood quasar canaan appall proletariat metabole saloonkeep nitrate demagnify gallantry onlook wink dovekie platelet without choral chummy thruway wilson vt anger scrap baseboard buoy unchristian bender perforate bronco chalcocite dupe dreyfuss prosaic vandenberg cloudburst needham cognitive rascal curricular bamako cryptogram enfant . statesmen credential biota horoscope banister tampon edit superb biochemic legacy polemic cavern , euridyce yea broomcorn kinesic acquisitive invidious bridegroom stipulate earthquake twit brendan edmund togs heretofore pop abhorred - emotional debacle mesmeric amorous swamp quirt confront huntley cochrane calculable godparent embargoes thelma thought . dent massey buzzing burdock case degradation explore startle humble lieutenant fletcher durrell beman fund novelty crania pluperfect prick furnace , alone ambulate hayward redhead stumpage instant steppe gecko triple washbowl tonk canopy cyclist batchelder irremovable calgary clobber yokel female degeneracy cradle bramble poem theta benefit continuo mig . integrate debug cockcrow azimuthal profound crib silver congratulate extravaganza loudspeaker pilewort , vera committeemen shove zeroes hendricks persistent dashboard catherine emma apace sacrifice conciliatory . sri osborn dang denture confrere crankcase polymerase sprang chandelier procedure darpa charybdis controller gatekeep nave roster , dosage afloat conversion dosage respecter compendia myrrh stock bleed happenstance influential kenton boatload defensive cottonwood quasar canaan appall proletariat metabole saloonkeep nitrate demagnify gallantry onlook wink dovekie platelet without choral chummy thruway wilson vt anger scrap baseboard buoy unchristian bender perforate bronco chalcocite dupe dreyfuss prosaic vandenberg cloudburst needham cognitive rascal curricular bamako cryptogram enfant . eagle relaxation leaden madras meson mitosis quadrant congratulatory salaam transferred flatulent statesmen credential biota horoscope banister tampon edit superb biochemic legacy polemic cavern , euridyce yea broomcorn kinesic acquisitive invidious bridegroom stipulate earthquake twit brendan edmund togs heretofore pop abhorred - emotional debacle mesmeric amorous swamp quirt confront huntley cochrane calculable godparent embargoes thelma thought . dent massey buzzing burdock case degradation explore startle humble lieutenant fletcher durrell beman fund novelty crania pluperfect prick furnace , alone ambulate hayward redhead stumpage instant steppe gecko triple washbowl tonk canopy cyclist batchelder irremovable calgary clobber yokel female degeneracy cradle bramble poem theta benefit continuo mig . integrate debug cockcrow azimuthal profound crib silver congratulate extravaganza loudspeaker pilewort , vera committeemen shove zeroes hendricks persistent dashboard catherine emma apace sacrifice conciliatory . sri osborn dang denture confrere crankcase polymerase sprang chandelier procedure darpa charybdis controller gatekeep nave roster , dosage afloat conversion dosage respecter compendia myrrh stock bleed happenstance influential kenton boatload defensive cottonwood quasar canaan appall proletariat metabole saloonkeep nitrate demagnify gallantry onlook wink dovekie platelet without choral chummy thruway wilson vt anger scrap baseboard buoy unchristian bender perforate bronco chalcocite dupe dreyfuss prosaic vandenberg cloudburst needham cognitive rascal curricular bamako cryptogram enfant . afloat conversion dosage respecter compendia myrrh stock bleed happenstance influential kenton boatload defensive cottonwood quasar canaan appall proletariat metabole saloonkeep nitrate demagnify gallantry onlook wink dovekie platelet without choral chummy thruway wilson vt anger scrap baseboard buoy unchristian bender perforate bronco chalcocite dupe dreyfuss prosaic vandenberg cloudburst needham cognitive rascal curricular bamako cryptogram enfant . eagle relaxation leaden madras meson mitosis quadrant congratulatory salaam transferred flatulent statesmen credential biota horoscope banister tampon edit superb biochemic legacy polemic cavern , euridyce yea broomcorn kinesic acquisitive invidious bridegroom stipulate earthquake twit brendan edmund togs heretofore pop abhorred - emotional debacle mesmeric amorous swamp quirt confront huntley cochrane calculable godparent embargoes thelma thought . dent massey buzzing burdock case degradation explore startle humble lieutenant fletcher durrell beman fund novelty crania pluperfect prick furnace , alone ambulate hayward redhead stumpage instant steppe gecko triple washbowl tonk canopy cyclist batchelder irremovable calgary clobber yokel female degeneracy cradle bramble poem theta benefit continuo mig . integrate debug cockcrow azimuthal profound crib silver congratulate extravaganza loudspeaker pilewort , vera committeemen shove zeroes hendricks persistent dashboard catherine emma apace sacrifice conciliatory . sri osborn dang denture confrere crankcase polymerase sprang chandelier procedure darpa charybdis controller gatekeep nave roster , dosage afloat conversion dosage respecter compendia myrrh stock bleed happenstance influential kenton boatload defensive cottonwood quasar canaan appall proletariat metabole saloonkeep nitrate demagnify gallantry onlook wink dovekie platelet without choral chummy thruway wilson vt anger scrap baseboard buoy unchristian bender perforate bronco chalcocite dupe dreyfuss prosaic vandenberg cloudburst needham cognitive rascal curricular bamako cryptogram enfant . statesmen credential biota horoscope banister tampon edit superb biochemic legacy polemic cavern , euridyce yea broomcorn kinesic acquisitive invidious bridegroom stipulate earthquake twit brendan edmund togs heretofore pop abhorred - emotional debacle mesmeric amorous swamp quirt confront huntley cochrane calculable godparent embargoes thelma thought . dent massey buzzing burdock case degradation explore startle humble lieutenant fletcher durrell beman fund novelty crania pluperfect prick furnace , alone ambulate hayward redhead stumpage instant steppe gecko triple washbowl tonk canopy cyclist batchelder irremovable calgary clobber yokel female degeneracy cradle bramble poem theta benefit continuo mig . integrate debug cockcrow azimuthal profound crib silver congratulate extravaganza loudspeaker pilewort , vera committeemen shove zeroes hendricks persistent dashboard catherine emma apace sacrifice conciliatory . sri osborn dang denture confrere crankcase polymerase sprang chandelier procedure darpa charybdis controller gatekeep nave roster , dosage afloat conversion dosage respecter compendia myrrh stock bleed happenstance influential kenton boatload defensive cottonwood quasar canaan appall proletariat metabole saloonkeep nitrate demagnify gallantry onlook wink dovekie platelet without choral chummy thruway wilson vt anger scrap baseboard buoy unchristian bender perforate bronco chalcocite dupe dreyfuss prosaic vandenberg cloudburst needham cognitive rascal curricular bamako cryptogram enfant . eagle relaxation leaden madras meson mitosis quadrant congratulatory salaam transferred flatulent statesmen credential biota horoscope banister tampon edit superb biochemic legacy polemic cavern , euridyce yea broomcorn kinesic acquisitive invidious bridegroom stipulate earthquake twit brendan edmund togs heretofore pop abhorred - emotional debacle mesmeric amorous swamp quirt confront huntley cochrane calculable godparent embargoes thelma thought . dent massey buzzing burdock case degradation explore startle humble lieutenant fletcher durrell beman fund novelty crania pluperfect prick furnace , alone ambulate hayward redhead stumpage instant steppe gecko triple washbowl tonk canopy cyclist batchelder irremovable calgary clobber yokel female degeneracy cradle bramble poem theta benefit continuo mig . integrate debug cockcrow azimuthal profound crib silver congratulate extravaganza loudspeaker pilewort , vera committeemen shove zeroes hendricks persistent dashboard catherine emma apace sacrifice conciliatory . sri osborn dang denture confrere crankcase polymerase sprang chandelier procedure darpa charybdis controller gatekeep nave roster , dosage afloat conversion dosage respecter compendia myrrh stock bleed happenstance influential kenton boatload defensive cottonwood quasar canaan appall proletariat metabole saloonkeep nitrate demagnify gallantry onlook wink dovekie platelet without choral chummy thruway wilson vt anger scrap baseboard buoy unchristian bender perforate bronco chalcocite dupe dreyfuss prosaic vandenberg cloudburst needham cognitive rascal curricular bamako cryptogram enfant . madras meson mitosis quadrant congratulatory salaam transferred flatulent statesmen credential biota horoscope banister tampon edit superb biochemic legacy polemic cavern , euridyce yea broomcorn kinesic acquisitive invidious bridegroom stipulate earthquake twit brendan edmund togs heretofore pop abhorred - emotional debacle mesmeric amorous swamp quirt confront huntley cochrane calculable godparent embargoes thelma thought . dent massey buzzing burdock case degradation explore startle humble lieutenant fletcher durrell beman fund novelty crania pluperfect prick furnace , alone ambulate hayward redhead stumpage instant steppe gecko triple washbowl tonk canopy cyclist batchelder irremovable calgary clobber yokel female degeneracy cradle bramble poem theta benefit continuo mig . integrate debug cockcrow azimuthal profound crib silver congratulate extravaganza loudspeaker pilewort , vera committeemen shove zeroes hendricks persistent dashboard catherine emma apace sacrifice conciliatory . sri osborn dang denture confrere crankcase polymerase sprang chandelier procedure darpa charybdis controller gatekeep nave roster , dosage afloat conversion dosage respecter compendia myrrh stock bleed happenstance influential kenton boatload defensive cottonwood quasar canaan appall proletariat metabole saloonkeep nitrate demagnify gallantry onlook wink dovekie platelet without choral chummy thruway wilson vt anger scrap baseboard buoy unchristian bender perforate bronco chalcocite dupe dreyfuss prosaic vandenberg cloudburst needham cognitive rascal curricular bamako cryptogram enfant . eagle relaxation leaden madras meson mitosis quadrant congratulatory salaam transferred flatulent statesmen credential biota horoscope banister tampon edit superb biochemic legacy polemic cavern , euridyce yea broomcorn kinesic acquisitive invidious bridegroom stipulate earthquake twit brendan edmund togs heretofore pop abhorred - emotional debacle mesmeric amorous swamp quirt confront huntley cochrane calculable godparent embargoes thelma thought . dent massey buzzing burdock case degradation explore startle humble lieutenant fletcher durrell beman fund novelty crania pluperfect prick furnace , alone ambulate hayward redhead stumpage instant steppe gecko triple washbowl tonk canopy cyclist batchelder irremovable calgary clobber yokel female degeneracy cradle bramble poem theta benefit continuo mig . integrate debug cockcrow azimuthal profound crib silver congratulate extravaganza loudspeaker pilewort , vera committeemen shove zeroes hendricks persistent dashboard catherine emma apace sacrifice conciliatory . sri osborn dang denture confrere crankcase polymerase sprang chandelier procedure darpa charybdis controller gatekeep nave roster , dosage afloat conversion dosage respecter compendia myrrh stock bleed happenstance influential kenton boatload defensive cottonwood quasar canaan appall proletariat metabole saloonkeep nitrate demagnify gallantry onlook wink dovekie platelet without choral chummy thruway wilson vt anger scrap baseboard buoy unchristian bender perforate bronco chalcocite dupe dreyfuss prosaic vandenberg cloudburst needham cognitive rascal curricular bamako cryptogram enfant . statesmen credential biota horoscope banister tampon edit superb biochemic legacy polemic cavern , euridyce yea broomcorn kinesic acquisitive invidious bridegroom stipulate earthquake twit brendan edmund togs heretofore pop abhorred - emotional debacle mesmeric amorous swamp quirt confront huntley cochrane calculable godparent embargoes thelma thought . dent massey buzzing burdock case degradation explore startle humble lieutenant fletcher durrell beman fund novelty crania pluperfect prick furnace , alone ambulate hayward redhead stumpage instant steppe gecko triple washbowl tonk canopy cyclist batchelder irremovable calgary clobber yokel female degeneracy cradle bramble poem theta benefit continuo mig . integrate debug cockcrow azimuthal profound crib silver congratulate extravaganza loudspeaker pilewort , vera committeemen shove zeroes hendricks persistent dashboard catherine emma apace sacrifice conciliatory . sri osborn dang denture confrere crankcase polymerase sprang chandelier procedure darpa charybdis controller gatekeep nave roster , dosage afloat conversion dosage respecter compendia myrrh stock bleed happenstance influential kenton boatload defensive cottonwood quasar canaan appall proletariat metabole saloonkeep nitrate demagnify gallantry onlook wink dovekie platelet without choral chummy thruway wilson vt anger scrap baseboard buoy unchristian bender perforate bronco chalcocite dupe dreyfuss prosaic vandenberg cloudburst needham cognitive rascal curricular bamako cryptogram enfant . eagle relaxation leaden madras meson mitosis quadrant congratulatory salaam transferred flatulent statesmen credential biota horoscope banister tampon edit superb biochemic legacy polemic cavern , euridyce yea broomcorn kinesic acquisitive invidious bridegroom stipulate earthquake twit brendan edmund togs heretofore pop abhorred - emotional debacle mesmeric amorous swamp quirt confront huntley cochrane calculable godparent embargoes thelma thought . dent massey buzzing burdock case degradation explore startle humble lieutenant fletcher durrell beman fund novelty crania pluperfect prick furnace , alone ambulate hayward redhead stumpage instant steppe gecko triple washbowl tonk canopy cyclist batchelder irremovable calgary clobber yokel female degeneracy cradle bramble poem theta benefit continuo mig . integrate debug cockcrow azimuthal profound crib silver congratulate extravaganza loudspeaker pilewort , vera committeemen shove zeroes hendricks persistent dashboard catherine emma apace sacrifice conciliatory . sri osborn dang denture confrere crankcase polymerase sprang chandelier procedure darpa charybdis controller gatekeep nave roster , dosage afloat conversion dosage respecter compendia myrrh stock bleed happenstance influential kenton boatload defensive cottonwood quasar canaan appall proletariat metabole saloonkeep nitrate demagnify gallantry onlook wink dovekie platelet without choral chummy thruway wilson vt anger scrap baseboard buoy unchristian bender perforate bronco chalcocite dupe dreyfuss prosaic vandenberg cloudburst needham cognitive rascal curricular bamako cryptogram enfant . afloat conversion dosage respecter compendia myrrh stock bleed happenstance influential kenton boatload defensive cottonwood quasar canaan appall proletariat metabole saloonkeep nitrate demagnify gallantry onlook wink dovekie platelet without choral chummy thruway wilson vt anger scrap baseboard buoy unchristian bender perforate bronco chalcocite dupe dreyfuss prosaic vandenberg cloudburst needham cognitive rascal curricular bamako cryptogram enfant . eagle relaxation leaden madras meson mitosis quadrant congratulatory salaam transferred flatulent statesmen credential biota horoscope banister tampon edit superb biochemic legacy polemic cavern , euridyce yea broomcorn kinesic acquisitive invidious bridegroom stipulate earthquake twit brendan edmund togs heretofore pop abhorred - emotional debacle mesmeric amorous swamp quirt confront huntley cochrane calculable godparent embargoes thelma thought . dent massey buzzing burdock case degradation explore startle humble lieutenant fletcher durrell beman fund novelty crania pluperfect prick furnace , alone ambulate hayward redhead stumpage instant steppe gecko triple washbowl tonk canopy cyclist batchelder irremovable calgary clobber yokel female degeneracy cradle bramble poem theta benefit continuo mig . integrate debug cockcrow azimuthal profound crib silver congratulate extravaganza loudspeaker pilewort , vera committeemen shove zeroes hendricks persistent dashboard catherine emma apace sacrifice conciliatory . sri osborn dang denture confrere crankcase polymerase sprang chandelier procedure darpa charybdis controller gatekeep nave roster , dosage afloat conversion dosage respecter compendia myrrh stock bleed happenstance influential kenton boatload defensive cottonwood quasar canaan appall proletariat metabole saloonkeep nitrate demagnify gallantry onlook wink dovekie platelet without choral chummy thruway wilson vt anger scrap baseboard buoy unchristian bender perforate bronco chalcocite dupe dreyfuss prosaic vandenberg cloudburst needham cognitive rascal curricular bamako cryptogram enfant . statesmen credential biota horoscope banister tampon edit superb biochemic legacy polemic cavern , euridyce yea broomcorn kinesic acquisitive invidious bridegroom stipulate earthquake twit brendan edmund togs heretofore pop abhorred - emotional debacle mesmeric amorous swamp quirt confront huntley cochrane calculable godparent embargoes thelma thought . dent massey buzzing burdock case degradation explore startle humble lieutenant fletcher durrell beman fund novelty crania pluperfect prick furnace , alone ambulate hayward redhead stumpage instant steppe gecko triple washbowl tonk canopy cyclist batchelder irremovable calgary clobber yokel female degeneracy cradle bramble poem theta benefit continuo mig . integrate debug cockcrow azimuthal profound crib silver congratulate extravaganza loudspeaker pilewort , vera committeemen shove zeroes hendricks persistent dashboard catherine emma apace sacrifice conciliatory . sri osborn dang denture confrere crankcase polymerase sprang chandelier procedure darpa charybdis controller gatekeep nave roster , dosage afloat conversion dosage respecter compendia myrrh stock bleed happenstance influential kenton boatload defensive cottonwood quasar canaan appall proletariat metabole saloonkeep nitrate demagnify g \n"
     ]
    }
   ],
   "source": [
    "# однако например второе по длине сообщение такое не из-за списка емейлов\n",
    "print(max_tokens[-2][1])"
   ]
  },
  {
   "cell_type": "markdown",
   "id": "extraordinary-complement",
   "metadata": {},
   "source": [
    "Поискав закономернности и в других длинных сообщениях я не нашел каких-то серьезных закономерностей, которые можно было бы легко вычистить правилами, поэтому решил проверить что будет, если просто обрезать письма по длине"
   ]
  },
  {
   "cell_type": "code",
   "execution_count": 92,
   "id": "polish-nothing",
   "metadata": {},
   "outputs": [],
   "source": [
    "texts_lens = [len(tokenizer.encode(text, add_special_tokens=True)) for text in texts]"
   ]
  },
  {
   "cell_type": "code",
   "execution_count": 93,
   "id": "innocent-cleaning",
   "metadata": {},
   "outputs": [
    {
     "data": {
      "text/plain": [
       "[<matplotlib.lines.Line2D at 0x7f0f24231410>]"
      ]
     },
     "execution_count": 93,
     "metadata": {},
     "output_type": "execute_result"
    },
    {
     "data": {
      "image/png": "[encoded data removed]",
      "text/plain": [
       "<Figure size 432x288 with 1 Axes>"
      ]
     },
     "metadata": {
      "needs_background": "light"
     },
     "output_type": "display_data"
    }
   ],
   "source": [
    "# посмоторим на распределение длин, видны наши сверх выдающиеся топы\n",
    "plt.plot(sorted(texts_lens))"
   ]
  },
  {
   "cell_type": "code",
   "execution_count": 94,
   "id": "sufficient-monroe",
   "metadata": {},
   "outputs": [
    {
     "data": {
      "text/plain": [
       "(40.0, 140.29753063497958)"
      ]
     },
     "execution_count": 94,
     "metadata": {},
     "output_type": "execute_result"
    }
   ],
   "source": [
    "np.median(texts_lens), np.mean(texts_lens)"
   ]
  },
  {
   "cell_type": "code",
   "execution_count": 37,
   "id": "official-liver",
   "metadata": {},
   "outputs": [
    {
     "data": {
      "text/plain": [
       "[<matplotlib.lines.Line2D at 0x7f0f2288d590>]"
      ]
     },
     "execution_count": 37,
     "metadata": {},
     "output_type": "execute_result"
    },
    {
     "data": {
      "image/png": "[encoded data removed]",
      "text/plain": [
       "<Figure size 432x288 with 1 Axes>"
      ]
     },
     "metadata": {
      "needs_background": "light"
     },
     "output_type": "display_data"
    }
   ],
   "source": [
    "# посмоторим ближе на точку начала резкого возрастания\n",
    "plt.plot(sorted(texts_lens)[8000:10000])"
   ]
  },
  {
   "cell_type": "code",
   "execution_count": 95,
   "id": "little-battery",
   "metadata": {},
   "outputs": [
    {
     "data": {
      "text/plain": [
       "(10772, 9405)"
      ]
     },
     "execution_count": 95,
     "metadata": {},
     "output_type": "execute_result"
    }
   ],
   "source": [
    "# Определить подходящую длину оказалось затруднительно, \n",
    "# поэтому я решил посмотреть до скольки можно обрезать и при этом не обрезать датасет значительно\n",
    "len(texts_lens), len([el for el in texts_lens if el < 300])"
   ]
  },
  {
   "cell_type": "markdown",
   "id": "injured-broad",
   "metadata": {},
   "source": [
    "Повторим тоже самое с токенизатором из \"классических\" методов, к счастью он ведет себя также"
   ]
  },
  {
   "cell_type": "code",
   "execution_count": 49,
   "id": "removable-bulgarian",
   "metadata": {},
   "outputs": [],
   "source": [
    "with open('texts', 'w') as f:\n",
    "    for el in texts:\n",
    "        f.write(el+'\\n')  \n",
    "\n",
    "model_path='tmp'\n",
    "yttm.BPE.train(data='texts', vocab_size=5000, model=model_path)\n",
    "\n",
    "bpe = yttm.BPE(model=model_path)\n",
    "\n",
    "texts_enc = bpe.encode(texts.tolist())\n"
   ]
  },
  {
   "cell_type": "code",
   "execution_count": 50,
   "id": "accomplished-neutral",
   "metadata": {},
   "outputs": [],
   "source": [
    "tmp_lens = [len(el) for el in texts_enc]"
   ]
  },
  {
   "cell_type": "code",
   "execution_count": 55,
   "id": "complete-attention",
   "metadata": {},
   "outputs": [
    {
     "data": {
      "text/plain": [
       "(42.0, 146.795157429571)"
      ]
     },
     "execution_count": 55,
     "metadata": {},
     "output_type": "execute_result"
    }
   ],
   "source": [
    "np.median(tmp_lens), np.mean(tmp_lens)"
   ]
  },
  {
   "cell_type": "code",
   "execution_count": 54,
   "id": "driving-literacy",
   "metadata": {},
   "outputs": [
    {
     "data": {
      "text/plain": [
       "[<matplotlib.lines.Line2D at 0x7f0f24281f90>]"
      ]
     },
     "execution_count": 54,
     "metadata": {},
     "output_type": "execute_result"
    },
    {
     "data": {
      "image/png": "[encoded data removed]",
      "text/plain": [
       "<Figure size 432x288 with 1 Axes>"
      ]
     },
     "metadata": {
      "needs_background": "light"
     },
     "output_type": "display_data"
    }
   ],
   "source": [
    "plt.plot(sorted(tmp_lens))"
   ]
  },
  {
   "cell_type": "code",
   "execution_count": 53,
   "id": "skilled-georgia",
   "metadata": {},
   "outputs": [
    {
     "data": {
      "text/plain": [
       "[<matplotlib.lines.Line2D at 0x7f0f22988890>]"
      ]
     },
     "execution_count": 53,
     "metadata": {},
     "output_type": "execute_result"
    },
    {
     "data": {
      "image/png": "[encoded data removed]",
      "text/plain": [
       "<Figure size 432x288 with 1 Axes>"
      ]
     },
     "metadata": {
      "needs_background": "light"
     },
     "output_type": "display_data"
    }
   ],
   "source": [
    "plt.plot(sorted(tmp_lens)[8000:10000])"
   ]
  },
  {
   "cell_type": "markdown",
   "id": "essential-mission",
   "metadata": {},
   "source": [
    "К сожалению, как показали эксперименты, обрезка текстов даже немного уменьшила метрики, так что решено было ее не использовать"
   ]
  },
  {
   "cell_type": "code",
   "execution_count": null,
   "id": "innovative-mason",
   "metadata": {},
   "outputs": [],
   "source": []
  }
 ],
 "metadata": {
  "kernelspec": {
   "display_name": "Python 3",
   "language": "python",
   "name": "python3"
  },
  "language_info": {
   "codemirror_mode": {
    "name": "ipython",
    "version": 3
   },
   "file_extension": ".py",
   "mimetype": "text/x-python",
   "name": "python",
   "nbconvert_exporter": "python",
   "pygments_lexer": "ipython3",
   "version": "3.7.9"
  }
 },
 "nbformat": 4,
 "nbformat_minor": 5
}